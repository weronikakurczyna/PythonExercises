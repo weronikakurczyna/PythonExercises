{
 "cells": [
  {
   "cell_type": "markdown",
   "metadata": {
    "collapsed": true,
    "pycharm": {
     "name": "#%% md\n"
    }
   },
   "source": [
    "# Przydatne techniki\n",
    "\n",
    "W tym laboratorium główny nacisk zostanie położony na obsługę wejścia/wyjścia, obsługa popularnych formatów w języku Python (_Excel_/_JSON_/_Parquet_) oraz operacje związane przeglądanie plików i katalogów w systemie plików. Język Python jest niezależny od systemu operacyjnego, który definiuje w jaki sposób fizycznie obsługiwane są pliki. Wiele wysiłku włożono w utworzenie warstwy abstrakcji, która pośredniczy w wywoływaniu funkcji systemowych. Z tego też powodu łączenie katalogu i kolejnych podkatalogów wymaga użycia odpowiedniej funkcji, nie zwykłej konkatenacji łańcuchów znaków zawierających kolejne katalogi. Dodatkowo zostaną przedstawione tematy pokrewne, jak obsługa plikowej bazy danych `sqlite` (transakcyjnej i spełniającej zasady _ACID_) przy użyciu _ORM_ (Object-relational mapping), do czego zostanie użyty moduł `SqlAlchemy` oraz serializacja, deserializacja obiektów przy użyciu modułu `pickle`.\n",
    "\n",
    "## System plików\n",
    "\n",
    "Pierwszym przykładem użycia Pythona do obsługi systemu plików będzie rekurencyjne wyświetlenie listy plików. Do tego celu można użyć bardzo przydatnej funkcji `os.walk`, która wyświetla wszystkie pliki i podkatalogi w katalogu podanym w parametrze. Wszystkie nazwy przekazane z funkcji nie zawierają pełnej ścieżki, a jedynie jej relatywną część. W wielu przypadkach potrzebna jest absolutna ścieżka do bieżącego katalogu. Do jej pobrania można użyć wbudowanej funkcji `os.getcwd()` (akronim od _get current working directory_)."
   ]
  },
  {
   "cell_type": "code",
   "execution_count": 18,
   "metadata": {
    "pycharm": {
     "name": "#%%\n"
    }
   },
   "outputs": [
    {
     "name": "stdout",
     "output_type": "stream",
     "text": [
      "C:\\Users\\lukaszstrak\\Dropbox\\Publikacje\\Dydaktyka\\Nowoczesne języki programowania obiektowego II\\collections.ipynb\n",
      "C:\\Users\\lukaszstrak\\Dropbox\\Publikacje\\Dydaktyka\\Nowoczesne języki programowania obiektowego II\\functions.ipynb\n",
      "C:\\Users\\lukaszstrak\\Dropbox\\Publikacje\\Dydaktyka\\Nowoczesne języki programowania obiektowego II\\introduction.ipynb\n",
      "C:\\Users\\lukaszstrak\\Dropbox\\Publikacje\\Dydaktyka\\Nowoczesne języki programowania obiektowego II\\objective_programming.ipynb\n",
      "C:\\Users\\lukaszstrak\\Dropbox\\Publikacje\\Dydaktyka\\Nowoczesne języki programowania obiektowego II\\usefull_techiques.ipynb\n",
      "C:\\Users\\lukaszstrak\\Dropbox\\Publikacje\\Dydaktyka\\Nowoczesne języki programowania obiektowego II\\.idea\\.gitignore\n",
      "C:\\Users\\lukaszstrak\\Dropbox\\Publikacje\\Dydaktyka\\Nowoczesne języki programowania obiektowego II\\.idea\\misc.xml\n",
      "C:\\Users\\lukaszstrak\\Dropbox\\Publikacje\\Dydaktyka\\Nowoczesne języki programowania obiektowego II\\.idea\\modules.xml\n",
      "C:\\Users\\lukaszstrak\\Dropbox\\Publikacje\\Dydaktyka\\Nowoczesne języki programowania obiektowego II\\.idea\\Nowoczesne języki programowania obiektowego II.iml\n",
      "C:\\Users\\lukaszstrak\\Dropbox\\Publikacje\\Dydaktyka\\Nowoczesne języki programowania obiektowego II\\.idea\\workspace.xml\n",
      "C:\\Users\\lukaszstrak\\Dropbox\\Publikacje\\Dydaktyka\\Nowoczesne języki programowania obiektowego II\\.idea\\dictionaries\\lukaszstrak.xml\n",
      "C:\\Users\\lukaszstrak\\Dropbox\\Publikacje\\Dydaktyka\\Nowoczesne języki programowania obiektowego II\\.idea\\inspectionProfiles\\profiles_settings.xml\n",
      "C:\\Users\\lukaszstrak\\Dropbox\\Publikacje\\Dydaktyka\\Nowoczesne języki programowania obiektowego II\\.idea\\inspectionProfiles\\Project_Default.xml\n",
      "C:\\Users\\lukaszstrak\\Dropbox\\Publikacje\\Dydaktyka\\Nowoczesne języki programowania obiektowego II\\.idea\\dictionaries\\lukaszstrak.xml\n",
      "C:\\Users\\lukaszstrak\\Dropbox\\Publikacje\\Dydaktyka\\Nowoczesne języki programowania obiektowego II\\.idea\\inspectionProfiles\\profiles_settings.xml\n",
      "C:\\Users\\lukaszstrak\\Dropbox\\Publikacje\\Dydaktyka\\Nowoczesne języki programowania obiektowego II\\.idea\\inspectionProfiles\\Project_Default.xml\n",
      "C:\\Users\\lukaszstrak\\Dropbox\\Publikacje\\Dydaktyka\\Nowoczesne języki programowania obiektowego II\\.idea\\.gitignore\n",
      "C:\\Users\\lukaszstrak\\Dropbox\\Publikacje\\Dydaktyka\\Nowoczesne języki programowania obiektowego II\\.idea\\misc.xml\n",
      "C:\\Users\\lukaszstrak\\Dropbox\\Publikacje\\Dydaktyka\\Nowoczesne języki programowania obiektowego II\\.idea\\modules.xml\n",
      "C:\\Users\\lukaszstrak\\Dropbox\\Publikacje\\Dydaktyka\\Nowoczesne języki programowania obiektowego II\\.idea\\Nowoczesne języki programowania obiektowego II.iml\n",
      "C:\\Users\\lukaszstrak\\Dropbox\\Publikacje\\Dydaktyka\\Nowoczesne języki programowania obiektowego II\\.idea\\workspace.xml\n",
      "C:\\Users\\lukaszstrak\\Dropbox\\Publikacje\\Dydaktyka\\Nowoczesne języki programowania obiektowego II\\.idea\\dictionaries\\lukaszstrak.xml\n",
      "C:\\Users\\lukaszstrak\\Dropbox\\Publikacje\\Dydaktyka\\Nowoczesne języki programowania obiektowego II\\.idea\\inspectionProfiles\\profiles_settings.xml\n",
      "C:\\Users\\lukaszstrak\\Dropbox\\Publikacje\\Dydaktyka\\Nowoczesne języki programowania obiektowego II\\.idea\\inspectionProfiles\\Project_Default.xml\n"
     ]
    }
   ],
   "source": [
    "from os import getcwd, walk\n",
    "from os.path import join\n",
    "\n",
    "def get_files(folder):\n",
    "    for folderName, sub_folders, files_names in walk(folder):\n",
    "        for file_name in files_names:\n",
    "            print(join(folderName, file_name))\n",
    "        for sub_folder in sub_folders:\n",
    "            get_files(join(folder, sub_folder))\n",
    "\n",
    "get_files(getcwd())"
   ]
  },
  {
   "cell_type": "markdown",
   "metadata": {
    "pycharm": {
     "name": "#%% md\n"
    }
   },
   "source": [
    "W linii 6 została użyta funkcja `join` modułu `os.path`. Służy do konkatenacji wielu folderów, które składają się na pełną ścieżkę.\n",
    "\n",
    "Poniższa lista zawiera zestaw funkcji przydatnych do obsługi plików i katalogów na poziomie systemy plików.\n",
    "\n",
    "| Nazwa funkcji | Opis | Przykład użycia |\n",
    "|-|-|-|\n",
    "| `shutil.copy` | Funkcja umożliwia kopiowanie pojedynczych plików. | `shutil.copy(full_path_src, full_path_dest)` |\n",
    "| `shutil.copytree` | Funkcja umożliwia kopiowanie całych katalogów wraz z zawartością. | `shutil.copytree(path_src, path_dest)` |\n",
    "| `shutil.move` | Funkcja umożliwia zmianę nazwy pliku oraz przenoszenie pliku do innego katalogu. | `shutil.move(path_src, path_dest)` |\n",
    "| `shutil.rmtree` | Funkcja umożliwia kasowanie katalogu wraz z zawartością. | `shutil.rmtree(path)` |\n",
    "| `os.unlink` | Funkcja umożliwia kasowanie pliku. | `shutil.unlink(path)` |\n",
    "| `os.path.splitext` | Zwraca tuple na, którą składa się nazwa pliku oraz jego rozszerzenie. W przypadku, gdy podany plik zawiera pełną ścieżkę, zostanie ona zwrócona jako część nazwy pliku. | `file_name, ext = os.path.splitext(file_name)` |\n",
    "\n",
    "\n",
    "Tworzenie bezpiecznych plików tymczasowych jest bardzo przydatne szczególnie w testach jednostkowych. W języku Python dostępny jest moduł `tempfile`, który znacznie ułatwia tworzenie tego typu plików. Funkcje `mkdtemp` i `mktemp` służą kolejno do tworzenia tymczasowego katalogu i pliku."
   ]
  },
  {
   "cell_type": "code",
   "execution_count": 19,
   "metadata": {
    "pycharm": {
     "name": "#%%\n"
    }
   },
   "outputs": [
    {
     "name": "stdout",
     "output_type": "stream",
     "text": [
      "Saving file to: C:\\Users\\LUKASZ~1\\AppData\\Local\\Temp\\tmp0pmza_f1\n",
      "Success\n"
     ]
    }
   ],
   "source": [
    "from tempfile import mkdtemp\n",
    "from shutil import rmtree\n",
    "from os.path import join\n",
    "temp_dir = mkdtemp()\n",
    "try:\n",
    "    print(f'Saving file to: {temp_dir}')\n",
    "    with open(join(temp_dir, 'file.txt'), 'w+') as f:\n",
    "        f.write('Test')\n",
    "        f.flush()\n",
    "finally:\n",
    "    rmtree(temp_dir)\n",
    "\n",
    "print('Success')"
   ]
  },
  {
   "cell_type": "markdown",
   "metadata": {
    "pycharm": {
     "name": "#%% md\n"
    }
   },
   "source": [
    "W powyższym kodzie to programista jest odpowiedzialny za zwalnianie pliku/katalogu tymczasowego. Moduł `tempfile` umożliwia tworzenie plików, które w momencie opuszczenia bloku kodu, zostaną zwolnione automatycznie."
   ]
  },
  {
   "cell_type": "code",
   "execution_count": 21,
   "metadata": {
    "pycharm": {
     "name": "#%%\n"
    }
   },
   "outputs": [
    {
     "name": "stdout",
     "output_type": "stream",
     "text": [
      "Fle C:\\Users\\LUKASZ~1\\AppData\\Local\\Temp\\tmp82e50cic exists: True\n",
      "Fle C:\\Users\\LUKASZ~1\\AppData\\Local\\Temp\\tmp82e50cic exists: False\n"
     ]
    }
   ],
   "source": [
    "from tempfile import NamedTemporaryFile\n",
    "from os.path import exists\n",
    "\n",
    "file_name = None\n",
    "with NamedTemporaryFile('w+') as f:\n",
    "    f.write('test')\n",
    "    file_name = f.name\n",
    "    print(f'Fle {file_name} exists: {exists(file_name)}')\n",
    "\n",
    "print(f'Fle {file_name} exists: {exists(file_name)}')"
   ]
  },
  {
   "cell_type": "markdown",
   "metadata": {
    "pycharm": {
     "name": "#%% md\n"
    }
   },
   "source": [
    "Dość istotny jest tutaj fakt, że gdy plik zostanie zamknięty funkcją `f.close()`, zostanie skasowany. W przypadku katalogu można użyć klasy `tempfile.TemporaryDirectory`, której schemat użycia jest taki sam.\n",
    "\n",
    "## Obsługa formatów plików\n",
    "\n",
    "### Format `Xlsx`\n",
    "\n",
    "Moduł `openpyxl` pozwala na obsługę formatu plików `xlsx`. Z tego samego modułu korzysta również bardzo popularny moduł `pandas`, który umożliwia unifikację przetwarzania danych bez względu na format źródłowy. Moduł `openpyxl` nie znajduje się na liście modułów standardowych i należy go doinstalować za pomocą polecenia `pip install openpyxl`."
   ]
  },
  {
   "cell_type": "code",
   "execution_count": 42,
   "metadata": {
    "pycharm": {
     "name": "#%%\n"
    }
   },
   "outputs": [
    {
     "name": "stdout",
     "output_type": "stream",
     "text": [
      "Using file: C:\\Users\\LUKASZ~1\\AppData\\Local\\Temp\\tmpuz_wc7rt.xlsx\n",
      "Sheets: ['Sheet', 'test']\n",
      "Filled rows: 3\n",
      "Filled columns: 2\n",
      "Cell: A1: 10\n",
      "Cell: A2: 20\n",
      "Cell: A3: 30\n",
      "Cell: B1: 11\n",
      "Cell: B2: 12\n",
      "Cell: B3: 13\n"
     ]
    }
   ],
   "source": [
    "from openpyxl import Workbook, load_workbook\n",
    "from typing import Dict\n",
    "from tempfile import mktemp\n",
    "from itertools import product\n",
    "from os import unlink\n",
    "\n",
    "def describe(file_name, sheet_name):\n",
    "    wb = load_workbook(file_name)\n",
    "    print(f'Sheets: {wb.sheetnames}')\n",
    "    print(f'Filled rows: {wb[sheet_name].max_row}')\n",
    "    print(f'Filled columns: {wb[sheet_name].max_column}')\n",
    "    for cell in product(['A', 'B'], ['1', '2', '3']):\n",
    "        cell_s = \"\".join(cell)\n",
    "        print(f'Cell: {cell_s}: {wb[sheet_name][cell_s].value}')\n",
    "    # można też użyć\n",
    "    # for coll_obj in list(wb[sheet_name].columns)[0]:\n",
    "    #     print(f'Cell: {coll_obj.value}')\n",
    "    # lub\n",
    "    # wb[sheet_name].cell(row=1, column=1).value\n",
    "\n",
    "def create(data: Dict[str, int], file_name, sheet_name):\n",
    "    wb = Workbook()\n",
    "    sheet = wb.create_sheet(sheet_name)\n",
    "    for cell_key, cell_value in data.items():\n",
    "        sheet[cell_key] = cell_value\n",
    "    wb.save(file_name)\n",
    "\n",
    "file_name = mktemp(suffix='.xlsx')\n",
    "\n",
    "print(f'Using file: {file_name}')\n",
    "\n",
    "try:\n",
    "    data = { 'A1': 10, 'A2': 20, 'A3': 30, 'B1': 11, 'B2': 12, 'B3': 13 }\n",
    "    create(data, file_name, 'test')\n",
    "    describe(file_name, 'test')\n",
    "\n",
    "finally:\n",
    "    unlink(file_name)"
   ]
  },
  {
   "cell_type": "markdown",
   "metadata": {
    "pycharm": {
     "name": "#%% md\n"
    }
   },
   "source": [
    "Przypisując odpowiedniej komórce formułę w postaci łańcucha znaków tj. `sheet['A4'] = '=SUM(A1:A3)'` tworzymy formułę wyliczaną automatycznie. W module `openpyxl.utils` można znaleźć między innymi dwie funkcje konwertujące liczby na litery i odwrotnie, co ułatwia iterowanie między komórkami."
   ]
  },
  {
   "cell_type": "code",
   "execution_count": 36,
   "metadata": {
    "pycharm": {
     "name": "#%%\n"
    }
   },
   "outputs": [
    {
     "name": "stdout",
     "output_type": "stream",
     "text": [
      "Letters:\n",
      "A,B,C,D,E,F,G,H,I,J,K,L,M,N,O,P,Q,R,S,T,U,V,W,X,Y,Z,AA,AB,AC,AD,AE,AF,AG,AH,AI,AJ,AK,AL,AM,AN,AO,AP,AQ,AR,AS,AT,AU,AV,AW,AX,AY,AZ,BA,BB,BC,BD,BE,BF,BG,BH,BI,BJ,BK,BL,BM,BN,BO,BP,BQ,BR,BS,BT,BU,BV,BW,BX,BY,BZ,CA,CB,CC,CD,CE,CF,CG,CH,CI,CJ,CK,CL,CM,CN,CO,CP,CQ,CR,CS,CT,CU\n",
      "1\n",
      "28\n",
      "731\n"
     ]
    }
   ],
   "source": [
    "from openpyxl.utils import get_column_letter, column_index_from_string\n",
    "\n",
    "print('Letters:')\n",
    "print(\",\".join([get_column_letter(i) for i in range(1, 100)]))\n",
    "print(column_index_from_string('A'))\n",
    "print(column_index_from_string('AB'))\n",
    "print(column_index_from_string('ABC'))"
   ]
  },
  {
   "cell_type": "markdown",
   "metadata": {
    "pycharm": {
     "name": "#%% md\n"
    }
   },
   "source": [
    "### Format _JSON_\n",
    "\n",
    "Wczytywanie i zapisywanie formatu _JSON_ polega głównie na operowaniu na słownikach. Funkcja `loads` zwraca słownik na podstawie przekazanego łańcucha znaków w formacie _JSON_. Z kolei funkcja `dumps` zapisuje słownik w tym formacie. Można również użyć funkcji `load` i `dump`, która oczekuje strumienia do pliku zapisanego w formacie _JSON_ (otwarcie strumienia następuje w funkcji `open`)."
   ]
  },
  {
   "cell_type": "code",
   "execution_count": 43,
   "metadata": {
    "pycharm": {
     "name": "#%%\n"
    }
   },
   "outputs": [
    {
     "name": "stdout",
     "output_type": "stream",
     "text": [
      "File name: test\n",
      "Is zipped: False\n",
      "Dumped: {\"file_name\": \"test\", \"is_zipped\": false}\n"
     ]
    }
   ],
   "source": [
    "from json import loads, dumps\n",
    "\n",
    "json_dict = loads('{ \"file_name\": \"test\", \"is_zipped\": false }')\n",
    "print(f'File name: {json_dict[\"file_name\"]}')\n",
    "print(f'Is zipped: {json_dict[\"is_zipped\"]}')\n",
    "print(f'Dumped: {dumps(json_dict)}')"
   ]
  },
  {
   "cell_type": "markdown",
   "metadata": {
    "pycharm": {
     "name": "#%% md\n"
    }
   },
   "source": [
    "Warto w tym miejscu należy zwrócić uwagę na konwersję typów. Wartość typu `bool` w formacie _JSON_ została skonwertowana na odpowiednik w języku Python.\n",
    "\n",
    "### Format _Parquet_\n",
    "\n",
    "Format `Parquet` jest używany m. in. w _Apache Spark_ (_PySpark_) czy module `pandas` i jest jednym z podstawowych formatów w ekosystemie firmy _Apache_. Pod względem struktury jest to format binarny, kolumnowy z silnym typowaniem danych. W bibliotece standardowej nie ma obsługi tego formatu, jednak znajduje się wiele implementacji w `pip`. Przykłady utylizują bibliotekę `fastparquet`, a do tworzenia bibliotekę `pandas`."
   ]
  },
  {
   "cell_type": "code",
   "execution_count": 70,
   "metadata": {
    "pycharm": {
     "name": "#%%\n"
    }
   },
   "outputs": [
    {
     "name": "stdout",
     "output_type": "stream",
     "text": [
      "Using data: {'A': [1, 2, 3, 4], 'B': [6, 7, 8, 9]}\n",
      "Readed columns: ['A', 'B']\n",
      "File info: {'name': 'C:/Users/LUKASZ~1/AppData/Local/Temp/tmpkwxu34tp', 'columns': ['A', 'B'], 'partitions': [], 'rows': 4}\n",
      "Values: 1, 6\n",
      "Values: 2, 7\n",
      "Values: 3, 8\n",
      "Values: 4, 9\n"
     ]
    }
   ],
   "source": [
    "import pandas as pd\n",
    "from tempfile import mktemp\n",
    "from os import unlink\n",
    "from fastparquet import ParquetFile\n",
    "\n",
    "data = { 'A': list(range(1,5)), 'B': list(range(6,10)) }\n",
    "\n",
    "print(f'Using data: {data}')\n",
    "\n",
    "df = pd.DataFrame.from_dict(data)\n",
    "\n",
    "temp_file = mktemp()\n",
    "\n",
    "try:\n",
    "    df.to_parquet(temp_file, compression='GZIP')\n",
    "    pf = ParquetFile(temp_file)\n",
    "    print(f'Readed columns: {pf.columns}')\n",
    "    print(f'File info: {pf.info}')\n",
    "    df = pf.to_pandas()\n",
    "    for value_a, value_b in df.itertuples(index=False):\n",
    "        print(f'Values: {value_a}, {value_b}')\n",
    "\n",
    "finally:\n",
    "    unlink(temp_file)"
   ]
  },
  {
   "cell_type": "markdown",
   "metadata": {
    "pycharm": {
     "name": "#%% md\n"
    }
   },
   "source": [
    "Format `Parquet` jest szczególnie przydatny, gdy przetwarzamy duże zbiory danych i wynik należy zapisać, gdyż kolejny krok przetwarzania może zmodyfikować aktualnie przeprocesowane dane (_check point_).\n",
    "\n",
    "## Baza danych _sqlite_ i podstawy `SqlAlchemy`\n",
    "\n",
    "Mapowanie bazy danych na klasy jest bardzo przydatne w większych projektach. Głównie za sprawą podpowiadania składni oraz teoretycznej niezależności działania programu od warstwy przechowywania danych (baza danych). Biblioteka `SqlAlchemy` stanowi warstwę pośrednią miedzy fizycznymi operacjami na konkretnej bazie danych oraz logicznych operacji jak odczytywanie czy modyfikowanie danych. Co więcej, model danych to klasa w języku Python, co pozwala przy użyciu jednej funkcji założenie całej bazy danych z indeksami, tabelami i sekwencjami. Baza danych _sqlite_ jest wspierana w języku Python poprzez moduł `sqlite3` znajdujący się w bibliotece standardowej. Poniższy listing przedstawia prosty model danych wraz z przykładowym użyciem biblioteki `SqlAlchemy`."
   ]
  },
  {
   "cell_type": "code",
   "execution_count": 96,
   "metadata": {
    "pycharm": {
     "name": "#%%\n"
    }
   },
   "outputs": [
    {
     "name": "stdout",
     "output_type": "stream",
     "text": [
      "Using C:\\Users\\LUKASZ~1\\AppData\\Local\\Temp\\tmpkiy3tjw1.sqlite\n",
      "Calling populatate\n",
      "Calling query\n",
      "Available products\n",
      "1\tLaptop Sony\t10\n",
      "2\tLaptop Lenovo\t1\n",
      "Not available products\n",
      "3\tLaptop Lenovo\t0\n"
     ]
    }
   ],
   "source": [
    "from sqlalchemy import create_engine, Column, String, Integer, Boolean\n",
    "from sqlalchemy.orm import sessionmaker\n",
    "from sqlalchemy.ext.declarative import declarative_base\n",
    "from contextlib import contextmanager\n",
    "from tempfile import mktemp\n",
    "from platform import system\n",
    "\n",
    "temp_db = mktemp(suffix='.sqlite')\n",
    "\n",
    "print(f'Using {temp_db}')\n",
    "\n",
    "conn_uri_handler = {\n",
    "    'Windows': f'sqlite:///{temp_db}',\n",
    "    'Darwin': f'sqlite:////{temp_db}',\n",
    "    'Linux': f'sqlite:////{temp_db}',\n",
    "    'Java': f'sqlite:////{temp_db}'\n",
    "}\n",
    "\n",
    "# w Windows dodaje dodatkowo /\n",
    "engine = create_engine(conn_uri_handler[system()])\n",
    "\n",
    "Base = declarative_base(bind=engine)\n",
    "\n",
    "class Product(Base):\n",
    "    __tablename__ = 'products'\n",
    "    id=Column(Integer, primary_key=True)\n",
    "    title=Column('title', String(32))\n",
    "    in_stock=Column('in_stock', Boolean)\n",
    "    quantity=Column('quantity', Integer)\n",
    "\n",
    "\n",
    "Base.metadata.create_all()\n",
    "\n",
    "Session = sessionmaker(bind=engine)\n",
    "\n",
    "@contextmanager\n",
    "def create_session():\n",
    "    session = Session()\n",
    "    try:\n",
    "        yield session\n",
    "        session.commit()\n",
    "    except Exception:\n",
    "        session.rollback()\n",
    "        raise\n",
    "    finally:\n",
    "        session.close()\n",
    "\n",
    "def provide_session(func):\n",
    "    def wrapper(*args, **kwargs):\n",
    "        print(f'Calling {func.__name__}')\n",
    "        try:\n",
    "            with create_session() as session:\n",
    "                args = (*args, session) if args else (session,) # dodanie parametru session do listy\n",
    "                return func(*args, **kwargs)\n",
    "        except Exception as e:\n",
    "            print(f'Error found: {e}')\n",
    "\n",
    "        return None\n",
    "\n",
    "    return wrapper\n",
    "\n",
    "@provide_session\n",
    "def populatate(session):\n",
    "    session.add(Product(id=1, title='Laptop Sony', in_stock=True, quantity=10))\n",
    "    session.add(Product(id=2, title='Laptop Lenovo', in_stock=True, quantity=1))\n",
    "    session.add(Product(id=3, title='Laptop Lenovo', in_stock=False, quantity=0))\n",
    "\n",
    "\n",
    "@provide_session\n",
    "def query(session):\n",
    "    available_products = session.query(Product).filter(Product.in_stock == True).all()\n",
    "    print('Available products')\n",
    "    for product in available_products:\n",
    "        print(f'{product.id}\\t{product.title}\\t{product.quantity}')\n",
    "\n",
    "    available_products = session.query(Product).filter(Product.in_stock == False).all()\n",
    "    print('Not available products')\n",
    "    for product in available_products:\n",
    "        print(f'{product.id}\\t{product.title}\\t{product.quantity}')\n",
    "\n",
    "\n",
    "populatate()\n",
    "query()"
   ]
  },
  {
   "cell_type": "markdown",
   "metadata": {
    "pycharm": {
     "name": "#%% md\n"
    }
   },
   "source": [
    "W zależności od tego co zostanie przekazane do funkcji `create_engine`, `SqlAlchemy` utworzy takie połączenie do bazy danych i skonwertuje typy języka Python na odpowiadające im typy w konkretnej bazie danych. Użyta tabela jest raczej trywialna, `SqlAlchemy` daje znacznie więcej możliwości np. tworzenia relacji (jeden do jeden, jeden do wielu, wiele do wielu), ograniczeń (_constraint_), wywoływania funkcji wbudowanych oraz tworzenia własnych definicji funkcji i typów, które zostaną przetransformowane do konkretnego dialektu (składnia danego języka zapytań obsługiwanego w bazie danych np. `t-sql` - _Microsoft SQL Server, 'pl/sql' - Oracle). W powyższym przykładzie, w funkcji `create_session` tworzona jest sesja do bazy danych. Użyty mechanizm pozwala na automatyczny `commit` i zwalnianie połączenia i przekazywanie go do puli otwartych połączeń. Dekorator `provide_session` dodaje parametr `session` do dekorowanej funkcji. Powyższy kod nie jest przeznaczony dla wielu wątków.\n",
    "\n",
    "## Serializacja i deserializacja z modułem `pickle`\n",
    "\n",
    "Moduł `pickle` umożliwia zapisywanie na dysk istniejących w pamięci instancji typów, które po ponownym uruchomieniu programu mogą być odczytywane z dysku. Nie każdy typ jest obsługiwany, ale kolekcje takie jak lista, słownik czy nazwana tupla są obsługiwane. Rozszerzeniem modułu `pickle` są moduły `dill` i `cpickle`, które obsługują większą liczbę typów."
   ]
  },
  {
   "cell_type": "code",
   "execution_count": 76,
   "metadata": {
    "pycharm": {
     "name": "#%%\n"
    }
   },
   "outputs": [
    {
     "name": "stdout",
     "output_type": "stream",
     "text": [
      "Before: ['A', 'B', 1, 2, True, False]\n",
      "After: ['A', 'B', 1, 2, True, False]\n"
     ]
    }
   ],
   "source": [
    "from pickle import dump, load\n",
    "from tempfile import mktemp\n",
    "from os import unlink\n",
    "\n",
    "temp_file = mktemp()\n",
    "\n",
    "try:\n",
    "    collection = ['A', 'B', 1, 2, True, False]\n",
    "    print(f'Before: {collection}')\n",
    "    with open(temp_file, 'wb') as f:\n",
    "        dump(collection, f)\n",
    "        f.flush()\n",
    "\n",
    "    with open(temp_file, 'rb') as f:\n",
    "        temp_col = load(f)\n",
    "        print(f'After: {temp_col}')\n",
    "finally:\n",
    "    unlink(temp_file)\n"
   ]
  },
  {
   "cell_type": "markdown",
   "metadata": {
    "pycharm": {
     "name": "#%% md\n"
    }
   },
   "source": [
    "## Pamięć podręczna i moduł _functools_\n",
    "\n",
    "Twórcy języka Python wbudowali w moduły standardowe dekoratory, które umożliwiają tworzenie pamięci podręcznej (_cache_).\n",
    "Dostępnych jest parę metod, niemniej jednak schemat użycia jest bardzo podobny."
   ]
  },
  {
   "cell_type": "code",
   "execution_count": 8,
   "metadata": {
    "pycharm": {
     "name": "#%%\n"
    }
   },
   "outputs": [
    {
     "name": "stdout",
     "output_type": "stream",
     "text": [
      "<functools.cached_property object at 0x00000273FD824370>\n",
      "20\n"
     ]
    }
   ],
   "source": [
    "from functools import lru_cache, cached_property\n",
    "\n",
    "\n",
    "@lru_cache(maxsize=100)\n",
    "def func_lru_cached(a: int, b: int):\n",
    "    return a + b\n",
    "\n",
    "glob_a, glob_b = 10,10\n",
    "\n",
    "@cached_property\n",
    "def sum_ab():\n",
    "    return glob_a + glob_b\n",
    "\n",
    "print(sum_ab)\n",
    "print(func_lru_cached(glob_a, glob_b))"
   ]
  },
  {
   "cell_type": "markdown",
   "metadata": {
    "pycharm": {
     "name": "#%% md\n"
    }
   },
   "source": [
    "_lru_ oznacza _Least Recently Used_, co oznacza, że wywołania z parametrami rzadko używanymi będą usuwane z pamięci podręcznej w momencie kiedy tej pamięci podręcznej będzie brakować (parametr `maxsize`). Dekorator `cached_property` używany jest głównie do właściwości przechowywanych w klasach, które są przedmiotem kolejnego laboratorium.\n",
    "\n",
    "## Zadania do wykonania\n",
    "\n",
    "1. Porównaj zapisywanie i odczytywanie kolekcji (100, 10000, 100 000 elementów) za pomocą trzech technik: modułu `pickle`, `parquet` i `xlsx`.\n",
    "\n",
    "2. Zbadaj przyspieszenie związane z zastosowaniem pamięci podręcznej na wybranych przykładzie funkcji rekurencyjnej (np. ciągu _Fibonacciego_.\n",
    "\n",
    "3. Napisz program tworzący bazę danych z interfejsem konsolowym. Wymagane są następujące operacje, dodanie wiersza, usunięcie wiersza, zmiana pola wiersza, wyświetlenie opcji. Menu można zorganizować jako odczytywanie parametrów zwróconych przez funkcję `input` lub z pomocą komend (łatwiejszy sposób)."
   ]
  },
  {
   "cell_type": "markdown",
   "metadata": {},
   "source": [
    "### Zadanie 1"
   ]
  },
  {
   "cell_type": "code",
   "execution_count": 8,
   "metadata": {},
   "outputs": [
    {
     "name": "stdout",
     "output_type": "stream",
     "text": [
      "pickle, write 100 elements: \n",
      "0.0\n",
      "pickle, read 100 elements: \n",
      "0.0009806156158447266\n",
      "pickle, write 1000 elements: \n",
      "0.0\n",
      "pickle, read 1000 elements: \n",
      "0.0019936561584472656\n",
      "pickle, write 10000 elements: \n",
      "0.0009980201721191406\n",
      "pickle, read 10000 elements: \n",
      "0.007051706314086914\n",
      "parquet, write 100 elements: \n",
      "0.007642269134521484\n",
      "parquet, read 100 elements: \n",
      "0.0019540786743164062\n",
      "parquet, write 1000 elements: \n",
      "0.006974935531616211\n",
      "parquet, read 1000 elements: \n",
      "0.0019521713256835938\n",
      "parquet, write 10000 elements: \n",
      "0.012451648712158203\n",
      "parquet, read 10000 elements: \n",
      "0.001995563507080078\n",
      "xlsx, write 100 elements: \n",
      "0.008975028991699219\n",
      "xlsx, read 100 elements: \n",
      "0.008977413177490234\n",
      "xlsx, write 1000 elements: \n",
      "0.00997161865234375\n",
      "xlsx, read 1000 elements: \n",
      "0.00897669792175293\n",
      "xlsx, write 10000 elements: \n",
      "0.01691150665283203\n",
      "xlsx, read 10000 elements: \n",
      "0.009972333908081055\n"
     ]
    }
   ],
   "source": [
    "import pickle\n",
    "import time\n",
    "from tempfile import mktemp\n",
    "import pandas as pd\n",
    "from os import unlink\n",
    "from fastparquet import ParquetFile\n",
    "from openpyxl import Workbook\n",
    "\n",
    "\n",
    "my_dict = { 'A': list(range(0,100)) }\n",
    "my_dict2 = { 'A': list(range(0,1000)) }\n",
    "my_dict3 = { 'A': list(range(0,10000)) }\n",
    "\n",
    "\n",
    "write_start_pickle_100 = time.time()\n",
    "pickle.dump(my_dict, open(\"save.p\", \"wb\"))\n",
    "write_end_pickle_100 = time.time()\n",
    "print('pickle, write 100 elements: ')\n",
    "print(write_end_pickle_100 - write_start_pickle_100)\n",
    "\n",
    "read_start_pickle_100 = time.time()\n",
    "my_dict = pickle.load(open(\"save.p\", \"rb\"))\n",
    "read_end_pickle_100 = time.time()\n",
    "print('pickle, read 100 elements: ')\n",
    "print(read_end_pickle_100 - read_start_pickle_100)\n",
    "\n",
    "\n",
    "write_start_pickle_1000 = time.time()\n",
    "pickle.dump(my_dict2, open(\"save2.p\", \"wb\"))\n",
    "write_end_pickle_1000 = time.time()\n",
    "print('pickle, write 1000 elements: ')\n",
    "print(write_end_pickle_1000 - write_start_pickle_1000)\n",
    "\n",
    "read_start_pickle_1000 = time.time()\n",
    "my_dict2 = pickle.load(open(\"save2.p\", \"rb\"))\n",
    "read_end_pickle_1000 = time.time()\n",
    "print('pickle, read 1000 elements: ')\n",
    "print(read_end_pickle_1000 - read_start_pickle_1000)\n",
    "\n",
    "\n",
    "write_start_pickle_10000 = time.time()\n",
    "pickle.dump(my_dict3, open(\"save3.p\", \"wb\"))\n",
    "write_end_pickle_10000 = time.time()\n",
    "print('pickle, write 10000 elements: ')\n",
    "print(write_end_pickle_10000 - write_start_pickle_10000)\n",
    "\n",
    "read_start_pickle_10000 = time.time()\n",
    "my_dict3 = pickle.load(open(\"save3.p\", \"rb\"))\n",
    "read_end_pickle_10000 = time.time()\n",
    "print('pickle, read 10000 elements: ')\n",
    "print(read_end_pickle_10000 - read_start_pickle_10000)\n",
    "\n",
    "\n",
    "# parquet\n",
    "\n",
    "\n",
    "df = pd.DataFrame.from_dict(my_dict)\n",
    "temp_file = mktemp()\n",
    "\n",
    "try:\n",
    "    write_start_parquet_100 = time.time()\n",
    "    df.to_parquet(temp_file, compression='GZIP')\n",
    "    pf = ParquetFile(temp_file)\n",
    "    write_end_parquet_100 = time.time()\n",
    "    print('parquet, write 100 elements: ')\n",
    "    print(write_end_parquet_100 - write_start_parquet_100)\n",
    "    read_start_parquet_100 = time.time()\n",
    "    df = pd.read_parquet(temp_file)\n",
    "    read_end_parquet_100 = time.time()\n",
    "    print('parquet, read 100 elements: ')\n",
    "    print(read_end_parquet_100 - read_start_parquet_100)\n",
    "    \n",
    "finally:\n",
    "    unlink(temp_file)\n",
    "    \n",
    "    \n",
    "df = pd.DataFrame.from_dict(my_dict2)\n",
    "\n",
    "try:\n",
    "    write_start_parquet_1000 = time.time()\n",
    "    df.to_parquet(temp_file, compression='GZIP')\n",
    "    pf = ParquetFile(temp_file)\n",
    "    write_end_parquet_1000 = time.time()\n",
    "    print('parquet, write 1000 elements: ')\n",
    "    print(write_end_parquet_1000 - write_start_parquet_1000)\n",
    "    read_start_parquet_1000 = time.time()\n",
    "    df = pd.read_parquet(temp_file)\n",
    "    read_end_parquet_1000 = time.time()\n",
    "    print('parquet, read 1000 elements: ')\n",
    "    print(read_end_parquet_1000 - read_start_parquet_1000)\n",
    "    \n",
    "finally:\n",
    "    unlink(temp_file)\n",
    "    \n",
    "df = pd.DataFrame.from_dict(my_dict3)\n",
    "\n",
    "try:\n",
    "    write_start_parquet_10000 = time.time()\n",
    "    df.to_parquet(temp_file, compression='GZIP')\n",
    "    pf = ParquetFile(temp_file)\n",
    "    write_end_parquet_10000 = time.time()\n",
    "    print('parquet, write 10000 elements: ')\n",
    "    print(write_end_parquet_10000 - write_start_parquet_10000)\n",
    "    read_start_parquet_10000 = time.time()\n",
    "    df = pd.read_parquet(temp_file)\n",
    "    read_end_parquet_10000 = time.time()\n",
    "    print('parquet, read 10000 elements: ')\n",
    "    print(read_end_parquet_10000 - read_start_parquet_10000)\n",
    "    \n",
    "finally:\n",
    "    unlink(temp_file)\n",
    "    \n",
    "    \n",
    "# xlsx\n",
    "\n",
    "\n",
    "df = pd.DataFrame()\n",
    "df['Name'] = my_dict.keys()\n",
    "df['Quantity'] = my_dict.values()\n",
    "\n",
    "write_start_xlsx_100 = time.time()\n",
    "df.to_excel('dict_test.xlsx')\n",
    "write_end_xlsx_100 = time.time()\n",
    "print('xlsx, write 100 elements: ')\n",
    "print(write_end_xlsx_100 - write_start_xlsx_100)\n",
    "\n",
    "read_start_xlsx_100 = time.time()\n",
    "xlsx_read = pd.read_excel('dict_test.xlsx')\n",
    "read_end_xlsx_100 = time.time()\n",
    "print('xlsx, read 100 elements: ')\n",
    "print(read_end_xlsx_100 - read_start_xlsx_100)\n",
    "\n",
    "\n",
    "\n",
    "df['Name'] = my_dict2.keys()\n",
    "df['Quantity'] = my_dict2.values()\n",
    "\n",
    "write_start_xlsx_1000 = time.time()\n",
    "df.to_excel('dict_test.xlsx')\n",
    "write_end_xlsx_1000 = time.time()\n",
    "print('xlsx, write 1000 elements: ')\n",
    "print(write_end_xlsx_1000 - write_start_xlsx_1000)\n",
    "\n",
    "read_start_xlsx_1000 = time.time()\n",
    "xlsx_read = pd.read_excel('dict_test.xlsx')\n",
    "read_end_xlsx_1000 = time.time()\n",
    "print('xlsx, read 1000 elements: ')\n",
    "print(read_end_xlsx_1000 - read_start_xlsx_1000)\n",
    "\n",
    "\n",
    "\n",
    "df['Name'] = my_dict3.keys()\n",
    "df['Quantity'] = my_dict3.values()\n",
    "\n",
    "write_start_xlsx_10000 = time.time()\n",
    "df.to_excel('dict_test.xlsx')\n",
    "write_end_xlsx_10000 = time.time()\n",
    "print('xlsx, write 10000 elements: ')\n",
    "print(write_end_xlsx_10000 - write_start_xlsx_10000)\n",
    "\n",
    "read_start_xlsx_10000 = time.time()\n",
    "xlsx_read = pd.read_excel('dict_test.xlsx')\n",
    "read_end_xlsx_10000 = time.time()\n",
    "print('xlsx, read 10000 elements: ')\n",
    "print(read_end_xlsx_10000 - read_start_xlsx_10000)"
   ]
  },
  {
   "cell_type": "markdown",
   "metadata": {},
   "source": [
    "### Zadanie 2"
   ]
  },
  {
   "cell_type": "code",
   "execution_count": 16,
   "metadata": {},
   "outputs": [
    {
     "name": "stdout",
     "output_type": "stream",
     "text": [
      "9227465\n",
      "Time to print 35th Fibonacci sequence: \n",
      "5.165333271026611\n",
      "9227465\n",
      "Time to print 35th Fibonacci sequence: \n",
      "0.0\n"
     ]
    }
   ],
   "source": [
    "from functools import lru_cache, cached_property\n",
    "import time\n",
    "\n",
    "def fibonacci(n):\n",
    "    if n < 0:\n",
    "        print(\"Incorrect input\")\n",
    "    elif n == 0:\n",
    "        return 0\n",
    "    elif n == 1:\n",
    "        return 1\n",
    "    else:\n",
    "        return fibonacci(n - 1) + fibonacci(n - 2)\n",
    "\n",
    "n = 35\n",
    "before_fib = time.time()\n",
    "print(fibonacci(n))\n",
    "after_fib = time.time()\n",
    "print(f'Time to print {n}th Fibonacci sequence: ')\n",
    "print(after_fib - before_fib)\n",
    "\n",
    "\n",
    "@lru_cache(maxsize=100)\n",
    "def fibonacci(n):\n",
    "    if n < 0:\n",
    "        print(\"Incorrect input\")\n",
    "    elif n == 0:\n",
    "        return 0\n",
    "    elif n == 1:\n",
    "        return 1\n",
    "    else:\n",
    "        return fibonacci(n - 1) + fibonacci(n - 2)\n",
    "\n",
    "n = 35\n",
    "@cached_property\n",
    "def fib():\n",
    "    return fibonacci(n - 1) + fibonacci(n - 2)\n",
    "\n",
    "before_fib_cache = time.time()\n",
    "print(fibonacci(n))\n",
    "after_fib_cache = time.time()\n",
    "print(f'Time to print {n}th Fibonacci sequence: ')\n",
    "print(after_fib_cache - before_fib_cache)\n"
   ]
  },
  {
   "cell_type": "code",
   "execution_count": null,
   "metadata": {},
   "outputs": [],
   "source": [
    "### Zadanie 3"
   ]
  },
  {
   "cell_type": "code",
   "execution_count": null,
   "metadata": {},
   "outputs": [
    {
     "name": "stdout",
     "output_type": "stream",
     "text": [
      "Using C:\\Users\\Legion\\AppData\\Local\\Temp\\tmpl5wv32f1.sqlite\n",
      "------- MENU -------\n",
      " 1. Add product\n",
      " 2. Delete product\n",
      " 3. View products\n",
      " 4. Change value of a specific field\n"
     ]
    }
   ],
   "source": [
    "from sqlalchemy import create_engine, Column, String, Integer, Boolean\n",
    "from sqlalchemy.orm import sessionmaker\n",
    "from sqlalchemy.ext.declarative import declarative_base\n",
    "from contextlib import contextmanager\n",
    "from tempfile import mktemp\n",
    "from platform import system\n",
    "\n",
    "temp_db = mktemp(suffix='.sqlite')\n",
    "\n",
    "print(f'Using {temp_db}')\n",
    "\n",
    "conn_uri_handler = {\n",
    "    'Windows': f'sqlite:///{temp_db}',\n",
    "    'Darwin': f'sqlite:////{temp_db}',\n",
    "    'Linux': f'sqlite:////{temp_db}',\n",
    "    'Java': f'sqlite:////{temp_db}'\n",
    "}\n",
    "engine = create_engine(conn_uri_handler[system()])\n",
    "\n",
    "Base = declarative_base(bind=engine)\n",
    "\n",
    "class Product(Base):\n",
    "    __tablename__ = 'products'\n",
    "    id=Column(Integer, primary_key=True)\n",
    "    title=Column('title', String(32))\n",
    "    quantity=Column('quantity', Integer)\n",
    "\n",
    "Base.metadata.create_all()\n",
    "\n",
    "Session = sessionmaker(bind=engine)\n",
    "\n",
    "@contextmanager\n",
    "def create_session():\n",
    "    session = Session()\n",
    "    try:\n",
    "        yield session\n",
    "        session.commit()\n",
    "    except Exception:\n",
    "        session.rollback()\n",
    "        raise\n",
    "    finally:\n",
    "        session.close()\n",
    "\n",
    "def provide_session(func):\n",
    "    def wrapper(*args, **kwargs):\n",
    "        #print(f'Calling {func.__name__}')\n",
    "        try:\n",
    "            with create_session() as session:\n",
    "                args = (*args, session) if args else (session,)\n",
    "                return func(*args, **kwargs)\n",
    "        except Exception as e:\n",
    "            print(f'Error found: {e}')\n",
    "        return None\n",
    "    return wrapper\n",
    "\n",
    "@provide_session\n",
    "def add(session):\n",
    "    print(\"Add product... \")\n",
    "    id = input(\"Enter id: \")\n",
    "    title = input(\"Enter title: \")\n",
    "    quantity = input(\"Enter quantity: \")\n",
    "    session.add(Product(id=id, title=title, quantity=quantity))\n",
    "    session.commit()\n",
    "\n",
    "\n",
    "@provide_session\n",
    "def remove(session):\n",
    "    id = input(\"Enter id of product you want to remove: \")\n",
    "    session.query(Product).filter(Product.id == id).delete()\n",
    "    session.commit()\n",
    "\n",
    "@provide_session\n",
    "def one_field(session):\n",
    "    old_id = input(\"Enter id: \")\n",
    "    field = input(\"Enter name of field you want to change: \")\n",
    "    value = input(\"Enter new value: \")\n",
    "    if field == \"id\":\n",
    "        session.query(Product).filter(Product.id == old_id).update({Product.id:value}, synchronize_session = False)\n",
    "    if field == \"title\":\n",
    "        session.query(Product).filter(Product.id == old_id).update({Product.title:value}, synchronize_session = False)\n",
    "    if field == \"quantity\":\n",
    "        session.query(Product).filter(Product.id == old_id).update({Product.quantity:value}, synchronize_session = False)\n",
    "\n",
    "\n",
    "@provide_session\n",
    "def query(session):\n",
    "    all_products = session.query(Product).all()\n",
    "    print('All products: ')\n",
    "    for product in all_products:\n",
    "        print(f'{product.id}\\t{product.title}\\t{product.quantity}')\n",
    "\n",
    "def run():\n",
    "    n = 1\n",
    "    while(n):\n",
    "        display_main_menu()\n",
    "        n = int(input(\"Select an option: \"))\n",
    "        if n == 1:\n",
    "            add()\n",
    "        if n == 2:\n",
    "            remove()\n",
    "        if n == 3:\n",
    "            query()\n",
    "        if n == 4:\n",
    "            one_field()\n",
    "        if n == 0:\n",
    "            print(\"Program execution completed.\")\n",
    "            break\n",
    "\n",
    "\n",
    "def display_main_menu():\n",
    "    print('------- MENU -------')\n",
    "    print(' 1. Add product')\n",
    "    print(' 2. Delete product')\n",
    "    print(' 3. View products')\n",
    "    print(' 4. Change value of a specific field')\n",
    "\n",
    "run()\n"
   ]
  }
 ],
 "metadata": {
  "kernelspec": {
   "display_name": "Python 3",
   "language": "python",
   "name": "python3"
  },
  "language_info": {
   "codemirror_mode": {
    "name": "ipython",
    "version": 3
   },
   "file_extension": ".py",
   "mimetype": "text/x-python",
   "name": "python",
   "nbconvert_exporter": "python",
   "pygments_lexer": "ipython3",
   "version": "3.8.3"
  }
 },
 "nbformat": 4,
 "nbformat_minor": 1
}
