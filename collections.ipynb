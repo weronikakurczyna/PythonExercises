{
 "cells": [
  {
   "cell_type": "markdown",
   "metadata": {
    "pycharm": {
     "name": "#%% md\n"
    }
   },
   "source": [
    "## Kolekcje w języku Python ##\n",
    "\n",
    "W laboratorium zostaną opisane wybrane typy kolekcji, najczęściej używane w praktyce oraz funkcje i klasy działające na tych kolekcjach. W poprzednim laboratorium zostały przekazane podstawowe informacje o listach, tuplach i zbiorach. W tym rozdziale główny nacisk został położony na moduł standardowy `collections`.\n",
    "\n",
    "### Klasa `ChainMap`\n",
    "\n",
    "Klasa umożliwia efektywne łączenie wielu słowników w jednej strukturze. Nie wykonuje fizycznego łączenia, a scalanie odbywa się na poziomie mapowania konkretnych kluczy w słownikach. W przypadku, gdy słowniki nie są rozłączne parami (zawierają te same klucze), priorytet ma słownik przekazany jako pierwszy."
   ]
  },
  {
   "cell_type": "code",
   "execution_count": 1,
   "metadata": {
    "pycharm": {
     "name": "#%%\n"
    }
   },
   "outputs": [
    {
     "name": "stdout",
     "output_type": "stream",
     "text": [
      "v1\n",
      "v2\n",
      "v3\n"
     ]
    }
   ],
   "source": [
    "from collections import ChainMap\n",
    "\n",
    "def_params = { 'p1': 'v1', 'p2': 'v2' }\n",
    "params_from_file = { 'p2': 'v2', 'p3': 'v3' }\n",
    "\n",
    "params = ChainMap(def_params, params_from_file)\n",
    "\n",
    "print(params['p1'])\n",
    "print(params['p2'])\n",
    "print(params['p3'])\n"
   ]
  },
  {
   "cell_type": "markdown",
   "metadata": {
    "pycharm": {
     "name": "#%% md\n"
    }
   },
   "source": [
    "Dodatkowo do istniejącej kolekcji słowników można dodawać kolejne, za pomocą funkcji `new_child`.\n",
    "\n",
    "### Klasa `Counter`\n",
    "\n",
    "Bardzo przydatna klasa do zliczania wystąpień elementów kolekcji. W konstruktorze należy przekazać instancje kolekcji na, której wykonywane będą obliczenia."
   ]
  },
  {
   "cell_type": "code",
   "execution_count": 4,
   "metadata": {
    "pycharm": {
     "name": "#%%\n"
    }
   },
   "outputs": [
    {
     "name": "stdout",
     "output_type": "stream",
     "text": [
      "[(3, 4), (1, 2), (2, 2)]\n",
      "[('a', 3), (' ', 2), ('A', 1)]\n",
      "[('Ala', 1), ('ma', 1), ('kota', 1)]\n"
     ]
    }
   ],
   "source": [
    "from collections import Counter\n",
    "\n",
    "lst=[1,1,2,2,3,3,3,3]\n",
    "\n",
    "counter = Counter(lst)\n",
    "\n",
    "print(counter.most_common()) # najczęściej występujące elementy\n",
    "\n",
    "counter = Counter('Ala ma kota') # łańcuch znaków jest typu iterable\n",
    "\n",
    "print(counter.most_common(3)) # trzy najczęściej występujące\n",
    "\n",
    "counter = Counter('Ala ma kota'.split())\n",
    "\n",
    "print(counter.most_common())"
   ]
  },
  {
   "cell_type": "markdown",
   "metadata": {},
   "source": [
    "Dodatkowo klasa `counter` zawiera wiele przedefiniowanych operatorów dwuargumentowych np. `+`, `-`, `*`, `/`, co umożliwia wykonywanie operacji na oryginalnych kolekcjach, dodawania, odejmowania, mnożenia i dzielenia odpowiadającym elementom obu kolekcji.\n",
    "\n",
    "### Klasa `OrderedDict`\n",
    "\n",
    "Kolekcja przechowuje kolejność dodawania kolejnych kluczy. Klasa ta zawiera zbiór wszystkich funkcji słownika, a wywołanie funkcji `popitem`, spowoduje zwrócenie i usunięcie ostatnio dodanego elementu."
   ]
  },
  {
   "cell_type": "code",
   "execution_count": 23,
   "metadata": {
    "pycharm": {
     "name": "#%%\n"
    }
   },
   "outputs": [
    {
     "name": "stdout",
     "output_type": "stream",
     "text": [
      "[(1, 7), (2, 5), (3, 3)]\n",
      "(1, 7)\n",
      "(3, 3)\n"
     ]
    }
   ],
   "source": [
    "from collections import OrderedDict\n",
    "\n",
    "lst = [1, 2, 3, 3, 2, 1, 1, 1, 2, 2, 3, 1, 2, 1, 1]\n",
    "sorted = Counter(lst).most_common()\n",
    "print(sorted)\n",
    "od = OrderedDict(sorted)\n",
    "print(od.popitem(False)) # parametr last typu bool, niewystępujący w dict\n",
    "\n",
    "d = dict(sorted)\n",
    "print(d.popitem())"
   ]
  },
  {
   "cell_type": "markdown",
   "metadata": {},
   "source": [
    "## Przydatne klasy i funkcje\n",
    "\n",
    "### Funkcja `zip`\n",
    "\n",
    "Funkcja umożliwia łączenie kolekcji i iterowanie po wyniku. Każda iteracja złączonych kolekcji przechowywana jest jako tupla."
   ]
  },
  {
   "cell_type": "code",
   "execution_count": 26,
   "metadata": {
    "pycharm": {
     "name": "#%%\n"
    }
   },
   "outputs": [
    {
     "name": "stdout",
     "output_type": "stream",
     "text": [
      "Lukasz Strak    1\n",
      "Jan Kowalski    2\n"
     ]
    }
   ],
   "source": [
    "users = ['Lukasz Strak', 'Jan Kowalski']\n",
    "ids = [1,2]\n",
    "\n",
    "for user, id in zip(users, ids):\n",
    "    print(f'{user} {id:4}') # :4 oznacza pad left do 4 znaków (wyrównanie do prawej przy użyciu spacji)"
   ]
  },
  {
   "cell_type": "markdown",
   "metadata": {},
   "source": [
    "### Funkcja `enumarate`\n",
    "\n",
    "Iterując po kolekcji niejednokrotnie przydatne jest posiadanie aktualnego numeru iteracji. Można w tym celu użyć funkcji `enumerate`, która zwraca listę tupli, która pod indeksem zero zawiera numer elementu, a w kolejnym sam element."
   ]
  },
  {
   "cell_type": "code",
   "execution_count": 27,
   "metadata": {
    "pycharm": {
     "name": "#%%\n"
    }
   },
   "outputs": [
    {
     "name": "stdout",
     "output_type": "stream",
     "text": [
      "0 1\n",
      "1 2\n",
      "2 3\n",
      "3 3\n",
      "4 2\n",
      "5 1\n",
      "6 1\n",
      "7 1\n",
      "8 2\n",
      "9 2\n",
      "10 3\n",
      "11 1\n",
      "12 2\n",
      "13 1\n",
      "14 1\n"
     ]
    }
   ],
   "source": [
    "lst = [1, 2, 3, 3, 2, 1, 1, 1, 2, 2, 3, 1, 2, 1, 1]\n",
    "for i, elem in enumerate(lst):\n",
    "    print(i, elem)\n"
   ]
  },
  {
   "cell_type": "markdown",
   "metadata": {
    "pycharm": {
     "name": "#%% md\n"
    }
   },
   "source": [
    "Przy użyciu funkcji `enumarate` łatwo rzutować listę na słownik."
   ]
  },
  {
   "cell_type": "code",
   "execution_count": 28,
   "metadata": {
    "pycharm": {
     "name": "#%%\n"
    }
   },
   "outputs": [
    {
     "name": "stdout",
     "output_type": "stream",
     "text": [
      "{0: 1, 1: 2, 2: 3, 3: 3, 4: 2, 5: 1, 6: 1, 7: 1, 8: 2, 9: 2, 10: 3, 11: 1, 12: 2, 13: 1, 14: 1}\n"
     ]
    }
   ],
   "source": [
    "lst = [1, 2, 3, 3, 2, 1, 1, 1, 2, 2, 3, 1, 2, 1, 1]\n",
    "d = dict(enumerate(lst))\n",
    "print(d)"
   ]
  },
  {
   "cell_type": "markdown",
   "metadata": {
    "pycharm": {
     "name": "#%% md\n"
    }
   },
   "source": [
    "### Funkcja `sorted`\n",
    "\n",
    "Sortowanie listy typów wbudowanych jest prostym zadaniem. Wystarczy użyć funkcji wbudowanej `sorted`. Do funkcji łatwo przekazać wyrażenie _lambda_, które umożliwia określenie elementu, który będzie użyty do sortowania."
   ]
  },
  {
   "cell_type": "code",
   "execution_count": 2,
   "metadata": {
    "pycharm": {
     "name": "#%%\n"
    }
   },
   "outputs": [
    {
     "name": "stdout",
     "output_type": "stream",
     "text": [
      "[('apple', 3), ('grape', 2), ('lemon', 8), ('orange', 5), ('tomato', 1)]\n",
      "[('tomato', 1), ('grape', 2), ('apple', 3), ('orange', 5), ('lemon', 8)]\n",
      "[('apple', 3), ('lemon', 8), ('grape', 2), ('tomato', 1), ('orange', 5)]\n"
     ]
    }
   ],
   "source": [
    "sorted([5, 2, 3, 1, 4])\n",
    "[5, 2, 3, 1, 4].sort() # adekwatny zapis przy użyciu funkcji sort\n",
    "\n",
    "d = {'tomato': 1, 'apple': 3, 'lemon': 8, 'orange': 5, 'grape': 2}\n",
    "\n",
    "# sortowanie słownika na podstawie klucza\n",
    "\n",
    "print(sorted(d.items(), key=lambda x: x[0]))\n",
    "\n",
    "# sortowanie słownika na podstawie wartości\n",
    "\n",
    "print(sorted(d.items(), key=lambda x: x[1]))\n",
    "\n",
    "# sortowanie słownika na podstawie długości klucza\n",
    "\n",
    "print(sorted(d.items(), key=lambda x: len(x[0])))"
   ]
  },
  {
   "cell_type": "markdown",
   "metadata": {
    "pycharm": {
     "name": "#%% md\n"
    }
   },
   "source": [
    "Funkcję `sorted` można użyć wraz z klasą `OrderedDict`."
   ]
  },
  {
   "cell_type": "code",
   "execution_count": 8,
   "metadata": {
    "pycharm": {
     "name": "#%%\n"
    }
   },
   "outputs": [
    {
     "name": "stdout",
     "output_type": "stream",
     "text": [
      "1|tomato  |1\n",
      "2|grape   |2\n",
      "3|apple   |3\n",
      "4|orange  |5\n",
      "5|lemon   |8\n",
      "The longest word: ('tomato', 1)\n"
     ]
    }
   ],
   "source": [
    "from collections import OrderedDict\n",
    "\n",
    "d = {'tomato': 1, 'apple': 3, 'lemon': 8, 'orange': 5, 'grape': 2}\n",
    "\n",
    "od = OrderedDict(sorted(d.items(), key=lambda x: x[1]))\n",
    "\n",
    "for i, (key, val) in enumerate(od.items()):\n",
    "    print(f'{i+1}|{key:8}|{val}')\n",
    "\n",
    "print(f'The longest word: {od.popitem(False)}')"
   ]
  },
  {
   "cell_type": "markdown",
   "metadata": {
    "pycharm": {
     "name": "#%% md\n"
    }
   },
   "source": [
    "### Klasa `Shelve`\n",
    "\n",
    "Jeśli chcemy zachować dane, najczęściej stosowaną techniką jest implementacja własnej funkcji `load` i `save`, działającej na kolekcji. Można również użyć klasy wbudowanej `Shelve`, której bazuje na słowniku."
   ]
  },
  {
   "cell_type": "code",
   "execution_count": 13,
   "metadata": {
    "pycharm": {
     "name": "#%%\n"
    }
   },
   "outputs": [
    {
     "name": "stdout",
     "output_type": "stream",
     "text": [
      "2\n"
     ]
    }
   ],
   "source": [
    "import shelve\n",
    "\n",
    "with shelve.open('defaults.db') as shelf:\n",
    "    shelf['file_name'] = 2\n",
    "\n",
    "with shelve.open('defaults.db') as shelf:\n",
    "    print(shelf['file_name'])"
   ]
  },
  {
   "cell_type": "markdown",
   "metadata": {
    "pycharm": {
     "name": "#%% md\n"
    }
   },
   "source": [
    "Dodając identyfikator do słownika można tworzyć proste kolekcje, które w łatwy sposób można serializować do pliku."
   ]
  },
  {
   "cell_type": "code",
   "execution_count": 11,
   "metadata": {
    "pycharm": {
     "name": "#%%\n"
    }
   },
   "outputs": [
    {
     "name": "stdout",
     "output_type": "stream",
     "text": [
      "{'first_name': 'Lukasz', 'last_name': 'Strak'}\n"
     ]
    }
   ],
   "source": [
    "import shelve\n",
    "\n",
    "users = [{ 'first_name': 'Lukasz', 'last_name': 'Strak' }, # można użyć tupli\n",
    "         { 'first_name': 'Jan', 'last_name': 'Kowalski' }]\n",
    "\n",
    "with shelve.open('users.db') as shelf:\n",
    "    for id, user in enumerate(users):\n",
    "        shelf[str(id)] = user\n",
    "\n",
    "with shelve.open('users.db') as shelf:\n",
    "    print(shelf['0'])"
   ]
  },
  {
   "cell_type": "markdown",
   "metadata": {
    "pycharm": {
     "name": "#%% md\n"
    }
   },
   "source": [
    "### Funkcja `filter`\n",
    "\n",
    "Filtrowanie danych w języku Python jest możliwe m.in. dzięki bardzo pomocnej funkcji `filter`. W pierwszym argumencie należy przekazać wyrażenie _lambda_ lub wskaźnik na funkcję, która wywołana zostanie dla każdego elementu kolekcji podanej w drugim parametrze. Zwracany wynik jest _lazy_ czyli jego ewaluacja następuje w momencie użycia np. w pętli `for` lub po rzutowaniu na listę."
   ]
  },
  {
   "cell_type": "code",
   "execution_count": 16,
   "metadata": {
    "pycharm": {
     "name": "#%%\n"
    }
   },
   "outputs": [
    {
     "name": "stdout",
     "output_type": "stream",
     "text": [
      "[1, 3, 3, 1, 1, 1, 3, 1, 1, 1]\n",
      "[3, 3, 3]\n",
      "1\n",
      "1\n",
      "1\n",
      "1\n",
      "1\n",
      "1\n",
      "1\n"
     ]
    }
   ],
   "source": [
    "lst = [1, 2, 3, 3, 2, 1, 1, 1, 2, 2, 3, 1, 2, 1, 1]\n",
    "\n",
    "print(list(filter(lambda x: x % 2 ,lst)))\n",
    "\n",
    "print(list(filter(lambda x: x > 2 ,lst)))\n",
    "\n",
    "for x in filter(lambda x: x < 2, lst):\n",
    "    print(x)"
   ]
  },
  {
   "cell_type": "markdown",
   "metadata": {
    "pycharm": {
     "name": "#%% md\n"
    }
   },
   "source": [
    "### Funkcja `map`\n",
    "\n",
    "Konwersja każdego elementu kolekcji na inny typ jest częstym zadaniem programisty. Funkcja `map` ułatwia to zadanie. Jego sygnatura jest identyczna jak w przypadku `filter`."
   ]
  },
  {
   "cell_type": "code",
   "execution_count": 18,
   "metadata": {
    "pycharm": {
     "name": "#%%\n"
    }
   },
   "outputs": [
    {
     "name": "stdout",
     "output_type": "stream",
     "text": [
      "['Lukasz', 'Jan']\n"
     ]
    }
   ],
   "source": [
    "users = [{ 'first_name': 'Lukasz', 'last_name': 'Strak' }, # można użyć tupli\n",
    "         { 'first_name': 'Jan', 'last_name': 'Kowalski' }]\n",
    "\n",
    "names = map(lambda x: x['first_name'], users)\n",
    "print(list(names))"
   ]
  },
  {
   "cell_type": "markdown",
   "metadata": {
    "pycharm": {
     "name": "#%% md\n"
    }
   },
   "source": [
    "### Funkcja `reduce`\n",
    "\n",
    "Funkcja `reduce` powoduje zwrócenie jednej wartości obliczonej na podstawie kolekcji elementów."
   ]
  },
  {
   "cell_type": "code",
   "execution_count": 19,
   "metadata": {
    "pycharm": {
     "name": "#%%\n"
    }
   },
   "outputs": [
    {
     "name": "stdout",
     "output_type": "stream",
     "text": [
      "26\n",
      "26\n"
     ]
    }
   ],
   "source": [
    "from functools import reduce\n",
    "\n",
    "lst = [1, 2, 3, 3, 2, 1, 1, 1, 2, 2, 3, 1, 2, 1, 1]\n",
    "\n",
    "sum_all = reduce(lambda x, y: x+y, lst)\n",
    "\n",
    "print(sum_all)\n",
    "print(sum(lst))"
   ]
  },
  {
   "cell_type": "markdown",
   "metadata": {
    "pycharm": {
     "name": "#%% md\n"
    }
   },
   "source": [
    "W pierwszej iteracji za `x` i `y` zostaną podstawione wartości 1, 2. W następnej iteracji za `x` i `y` zostaną podstawione wartości 3 (wynik poprzedniego działania) oraz 3. Jeszcze w następnej 6 (wynik działania (1+2)+3) i 3.\n",
    "\n",
    "### Funkcja `deque`\n",
    "\n",
    "Jedną z podstawowych struktur danych jest kolejka (_queueu_). Funkcja `deque` umożliwia przekształcenie listy w kolejkę (_FIFO_). Dodatkowo konstruktor posiada bardzo przydatny parametr `max` za pomocą, którego można stworzyć _cache_. Kolekcja zawiera również wiele przydatnych funkcji m.in. `count` zliczającej liczbę wystąpień wartości w kolejce oraz `pop` / `popleft` zwracające ostatni / pierwszy element z kolejki, usuwając go."
   ]
  },
  {
   "cell_type": "code",
   "execution_count": 22,
   "metadata": {
    "pycharm": {
     "name": "#%%\n"
    }
   },
   "outputs": [
    {
     "name": "stdout",
     "output_type": "stream",
     "text": [
      "deque([0], maxlen=5)\n",
      "deque([0, 1], maxlen=5)\n",
      "deque([0, 1, 2], maxlen=5)\n",
      "deque([0, 1, 2, 3], maxlen=5)\n",
      "deque([0, 1, 2, 3, 4], maxlen=5)\n",
      "deque([1, 2, 3, 4, 5], maxlen=5)\n",
      "deque([2, 3, 4, 5, 6], maxlen=5)\n",
      "deque([3, 4, 5, 6, 7], maxlen=5)\n",
      "deque([4, 5, 6, 7, 8], maxlen=5)\n",
      "deque([5, 6, 7, 8, 9], maxlen=5)\n",
      "0\n",
      "9\n",
      "5\n"
     ]
    }
   ],
   "source": [
    "from collections import deque\n",
    "\n",
    "deq = deque(maxlen=5)\n",
    "\n",
    "for i in range(10):\n",
    "    deq.append(i)\n",
    "    print(deq)\n",
    "\n",
    "print(deq.count(\"1\"))\n",
    "\n",
    "print(deq.pop())\n",
    "print(deq.popleft())"
   ]
  },
  {
   "cell_type": "markdown",
   "metadata": {
    "pycharm": {
     "name": "#%% md\n"
    }
   },
   "source": [
    "## Funkcja `defaultdict`\n",
    "\n",
    "Niejednokrotnie może się zdarzyć, że słownik zawiera złożone kolekcje. Funkcja `defaultdict` tworzy typ, który zaraz po stworzeniu klucza będzie zawierał zainicjowany typ przechowywanej wartości."
   ]
  },
  {
   "cell_type": "code",
   "execution_count": 23,
   "metadata": {
    "pycharm": {
     "name": "#%%\n"
    }
   },
   "outputs": [
    {
     "name": "stdout",
     "output_type": "stream",
     "text": [
      "dict_items([(1, [1, 5, 5]), (2, [2])])\n"
     ]
    }
   ],
   "source": [
    "from collections import defaultdict\n",
    "\n",
    "transactions = { '123': { 'account_id': 1, 'value': 1 },\n",
    "                 '124': { 'account_id': 2, 'value': 2 },\n",
    "                 '125': { 'account_id': 1, 'value': 5 },\n",
    "                 '126': { 'account_id': 1, 'value': 5 }}\n",
    "\n",
    "history = defaultdict(list)\n",
    "\n",
    "for trans_id, trans_param in transactions.items():\n",
    "    history[trans_param['account_id']].append(trans_param['value'])\n",
    "\n",
    "print(history.items())"
   ]
  },
  {
   "cell_type": "markdown",
   "metadata": {
    "pycharm": {
     "name": "#%% md\n"
    }
   },
   "source": [
    "### Funkcja `namedtuple`\n",
    "\n",
    "Największą wadą tupli jest konieczność znajomości ścisłej kolejności elementów jakie przechowuje (podobnie jak elementy listy). Dotyczy to zarówno odczytywania ich poprzez rozpakowanie oraz poprzez nawiasy kwadratowe z indeksem. Funkcja `namedtuple` to fabryka, która tworzy prostą strukturę (typ danych języka Python). Tworzenie instancji odbywa się poprzez wywołanie na otrzymanym typie konstruktora, w którym musimy podać wartości każdego z pól. Dodatkowo funkcja ta jest wspierana przez edytory języka Python i pozwala na korzystanie z podopowiadania nazw. Największą wadą jest to, że po stworzeniu instancji nie ma możliwości zmiany jakiejkolwiek wartości (tuple z definicji są niezmienne _immutable_). Istnieje możliwość obejścia problemu przy użyciu funkcji `_replace`, jednak tworzona jest wtedy nowa instancja."
   ]
  },
  {
   "cell_type": "code",
   "execution_count": 24,
   "metadata": {
    "pycharm": {
     "name": "#%%\n"
    }
   },
   "outputs": [
    {
     "name": "stdout",
     "output_type": "stream",
     "text": [
      "[User(first_name='Lukasz', last_name='Strąk'), User(first_name='Jan', last_name='Kowalski')]\n"
     ]
    }
   ],
   "source": [
    "from collections import namedtuple\n",
    "\n",
    "User = namedtuple('User', ['first_name', 'last_name'])\n",
    "\n",
    "user_col = [User('Lukasz', 'Strąk'), User(first_name='Jan', last_name='Kowalski')]\n",
    "print(user_col)\n",
    "for user in user_col:\n",
    "    print(f'{user.first_name} - {user.last_name}')"
   ]
  },
  {
   "cell_type": "markdown",
   "metadata": {
    "pycharm": {
     "name": "#%% md\n"
    }
   },
   "source": [
    "Funkcja umożliwia przekazywanie opcjonalnych pól oraz wartości domyślnych. Służy do tego parametr `defaults`, który zawiera listę domyślnych wartości dla nieprzekazanych pól (w odwrotnej kolejności)."
   ]
  },
  {
   "cell_type": "code",
   "execution_count": 26,
   "metadata": {
    "pycharm": {
     "name": "#%%\n"
    }
   },
   "outputs": [
    {
     "name": "stdout",
     "output_type": "stream",
     "text": [
      "[User(first_name='Lukasz', last_name='Strąk', credit_card=True), User(first_name='Jan', last_name='Kowalski', credit_card=False)]\n"
     ]
    }
   ],
   "source": [
    "User = namedtuple('User', ['first_name', 'last_name', 'credit_card'], defaults=[False])\n",
    "\n",
    "user_col = [User('Lukasz', 'Strąk', True), User(first_name='Jan', last_name='Kowalski')]\n",
    "\n",
    "print(user_col)"
   ]
  },
  {
   "cell_type": "markdown",
   "metadata": {
    "pycharm": {
     "name": "#%% md\n"
    }
   },
   "source": [
    "##Bibliografia\n",
    "\n",
    "- https://docs.python.org/3.8/library/shelve.html\n",
    "- https://medium.com/@vmsp/less-known-bits-of-the-python-standard-library-46dc88490115\n",
    "- https://stackabuse.com/introduction-to-pythons-collections-module\n",
    "- https://docs.python.org/3.8/library/collections.html\n",
    "- https://towardsdatascience.com/five-cool-python-looping-tips-14f6f44bcfc7\n",
    "\n",
    "## Zadania do wykonania\n",
    "\n",
    "### Zadanie 1\n",
    "\n",
    "Liczbę $\\pi$ można obliczyć stosując metodę Monte Carlo. Polega ona na wielokrotnym obliczeniu nierówności:\n",
    "$$ x^2 + y^2 \\leq 1$$. Należy wylosować punkt $x', y' \\in [0,1]$ i jeśli spełnia on nierówność należy dodać go do sumy punktów spełniających nierówność. Następnie otrzymaną sumę należy pomnożyć przez cztery i podzielić przez liczbę wszystkich prób. Wyznacz dokładność zależną od liczby prób.\n",
    "\n",
    "Podpowiedź: do losowania można użyć funkcji `random.uniform`.\n",
    "\n",
    "### Zadanie 2\n",
    "\n",
    "Dla $k$ kolejek zaimplementuj karuzelowy algorytm przydziału zadań. Przykładowo dla trzech kolejek:\n",
    "1. `ABC`\n",
    "2. `DE`\n",
    "3. `F`\n",
    "\n",
    "Zostaną obsłużone zadania wg. kolejności: `ADFBEC`.\n",
    "\n",
    "### Zadanie 3\n",
    "\n",
    "Stwórz kolekcję książek zawierającą takie pola jak `tytuł`, `gatunek`, `autor`, `isbn`. Napisz trzy funkcje, (i) zapisującą kolekcję, (ii) odczytującą kolekcję, (iii) obliczająca statystykę wg. gatunku i autora.\n",
    "\n",
    "### Zadanie 4\n",
    "\n",
    "Za pomocą `namedtuple` i innych poznanych kolekcji zaimplementuj algorytm tworzący drzewo binarne."
   ]
  },
  {
   "cell_type": "markdown",
   "metadata": {},
   "source": [
    "### Zadanie 1"
   ]
  },
  {
   "cell_type": "code",
   "execution_count": 7,
   "metadata": {},
   "outputs": [
    {
     "name": "stdout",
     "output_type": "stream",
     "text": [
      "The result is: 3.1468\n",
      "The relative error is: 0.0016575498431524668\n",
      "The accuracy  is: 0.9983424501568475\n"
     ]
    }
   ],
   "source": [
    "import numpy as np\n",
    "import math\n",
    "\n",
    "def monte_carlo(number_of_trials):\n",
    "    points = 0\n",
    "    for i in range(number_of_trials):\n",
    "        x = np.random.uniform(0, 1)\n",
    "        y = np.random.uniform(0, 1)\n",
    "        if x**2 + y**2 > 1:\n",
    "            continue\n",
    "        else:\n",
    "            points += 1\n",
    "    result = (points * 4) / number_of_trials\n",
    "    absolute_error = abs(math.pi - result)\n",
    "    relative_error = absolute_error / math.pi\n",
    "    accuracy = 1 - relative_error\n",
    "    print(f'The result is: {result}')\n",
    "    print(f'The relative error is: {relative_error}')\n",
    "    print(f'The accuracy is: {accuracy}')\n",
    "\n",
    "\n",
    "monte_carlo(1000000)"
   ]
  },
  {
   "cell_type": "code",
   "execution_count": null,
   "metadata": {},
   "outputs": [],
   "source": [
    "### Zadanie 2"
   ]
  },
  {
   "cell_type": "code",
   "execution_count": 1,
   "metadata": {},
   "outputs": [
    {
     "name": "stdout",
     "output_type": "stream",
     "text": [
      "queue 1: deque([3, 5, 2], maxlen=3)\n",
      "queue 2: deque([2], maxlen=1)\n",
      "queue 3: deque([5, 3, 5], maxlen=3)\n",
      "queue 4: deque([3, 2], maxlen=2)\n",
      "queue 5: deque([8, 8, 1], maxlen=3)\n",
      "list of tasks: [3, 2, 5, 3, 8, 5, 3, 2, 8, 2, 5, 1]\n"
     ]
    }
   ],
   "source": [
    "import numpy as np\n",
    "from collections import deque\n",
    "\n",
    "def queue(number_of_queues):\n",
    "    list_of_tasks = []\n",
    "    list_of_queues = []\n",
    "    max_length = 0\n",
    "\n",
    "    for i in range(1,number_of_queues+1):\n",
    "\n",
    "        deq = deque(maxlen = np.random.randint(1,4))\n",
    "\n",
    "        for j in range(1,deq.maxlen+1):\n",
    "            deq.append(np.random.randint(1,9))\n",
    "        print(f'queue {i}: {deq}')\n",
    "\n",
    "        list_of_queues.append(deq)\n",
    "\n",
    "    for list in list_of_queues:\n",
    "        if max_length < len(list):\n",
    "            max_length=len(list)\n",
    "\n",
    "    for j in range(1,max_length+1):\n",
    "        for i in range(0,number_of_queues):\n",
    "            temp = list_of_queues[i]\n",
    "            #print(temp)\n",
    "            if temp:\n",
    "                list_of_tasks.append(temp.popleft())\n",
    "\n",
    "    print(f'list of tasks: {list_of_tasks}')\n",
    "\n",
    "queue(5)"
   ]
  },
  {
   "cell_type": "markdown",
   "metadata": {},
   "source": [
    "### Zadanie 3"
   ]
  },
  {
   "cell_type": "code",
   "execution_count": 2,
   "metadata": {},
   "outputs": [
    {
     "name": "stdout",
     "output_type": "stream",
     "text": [
      "Książka została dodana.\n",
      "Książka została dodana.\n",
      "Książka została dodana.\n",
      "Książka została dodana.\n",
      "Książka została dodana.\n",
      "Książka została dodana.\n",
      "\n",
      "Książka o numerze 1 to: \n",
      "Book(title='Odrodzone Królestwo', genre='historyczna', author='Elżbieta Cherezińska', isbn='23495923')\n",
      "\n",
      "Książka o numerze 2 to: \n",
      "Book(title='Diuna', genre='fantasy', author='Frank Herbert', isbn='2343453423')\n",
      "\n",
      "Książka o numerze 3 to: \n",
      "Book(title='Jonathan Strange i pan Norrell', genre='fantasy', author='Susanna Clark', isbn='738463423')\n",
      "\n",
      "Książka o numerze 4 to: \n",
      "Book(title='Piranesi', genre='fantasy', author='Susanna Clark', isbn='183854423')\n",
      "\n",
      "Książka o numerze 5 to: \n",
      "Book(title='Pacjentka', genre='kryminał', author='Alex Michaelides', isbn='738463423')\n",
      "\n",
      "Książka o numerze 6 to: \n",
      "Book(title='Run Away', genre='kryminał', author='Harlan Coben', isbn='645463423')\n",
      "\n",
      "Książki z kategorii fantasy:\n",
      "3\n",
      "Książki z kategorii kryminał:\n",
      "2\n",
      "Książki autora Frank Herbert:\n",
      "1\n",
      "Książki autora Susanna Clark:\n",
      "2\n"
     ]
    }
   ],
   "source": [
    "from collections import namedtuple\n",
    "\n",
    "Book = namedtuple('Book', ['title', 'genre', 'author', 'isbn'])\n",
    "books = []\n",
    "\n",
    "def create_book(title, genre, author, isbn):\n",
    "    new_book = Book(title, genre, author, isbn)\n",
    "    books.append(new_book)\n",
    "    print('Książka została dodana.')\n",
    "\n",
    "def read_books():\n",
    "    x = 1\n",
    "    for i in books:\n",
    "        print()\n",
    "        print(f'Książka o numerze {x} to: ')\n",
    "        print(i)\n",
    "        x += 1\n",
    "\n",
    "def statistics_genres(genre):\n",
    "    x = 0\n",
    "    genres = []\n",
    "    for book in books:\n",
    "        genres.append(books[x].genre)\n",
    "        x += 1\n",
    "\n",
    "    print(f'Książki z kategorii {genre}:')\n",
    "    print(genres.count(genre))\n",
    "\n",
    "def statistics_authors(author):\n",
    "    x = 0\n",
    "    authors = []\n",
    "    for book in books:\n",
    "        authors.append(books[x].author)\n",
    "        x += 1\n",
    "\n",
    "    print(f'Książki autora {author}:')\n",
    "    print(authors.count(author))\n",
    "\n",
    "create_book('Odrodzone Królestwo', 'historyczna', 'Elżbieta Cherezińska', '23495923')\n",
    "create_book('Diuna', 'fantasy', 'Frank Herbert', '2343453423')\n",
    "create_book('Jonathan Strange i pan Norrell', 'fantasy', 'Susanna Clark', '738463423')\n",
    "create_book('Piranesi', 'fantasy', 'Susanna Clark', '183854423')\n",
    "create_book('Pacjentka', 'kryminał', 'Alex Michaelides', '738463423')\n",
    "create_book('Run Away', 'kryminał', 'Harlan Coben', '645463423')\n",
    "\n",
    "read_books()\n",
    "print()\n",
    "statistics_genres('fantasy')\n",
    "statistics_genres('kryminał')\n",
    "statistics_authors('Frank Herbert')\n",
    "statistics_authors('Susanna Clark')"
   ]
  },
  {
   "cell_type": "markdown",
   "metadata": {},
   "source": [
    "### Zadanie 4"
   ]
  },
  {
   "cell_type": "code",
   "execution_count": 1,
   "metadata": {},
   "outputs": [],
   "source": [
    "class Node:\n",
    "    def __init__(self, val):\n",
    "        self.val = val\n",
    "        self.leftChild = None\n",
    "        self.rightChild = None\n",
    "    \n",
    "    def get(self):\n",
    "        return self.val\n",
    "    \n",
    "    def set(self, val):\n",
    "        self.val = val\n",
    "        \n",
    "    def getChildren(self):\n",
    "        children = []\n",
    "        if(self.leftChild != None):\n",
    "            children.append(self.leftChild)\n",
    "        if(self.rightChild != None):\n",
    "            children.append(self.rightChild)\n",
    "        return children\n",
    "        \n",
    "class BST:\n",
    "    def __init__(self):\n",
    "        self.root = None\n",
    "\n",
    "    def setRoot(self, val):\n",
    "        self.root = Node(val)\n",
    "\n",
    "    def insert(self, val):\n",
    "        if(self.root is None):\n",
    "            self.setRoot(val)\n",
    "        else:\n",
    "            self.insertNode(self.root, val)\n",
    "\n",
    "    def insertNode(self, currentNode, val):\n",
    "        if(val <= currentNode.val):\n",
    "            if(currentNode.leftChild):\n",
    "                self.insertNode(currentNode.leftChild, val)\n",
    "            else:\n",
    "                currentNode.leftChild = Node(val)\n",
    "        elif(val > currentNode.val):\n",
    "            if(currentNode.rightChild):\n",
    "                self.insertNode(currentNode.rightChild, val)\n",
    "            else:\n",
    "                currentNode.rightChild = Node(val)\n",
    "\n",
    "    def find(self, val):\n",
    "        return self.findNode(self.root, val)\n",
    "\n",
    "    def findNode(self, currentNode, val):\n",
    "        if(currentNode is None):\n",
    "            return False\n",
    "        elif(val == currentNode.val):\n",
    "            return True\n",
    "        elif(val < currentNode.val):\n",
    "            return self.findNode(currentNode.leftChild, val)\n",
    "        else:\n",
    "            return self.findNode(currentNode.rightChild, val)"
   ]
  }
 ],
 "metadata": {
  "kernelspec": {
   "display_name": "Python 3",
   "language": "python",
   "name": "python3"
  },
  "language_info": {
   "codemirror_mode": {
    "name": "ipython",
    "version": 3
   },
   "file_extension": ".py",
   "mimetype": "text/x-python",
   "name": "python",
   "nbconvert_exporter": "python",
   "pygments_lexer": "ipython3",
   "version": "3.8.3"
  }
 },
 "nbformat": 4,
 "nbformat_minor": 1
}
