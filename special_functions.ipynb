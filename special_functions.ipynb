{
 "cells": [
  {
   "cell_type": "markdown",
   "metadata": {
    "collapsed": true,
    "pycharm": {
     "name": "#%% md\n"
    }
   },
   "source": [
    "# Funkcje specjalne (_dunder methods_)\n",
    "\n",
    "Wyrażenie:\n",
    "\n",
    "`c = a + b`\n",
    "\n",
    "zawiera trzy zmienne, operator przypisania oraz binarny operator sumy. W przypadku, gdy zmienne `a`,`b`,`c` są zmiennymi typu prostego jak `int`, `float`, Python zawiera operator sumy w bibliotece standardowej, który zostanie użyty. W przypadku, gdy `a`, `b` i `c` byłyby nowego typu, operatory należałoby zdefiniować w ramach tego typu. Język Python zawiera znacznie więcej możliwości pod względem syntaktyki. Przykładowo, aby klasa obsługiwała następujące operacje:\n",
    "\n",
    "c = a + b\n",
    "\n",
    "c()\n",
    "\n",
    "Pod względem logicznym klasa musi zawierać co najmniej zdefiniowany operator sumy oraz funkcję `__call__`, której obsługa zostanie wywołania w momencie użycia nawiasów. W tym miejscu należy pamiętać o czytelności kodu. Zasada jest dokładnie taka sama jak w przypadku definiowania operatorów, własne funkcje specjalne i operatory muszą mieć logiczne uzasadnienie tzn. ich użycie nie powinno być mylące. W tym laboratorium zostanie omówiony sposób definiowania własnych operatorów oraz inne mechanizmy pokrewne.\n",
    "\n",
    "## Funkcja `__call__`\n",
    "\n",
    "Umożliwia tworzenie syntaktycznej konstrukcji podobnej do wywołania funkcji."
   ]
  },
  {
   "cell_type": "code",
   "execution_count": 4,
   "metadata": {
    "pycharm": {
     "name": "#%%\n"
    }
   },
   "outputs": [
    {
     "name": "stdout",
     "output_type": "stream",
     "text": [
      "test\n"
     ]
    }
   ],
   "source": [
    "class Strip:\n",
    "\n",
    "    def __init__(self, characters):\n",
    "        self.characters = characters\n",
    "\n",
    "    def __call__(self, string: str):\n",
    "        return string.strip(self.characters)\n",
    "\n",
    "strip = Strip('~')\n",
    "print(strip('~test~'))"
   ]
  },
  {
   "cell_type": "markdown",
   "metadata": {
    "pycharm": {
     "name": "#%% md\n"
    }
   },
   "source": [
    "## Funkcja `__getattr__`, `__setattr__` i `__hasattr`\n",
    "\n",
    "Funkcja `__getattr__` wywoływana jest jedynie, gdy klasa nie ma takiej zmiennej, więc jest to miejsce, w którym łatwo umieścić logikę związaną z brakującym atrybutem. Może również przydać się jako mechanizm tworzenia dynamicznych typów. Pokrewna funkcja `__getattribute__` wywoływana jest zawsze bez względu na to czy atrybut istnieje czy nie."
   ]
  },
  {
   "cell_type": "code",
   "execution_count": 7,
   "metadata": {
    "pycharm": {
     "name": "#%%\n"
    }
   },
   "outputs": [
    {
     "name": "stdout",
     "output_type": "stream",
     "text": [
      "/tmp\n",
      "/tmp\n"
     ]
    }
   ],
   "source": [
    "class Settings:\n",
    "    sett_map = {\n",
    "        'path': lambda self: self._path\n",
    "    }\n",
    "\n",
    "    def __init__(self, path):\n",
    "        self._path = path\n",
    "\n",
    "    def __getattr__(self, attr):\n",
    "        return Settings.sett_map[attr](self)\n",
    "\n",
    "setting = Settings('/tmp')\n",
    "print(setting.path)\n",
    "\n",
    "class Const:\n",
    "\n",
    "    def __setattr__(self, name, value):\n",
    "        if name in self.__dict__:\n",
    "            raise ValueError(\"Cannot change a const attribute\")\n",
    "\n",
    "        self.__dict__[name] = value\n",
    "\n",
    "    def __delattr__(self, name):\n",
    "        if name in self.__dict__:\n",
    "            raise ValueError(\"Cannot delete a const attribute\")\n",
    "        raise AttributeError(\"'{0}' object has no attribute '{1}'\"\n",
    "                             .format(self.__class__.__name__, name))\n",
    "\n",
    "Const.path = '/tmp'\n",
    "print(Const.path)"
   ]
  },
  {
   "cell_type": "markdown",
   "metadata": {
    "pycharm": {
     "name": "#%% md\n"
    }
   },
   "source": [
    "Powyższy przykład składa się z dwóch klas. Pierwsza z nich symuluje prosty sposób użycia atrybutów. Konfiguracja może zawierać różne opcje, co uzasadnia użycie dynamicznych zmiennych. W drugiej klasie można zauważyć sposób przechowywania wszystkich zmiennych w języku Python, tj. za pomocą słownika `__dict__`, który jest składnikiem każdej klasy. Funkcja `__hasattr__` zwraca wartość typu `bool`, jeśli istnieje dana zmienna w klasie.\n",
    "\n",
    "## Funkcja `__get__`, `__set__` i `__delete__`\n",
    "\n",
    "Użycie jest bardzo podobne jak w przypadku zestawu `__getattr__`, `__setattr__` i `__hasattr` z tą różnicą, że dotyczy implementacji właściwości, które zawierają _getter_ i _setter_. Dodatkowo inna jest sygnatura tych funkcji. Do obsługi należy zdefiniować dwie klasy. Jedna zawierająca zaimplementowane funkcje `__getattr__`, `__setattr__` oraz druga, która zawiera użycie pierwszej zdefiniowanej klasy."
   ]
  },
  {
   "cell_type": "code",
   "execution_count": 12,
   "metadata": {
    "pycharm": {
     "name": "#%%\n"
    }
   },
   "outputs": [
    {
     "name": "stdout",
     "output_type": "stream",
     "text": [
      "3.141592653589793\n",
      "180.0\n"
     ]
    }
   ],
   "source": [
    "import math\n",
    "\n",
    "class Degree:\n",
    "    def __init__(self, value=0.0):\n",
    "        self.value = float(value)\n",
    "\n",
    "    def __get__(self, instance, owner):\n",
    "        return self.value\n",
    "\n",
    "    def __set__(self, instance, value):\n",
    "        self.value = float(value)\n",
    "\n",
    "class Radian:\n",
    "    def __get__(self, instance, owner):\n",
    "        return math.radians(instance.degree)\n",
    "\n",
    "    def __set__(self, instance, value):\n",
    "        instance.degree = math.degrees(value)\n",
    "\n",
    "\n",
    "\n",
    "class RadianDegreeCalculator:\n",
    "    degree = Degree()\n",
    "    radian = Radian()\n",
    "\n",
    "calc = RadianDegreeCalculator()\n",
    "calc.degree = 180.0\n",
    "print(calc.radian)\n",
    "calc.radian = math.pi\n",
    "print(calc.degree)"
   ]
  },
  {
   "cell_type": "markdown",
   "metadata": {
    "pycharm": {
     "name": "#%% md\n"
    }
   },
   "source": [
    "Wzorcową jednostką są stopnie. Konwerter zmienia jedynie radiany na stopnie w przypadku przypisania wartości dla radianów i zmianę ze stopni na radiany w przypadku próby odczytu właściwości. Dodatkowo zarówno w klasie `Degree` oraz `Radian` w momencie wywołania `__get__` i `__set__` implementacja właściwości przekazuje bieżącą instancję klasy `RadianDegreeCalculator` (typ używa obu klas). Funkcja `__delete__` wywoływana jest w momencie wywołania właściwości ze słowem kluczowym `del`.\n",
    "\n",
    "## Funkcja `__new__` i `__del__`\n",
    "\n",
    "Funkcje są wywoływane w momencie kolejno, przed tworzeniem instancji klasy oraz w momencie zwolnienia obiektu (`del obj`). Funkcja `__new__` umożliwia kontrolowanie sposobu tworzenia klasy np. zmianę typu."
   ]
  },
  {
   "cell_type": "code",
   "execution_count": 17,
   "metadata": {
    "pycharm": {
     "name": "#%%\n"
    }
   },
   "outputs": [
    {
     "name": "stdout",
     "output_type": "stream",
     "text": [
      "Teacher\n",
      "Student\n"
     ]
    },
    {
     "data": {
      "text/plain": [
       "{'test': 123}"
      ]
     },
     "execution_count": 17,
     "metadata": {},
     "output_type": "execute_result"
    }
   ],
   "source": [
    "class Student:\n",
    "    def __init__(self):\n",
    "        print('Student')\n",
    "\n",
    "class Teacher:\n",
    "    def __init__(self):\n",
    "        print('Teacher')\n",
    "\n",
    "class Person:\n",
    "    def __new__(cls, *args, **kwargs):\n",
    "        if 'salary' in kwargs:\n",
    "            return Teacher()\n",
    "        else:\n",
    "            return Student()\n",
    "\n",
    "person = Person(salary=0)\n",
    "person = Person(exams_count=math.nan)"
   ]
  },
  {
   "cell_type": "markdown",
   "metadata": {
    "pycharm": {
     "name": "#%% md\n"
    }
   },
   "source": [
    "## Słownik `__slots__`, `__dict__`, `__class__`\n",
    "\n",
    "Temat słownika przechowującego wszystkie zmienne instancji klasy był już poruszany wielokrotnie. Zbiór `__slots__` jest relatywnie nowym pojęciem w języku Python. Umożliwia przekazanie środowisku uruchomieniowemu języka Python informacji o tym jakie zmienne klasa będzie posiadać, tak aby w momencie tworzenia instancji zarezerwować odpowiednią liczbę komórek pamięci. Pozwala to przyspieszyć działanie programu."
   ]
  },
  {
   "cell_type": "code",
   "execution_count": 27,
   "metadata": {
    "pycharm": {
     "name": "#%%\n"
    }
   },
   "outputs": [
    {
     "name": "stdout",
     "output_type": "stream",
     "text": [
      "2.4929304122924805\n",
      "2.8596513271331787\n",
      "<class '__main__.TestA'>\n",
      "TestA\n"
     ]
    }
   ],
   "source": [
    "from time import time\n",
    "\n",
    "class TestA:\n",
    "    __slots__ = ['x', 'y', 'z']\n",
    "    def __init__(self, x, y, z):\n",
    "        self.x = x\n",
    "        self.y = y\n",
    "        self.z = z\n",
    "\n",
    "class TestB:\n",
    "    def __init__(self, x, y, z):\n",
    "        self.x = x\n",
    "        self.y = y\n",
    "        self.z = z\n",
    "\n",
    "iterations = 10000000\n",
    "\n",
    "start_time = time()\n",
    "for _ in range(iterations):\n",
    "    TestA(1,2,3)\n",
    "\n",
    "print(time() - start_time)\n",
    "\n",
    "start_time = time()\n",
    "for _ in range(iterations):\n",
    "    TestB(1,2,3)\n",
    "\n",
    "print(time() - start_time)\n",
    "\n",
    "print(TestA(1,2,3).__class__)\n",
    "print(TestA(1,2,3).__class__.__name__)\n"
   ]
  },
  {
   "cell_type": "markdown",
   "metadata": {
    "pycharm": {
     "name": "#%% md\n"
    }
   },
   "source": [
    "Czym większa kolekcja tym różnica czasowa będzie większa. Zmienna wbudowana `__class__` przechowuje informacje o bieżącym typie danych.\n",
    "\n",
    "## Reprezentacje klasy\n",
    "\n",
    "W zależności od metody wyświetlania klasy istnieje możliwość obsługi dedykowanego dla niej formatowania. Technika przedefiniowana przynajmniej funkcji `__str__` przydaje się w trakcie debugowania. Wiele edytorów kodu języka Python używają tej informacji (okno _popup_ po najechaniu kursorem myszy na zmienną).\n",
    "\n",
    "| Nazwa funkcji | Opis | Przykład użycia |\n",
    "|-|-|-|\n",
    "| `__format__(self, spec)` | Do obsługi funkcji formatującej `format`. W zmiennej `spec` mogą pojawić się różne opcje. | `format(obj, 'f')`\n",
    "| `__bytes__(self)` | Przydatne do serializacji binarnej. | `bytes(obj)`\n",
    "| `__str__(self)` | Należy zwrócić łańcuch znaków, który ma się pojawić w momencie konwersji klasy na łańcuch znaków. | `str(obj)` |\n",
    "| `__repr__(self)` | Co ma zostać zwrócone po wywołaniu funkcji wbudowanej `repr`. | `repr(obj)` |"
   ]
  },
  {
   "cell_type": "code",
   "execution_count": 29,
   "metadata": {
    "pycharm": {
     "name": "#%%\n"
    }
   },
   "outputs": [
    {
     "name": "stdout",
     "output_type": "stream",
     "text": [
      "Jan Kowalski\n",
      "Jan Kowalski\n"
     ]
    }
   ],
   "source": [
    "class Student:\n",
    "    def __init__(self, name: str, surname: str):\n",
    "        self.name = name\n",
    "        self.surname = surname\n",
    "\n",
    "    def __str__(self):\n",
    "        return f'{self.name} {self.surname}'\n",
    "\n",
    "\n",
    "print(Student('Jan', 'Kowalski'))\n",
    "student = Student('Jan', 'Kowalski')\n",
    "print(f'{student}')"
   ]
  },
  {
   "cell_type": "markdown",
   "metadata": {
    "pycharm": {
     "name": "#%% md\n"
    }
   },
   "source": [
    "Należy w tym miejscu podkreślić, że wiele funkcji wbudowanych bazuje na tych funkcjach, co umożliwia własnemu typowi na interakcje z nimi.\n",
    "\n",
    "## Operatory porównania\n",
    "\n",
    "Poniżej znajduje się tabela przedstawiająca najważniejsze operatory używane w instrukcjach warunkowych oraz funkcja `hash`.\n",
    "\n",
    "| Nazwa funkcji | Opis |\n",
    "|-|-|\n",
    "`obj.__lt__(self.obj2)` | `x < y` |\n",
    "`obj.__le__(self.obj2)` | `x <= y` |\n",
    "`obj.__gt__(self.obj2)` | `x > y` |\n",
    "`obj.__ge__(self.obj2)` | `x>= y` |\n",
    "`obj.__eq__(self.obj2)` | `x == y` |\n",
    "`obj.__ne__(self.obj2)` | `x != y` |\n",
    "`obj.__bool__(self)` | `bool(x)` |\n",
    "`obj.__hash__(self)` | `hash(x)` |\n",
    "`obj.__add__` | `obj1 + obj2` |\n",
    "`obj.__sub__` | `obj1 - obj2` |\n",
    "\n",
    "Funkcja `hash` jest szczególnie istotna z punktu widzenia słowników i w momencie gdy klasa ta ma być kluczem w słowniku. Zostanie wywołana na instancji, przed próbą dodania nowego elementu do słownika. Na powyższej tabeli pokazano jedynie dwa operatory binarne. Ich lista jest znacznie bardziej obszerna i składa się ze wszystkich operatorów jakie są dostępne w języku Python."
   ]
  },
  {
   "cell_type": "code",
   "execution_count": 38,
   "metadata": {
    "pycharm": {
     "name": "#%%\n"
    }
   },
   "outputs": [
    {
     "name": "stdout",
     "output_type": "stream",
     "text": [
      "Yes\n",
      "No\n",
      "True\n",
      "1\n",
      "2\n"
     ]
    }
   ],
   "source": [
    "class Test:\n",
    "    def __init__(self, x: int):\n",
    "        self.x = x\n",
    "\n",
    "    def __bool__(self):\n",
    "        return isinstance(self.x, int)\n",
    "\n",
    "    def __lt__(self, other):\n",
    "        return self.x < other.x\n",
    "\n",
    "    def __hash__(self):\n",
    "        return self.x\n",
    "\n",
    "if Test(1):\n",
    "    print('Yes')\n",
    "else:\n",
    "    print('No')\n",
    "\n",
    "if Test(1.0):\n",
    "    print('Yes')\n",
    "else:\n",
    "    print('No')\n",
    "\n",
    "print(Test(1) < Test(2))\n",
    "\n",
    "test_dict = { hash(Test(1)): 1, hash(Test(2)): 2 }\n",
    "print(test_dict[hash(Test(1))])\n",
    "print(test_dict[hash(Test(2))])"
   ]
  },
  {
   "cell_type": "markdown",
   "metadata": {
    "pycharm": {
     "name": "#%% md\n"
    }
   },
   "source": [
    "## Operacje na klasie jako kontenerze\n",
    "\n",
    "Dodatkowe operatory, które nie występują w innych językach programowania jak `in` można również zdefiniować w klasie. Poniżej znajduje się przykład użycia klasy `Container`, która symuluje działanie kolekcji."
   ]
  },
  {
   "cell_type": "code",
   "execution_count": 42,
   "metadata": {
    "pycharm": {
     "name": "#%%\n"
    }
   },
   "outputs": [
    {
     "name": "stdout",
     "output_type": "stream",
     "text": [
      "in condition check\n",
      "True\n",
      "False\n",
      "zero element\n",
      "0\n",
      "Container as generator\n",
      "0\n",
      "1\n",
      "2\n",
      "3\n",
      "4\n",
      "5\n",
      "6\n",
      "7\n",
      "8\n",
      "9\n",
      "len\n",
      "10\n"
     ]
    }
   ],
   "source": [
    "class Container:\n",
    "    def __init__(self, n):\n",
    "        self.n = n\n",
    "\n",
    "    def __contains__(self, item):\n",
    "        return -1 < item < self.n\n",
    "\n",
    "    def __getitem__(self, position):\n",
    "        return position\n",
    "\n",
    "    def __setitem__(self, key, value):\n",
    "        raise NotImplemented()\n",
    "\n",
    "    def __iter__(self):\n",
    "        for i in range(self.n):\n",
    "            yield i\n",
    "\n",
    "    def __len__(self):\n",
    "        return self.n\n",
    "\n",
    "\n",
    "container = Container(10)\n",
    "print('in condition check')\n",
    "print(1 in container) # __contains__\n",
    "print(-1 in container) # __contains__\n",
    "print('zero element')\n",
    "print(container[0]) # __getitem__\n",
    "print('Container as generator')\n",
    "for i in container: # __iter__\n",
    "    print(i)\n",
    "\n",
    "print('len')\n",
    "print(len(container)) # __len__"
   ]
  },
  {
   "cell_type": "markdown",
   "metadata": {
    "pycharm": {
     "name": "#%% md\n"
    }
   },
   "source": [
    "## Funkcje `__enter__` i `__exit__`\n",
    "\n",
    "Obie funkcje zostaną wywołane w momencie użycia konstrukcji `with` w języku Python. Funkcja `enter` zaraz po wejściu sterowania programu do __`with`__, a __`__exit__`__ w momencie opuszczenia bloku. Obie funkcje są zaimplementowane w funkcji standardowej `open`. W funkcji `__enter__` następuje wywołanie odpowiednich funkcji z bibliotek systemu operacyjnego do pobrania uchwytu do pliku, a w `__exit__` wykonanie sekwencji `flush` i `close`, ta ostatnia zwalnia uchwyt, co pozwala innemu programowi o pełny dostęp do pliku.\n",
    "\n",
    "## Zadania do wykonania\n",
    "\n",
    "### Zadanie 1\n",
    "Napisz implementację drzewa wraz ze zdefiniowanymi operatorami jak:\n",
    "- `len` ma zwracać wysokość drzewa,\n",
    "- funkcja `count` ma zwracać liczbę wierzchołków,\n",
    "- operator potęgowania  `__pow__` (`t**2`) ma wstawić losowe wartości, aż funkcja `count` nie będzie zwracać potęgi liczby pierwotnej np. przed `count(t)=3`, `t**2, count(t)=3**2`.\n",
    "- iterator, który umożliwia przegląd wszystkich wierzchołków,\n",
    "- sprawdzenie czy element znajduje się w drzewie za pomocą operatora `in` i `__getitem__`,\n",
    "- zwrócić `False` jeśli drzewo jest puste oraz `True` w przeciwnym przypadku,\n",
    "- dodawać elementy za pomocą `__setitem__` oraz `__lshift__` (operator `t << elem`),\n",
    "- `str` ma zwracać narysowane drzewo,\n",
    "- (opcjonalne) plus ma zwracać nowe drzewo złożone z dwóch,\n",
    "- (opcjonalne) minus ma zwracać nowe drzewo będące różnicą."
   ]
  },
  {
   "cell_type": "markdown",
   "metadata": {},
   "source": [
    "###Zadanie 1"
   ]
  },
  {
   "cell_type": "code",
   "execution_count": 1,
   "metadata": {},
   "outputs": [
    {
     "name": "stdout",
     "output_type": "stream",
     "text": [
      "Czy drzewo jest puste: False\n",
      "Wysokość drzewa: 3\n",
      "Liczba wierzchołków: 8\n",
      "Wizualizacja drzewa: \n",
      "    3\n",
      "   / \\\n",
      "  2   8\n",
      " /   / \\\n",
      "1   7  14\n",
      "       / \\\n",
      "      /   \\\n",
      "     12   20\n",
      "Preorder: 3-2-1-8-7-14-12-20-\n",
      "Inorder: 1-2-3-7-8-12-14-20-\n",
      "Postorder: 1-2-7-12-20-14-8-3-\n",
      "True\n",
      "False\n"
     ]
    }
   ],
   "source": [
    "from drawtree import draw_bst\n",
    "\n",
    "class Node():\n",
    "    def __init__(self, data=None):\n",
    "        self.data = data\n",
    "        self.left_child = None\n",
    "        self.right_child = None\n",
    "\n",
    "\n",
    "class BST():\n",
    "    def __init__(self):\n",
    "        self.root = Node()\n",
    "        self.nodes = 0\n",
    "        self.list_of_nodes = list()\n",
    "\n",
    "    def __setitem__(self, data):\n",
    "\n",
    "        if self.root.data == None:\n",
    "            self.root.data = data\n",
    "        else:\n",
    "            def add_to_node(data, node):\n",
    "                if data < node.data:\n",
    "                    if node.left_child == None:\n",
    "                        node.left_child = Node(data)\n",
    "                    else:\n",
    "                        add_to_node(data, node.left_child)\n",
    "                if data > node.data:\n",
    "                    if node.right_child == None:\n",
    "                        node.right_child = Node(data)\n",
    "                    else:\n",
    "                        add_to_node(data, node.right_child)\n",
    "\n",
    "            add_to_node(data, self.root)\n",
    "        self.nodes += 1\n",
    "        self.list_of_nodes.append(data)\n",
    "\n",
    "    def count(self):\n",
    "        print(f'Liczba wierzchołków: {self.nodes}')\n",
    "\n",
    "    def draw_tree(self):\n",
    "        print('Wizualizacja drzewa: ')\n",
    "        self.bst = draw_bst(self.list_of_nodes)\n",
    "\n",
    "\n",
    "    def view_tree(self):\n",
    "        result = ''\n",
    "\n",
    "        def vlr(result, node):\n",
    "            if node:\n",
    "                if node.data:\n",
    "                    result += (str(node.data) + '-')\n",
    "                    result = vlr(result, node.left_child)\n",
    "                    result = vlr(result, node.right_child)\n",
    "            return result\n",
    "\n",
    "        def lvr(result, node):\n",
    "            if node:\n",
    "                if node.data:\n",
    "                    result = lvr(result, node.left_child)\n",
    "                    result += (str(node.data) + '-')\n",
    "                    result = lvr(result, node.right_child)\n",
    "            return result\n",
    "\n",
    "        def lrv(result, node):\n",
    "            if node:\n",
    "                if node.data:\n",
    "                    result = lrv(result, node.left_child)\n",
    "                    result = lrv(result, node.right_child)\n",
    "                    result += (str(node.data) + '-')\n",
    "            return result\n",
    "\n",
    "        print(f'Preorder: {vlr(result, self.root)}')\n",
    "        print(f'Inorder: {lvr(result, self.root)}')\n",
    "        print(f'Postorder: {lrv(result, self.root)}')\n",
    "\n",
    "    def is_empty(self):\n",
    "        if self.root == None:\n",
    "            return True\n",
    "        else:\n",
    "            return False\n",
    "\n",
    "    def height(self, root):\n",
    "        if root is None:\n",
    "            return -1\n",
    "        return max(self.height(root.left_child), self.height(root.right_child)) + 1\n",
    "\n",
    "    def find(self, value):\n",
    "        if self.root is None:\n",
    "            return False\n",
    "        return self.__getitem__(self.root, value)\n",
    "\n",
    "    def __getitem__(self, node, data):\n",
    "        if node is None:\n",
    "            return False\n",
    "        elif node.data == data:\n",
    "            return True\n",
    "        elif node.data > data:\n",
    "            return self.__getitem__(node.left_child, data)\n",
    "        else:\n",
    "            return self.__getitem__(node.right_child, data)\n",
    "\n",
    "\n",
    "tree = BST()\n",
    "root = tree.root\n",
    "tree.__setitem__(3)\n",
    "tree.__setitem__(2)\n",
    "tree.__setitem__(1)\n",
    "tree.__setitem__(8)\n",
    "tree.__setitem__(7)\n",
    "tree.__setitem__(14)\n",
    "tree.__setitem__(12)\n",
    "tree.__setitem__(20)\n",
    "print(f'Czy drzewo jest puste: {tree.is_empty()}')\n",
    "print(f'Wysokość drzewa: {tree.height(root)}')\n",
    "tree.count()\n",
    "tree.draw_tree()\n",
    "tree.view_tree()\n",
    "\n",
    "print(tree.find(14))\n",
    "print(tree.find(200))\n"
   ]
  }
 ],
 "metadata": {
  "kernelspec": {
   "display_name": "Python 3",
   "language": "python",
   "name": "python3"
  },
  "language_info": {
   "codemirror_mode": {
    "name": "ipython",
    "version": 3
   },
   "file_extension": ".py",
   "mimetype": "text/x-python",
   "name": "python",
   "nbconvert_exporter": "python",
   "pygments_lexer": "ipython3",
   "version": "3.8.3"
  }
 },
 "nbformat": 4,
 "nbformat_minor": 1
}
