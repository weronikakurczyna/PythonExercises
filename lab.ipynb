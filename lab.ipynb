{
 "cells": [
  {
   "cell_type": "markdown",
   "metadata": {},
   "source": [
    "## Programowanie synchroniczne przy użyciu biblioteki _asyncio_\n",
    "\n",
    "W przeważającej liczbie praktycznych przypadków, programy nie wymagają organizacji w równoległe jednostki obliczeniowe. Często jednak w praktyce wykorzystuje się dużą liczbę żądań IO (_IO_ _requests_), które wymagają czasu na odpowiedź. Biblioteka _asyncio_ ułatwia tworzenie tego typu rozwiązań poprzez tzw. programowanie sterowanie zdarzeniami. W momencie żądania wejścia, wyjścia nie tworzony jest nowy wątek, a jedynie co jakiś czas sprawdzany jest stan żądania. Umożliwia to wątkowi głównemu wykonywanie kolejnych instrukcji. Jeśli żądanie jest zakończone, uruchamiany jest odpowiedni kod obsługujący otrzymane dane. Największą jednak zaletą tego rozwiązania jest brak zmiany kontekstu _context_ _switching_: wskaźnika instrukcji, rejestrów procesora i zmiennych między wątkami, co wpływa na szybkość działania. Poniżej zostaną omówione najważniejsze aspekty programowania asynchronicznego."
   ]
  },
  {
   "cell_type": "markdown",
   "metadata": {},
   "source": [
    "## Współprogram (_coroutines_)\n",
    "\n",
    "Wg. definicji współprogram to ciąg instrukcji, który może zostać zawieszony na czas uruchomienia innego ciągu instrukcji. Najprostszym kodem wykorzystującym tą definicję jest _yield_, który przekazuje sterowanie do funkcji wywołującej, aby następnie powrócić do pierwotnej funkcji. Dodatkowo do samego języka Python wprowadzono dwa nowe słowa kluczowe: _async_ i _await_ umożliwiające zarządzanie współprogramem. Ułatwia to uruchamianie i oczekiwanie na odpowiedź w kodzie asynchronicznym. Funkcja, która wykorzystuje metody asynchronicznych również musi być asynchroniczna. Dlatego już na początkowym etapie życia aplikacji należy wywołać nasz punkt wejścia do programu jako _async_. Służy do tego funkcja _run_ znajdująca się w module _asyncio_."
   ]
  },
  {
   "cell_type": "code",
   "execution_count": null,
   "metadata": {},
   "outputs": [],
   "source": [
    "from asyncio import sleep, run\n",
    "\n",
    "async def do_work(work):\n",
    "    await sleep(work)\n",
    "    return f'done work in {work}s'\n",
    "\n",
    "async def main():\n",
    "    print(await do_work(1))\n",
    "    print(await do_work(2))\n",
    "    print('done')\n",
    "\n",
    "run(main())"
   ]
  },
  {
   "cell_type": "markdown",
   "metadata": {},
   "source": [
    "W momencie wywołania funkcji wraz z _await_ kod zostanie zawieszony do czasu otrzymania wyniku (linie 5,9,10). W linii 5 została użyta funkcja _sleep_, która zwraca _awaitable_ _object_, obiekt proxy, który umożliwia dalsze przetwarzanie np. oczekiwanie na zakończenie czy anulowanie zadania. Również każda funkcja przed deklaracją której pojawi się słowo kluczowe _async_ zwróci to samo proxy (linia 3). Umożliwia to wywołanie _await_, które obsłuży zdarzenie. Wywołanie funkcji, które nie zawiera oczekiwania na wynik nie zostanie nigdy wywołane. Przykładowo, gdyby w linii 8 pojawiło się samo wywołanie funkcji _do_\\__work_ (bez _await_), funkcja nie zostałaby nigdy wywołana."
   ]
  },
  {
   "cell_type": "markdown",
   "metadata": {},
   "source": [
    "## Zadania (_task_)\n",
    "\n",
    "Klasa ta umożliwia asynchroniczne wykonanie kodu i zawiera zestaw przydatnych funkcji jak _cancel_, które anuluje wykonanie zadania (np. gdy trwa zbyt długo czy w momencie gdy użytkownik chce wyjść z aplikacji). Wewnątrz asynchronicznego kodu rzucany jest błąd (_CancelledError_), aby w przypadku oczekiwania na operację _IO_ wznowić działanie kodu na bloku obsługi wyjątku _catch_. Poniżej znajduje się przykład tworzenia dwóch zadań i wykonanie ich asynchronicznie."
   ]
  },
  {
   "cell_type": "code",
   "execution_count": null,
   "metadata": {},
   "outputs": [],
   "source": [
    "from asyncio import create_task\n",
    "from time import sleep\n",
    "\n",
    "async def do_work(work):\n",
    "    sleep(work) # sleep z biblioteki time również działa\n",
    "    print(f'done work in {work}s')\n",
    "\n",
    "async def main():\n",
    "    task1 = create_task(do_work(1))\n",
    "    task2 = create_task(do_work(1))\n",
    "    await task1\n",
    "    await task2\n",
    "    print('done')\n",
    "\n",
    "asyncio.run(main())"
   ]
  },
  {
   "cell_type": "markdown",
   "metadata": {},
   "source": [
    "## Przydatne funkcje\n",
    "\n",
    "Programowanie asynchroniczne zyskuje coraz większą popularność. Istnieje wiele modułów, które są kompatybilne z modułem asyncio, a które mogą zastąpić standardowe klasy jak _aiofile_ do obsługi plików, _aiohttp_ do obsługi żądań _htttp_. Z roku na rok przybywa nowych modułów. Jednak w tym miejscu należy podkreślić, że _asyncio_ umożliwia uruchamianie również klasycznych funkcji dostępu do operacji _IO_. Poprzedni przykład kodu (wyżej) wykorzystuje funkcję _sleep_ (linia 5). Poniżej znajduje się lista funkcji z biblioteki standardowej _asyncio_."
   ]
  },
  {
   "cell_type": "markdown",
   "metadata": {},
   "source": [
    "### Funkcja _gather_\n",
    "\n",
    "Umożliwia wywołanie wielu zadań asynchronicznie. Dodatkowo sterowanie zostanie zwrócone dopiero w momencie, gdy każde zadanie zostanie wykonane. Poniżej kod uruchamiający trzy zadania asynchronicznie."
   ]
  },
  {
   "cell_type": "code",
   "execution_count": null,
   "metadata": {},
   "outputs": [],
   "source": [
    "from asyncio import sleep, run, gather\n",
    "\n",
    "async def do_work(work):\n",
    "    await sleep(work)\n",
    "    print(f'done work in {work}s')\n",
    "    return f'worker that work {work}s done'\n",
    "\n",
    "async def main():\n",
    "    results = await gather(do_work(3), do_work(5), do_work(1))\n",
    "    [print(result) for result in results]\n",
    "    print('done')\n",
    "\n",
    "run(main())"
   ]
  },
  {
   "cell_type": "markdown",
   "metadata": {},
   "source": [
    "Wyniki zwracane przez _gather_ są sortowane zgodnie z kolejnością występowania w parametrze przekazywanym do funkcji _gather_. "
   ]
  },
  {
   "cell_type": "markdown",
   "metadata": {},
   "source": [
    "### Funkcja _wait_\n",
    "\n",
    "W niektórych przypadkach pożądane jest przetworzenie zakończonej funkcji asynchronicznej zamiast oczekiwać zakończenia wszystkich. Funkcja _wait_ zwraca (bez blokowania) dwuelementową tuplę z listą zadań zakończonych oraz oczekujących. Dodatkowo funkcja posiada parametr _return_\\__when_ definiujący kiedy metoda powinna zwrócić wynik. Dostępne opcje to (stałe) _FIRST_\\__COMPLETED_, _FIRST_\\__EXCEPTION_ i _ALL_\\__COMPLETED_. Poniżej znajduje się przykład wykorzystania funkcji _wait_."
   ]
  },
  {
   "cell_type": "code",
   "execution_count": null,
   "metadata": {},
   "outputs": [],
   "source": [
    "from asyncio import sleep, run, wait, create_task, FIRST_COMPLETED\n",
    "\n",
    "async def do_work(work):\n",
    "    await sleep(work)\n",
    "    print(f'done work in {work}s')\n",
    "    return f'worker that work {work}s done'\n",
    "\n",
    "async def main():\n",
    "    t1 = create_task(do_work(3))\n",
    "    t2 = create_task(do_work(5))\n",
    "    t3 = create_task(do_work(1))\n",
    "\n",
    "    done, _ = await wait([t1, t2, t3], return_when=FIRST_COMPLETED)\n",
    "    [print(result) for result in done]\n",
    "    print('one done')\n",
    "    await wait([t1, t2, t3]) # domyślnie przekazywany jest ALL_COMPLETED\n",
    "    print('all done')\n",
    "\n",
    "run(main())"
   ]
  },
  {
   "cell_type": "markdown",
   "metadata": {},
   "source": [
    "### Przykład użycia _async_ z instrukcją _for_\n",
    "\n",
    "W przypadku, gdy program często korzysta operacji _IO_ często spotykaną techniką jest zastosowanie instrukcji _yield_, która zwraca wynik do kodu, który wywołał funkcję zwracającą _yield_ i po jego obsłudze sterowanie jest przekazane z powrotem do funkcji, która zwróciła _yield_. Przykładowo poszukujemy pliku, który zawiera pewną frazę. Pliki są przechowywane w usłudze _Amazon_ _s3_. Pobieranie wszystkich plików jest nieefektywne. Dlatego lepiej sprawdzać pliki jeden po drugim i w odpowiednim momencie zakończyć pobieranie. Poniższy przykład prezentuje szablon użycia instrukcji _yield_ wraz z _async_ _for_."
   ]
  },
  {
   "cell_type": "code",
   "execution_count": null,
   "metadata": {},
   "outputs": [],
   "source": [
    "from asyncio import sleep, run, create_task, wait\n",
    "\n",
    "async def get_docs():\n",
    "    for i in range(10):\n",
    "        yield i #zwracamy zawartość dokumentu\n",
    "    await sleep(5)\n",
    "\n",
    "async def main():\n",
    "    async for doc in get_docs():\n",
    "        print(doc)\n",
    "    print('done')\n",
    "\n",
    "run(main())"
   ]
  },
  {
   "cell_type": "markdown",
   "metadata": {},
   "source": [
    "Asynchroniczna pętla _for_ wykonywana jest w instrukcji 9. Wynik zwracany jest przed końcem życia współprogramu (linia 5). Słowo _done_ pojawi się dopiero po 5 sekundach, w momencie kiedy zakończy się kod funkcji _get_\\__docs_."
   ]
  },
  {
   "cell_type": "markdown",
   "metadata": {},
   "source": [
    "## Zadania do wykonania\n",
    "\n",
    "### 1. Napisz program pobierające dane z Internetu.\n",
    "\n",
    "Zadanie polega na znalezieniu legalnego źródła mediów w Internecie np. zdjęć. Program powinien posiadać pasek postępu oraz łatwy do zrozumienia system logowania błędów."
   ]
  },
  {
   "cell_type": "code",
   "execution_count": 60,
   "metadata": {},
   "outputs": [
    {
     "name": "stderr",
     "output_type": "stream",
     "text": [
      " 99% |####################################################################### |\r"
     ]
    },
    {
     "data": {
      "text/plain": [
       "'Download successful'"
      ]
     },
     "execution_count": 60,
     "metadata": {},
     "output_type": "execute_result"
    }
   ],
   "source": [
    "import requests\n",
    "import time\n",
    "import numpy as np\n",
    "import progressbar\n",
    "\n",
    "url = \"https://upload.wikimedia.org/wikipedia/commons/2/2f/Naran_random_place.jpg\"\n",
    "\n",
    "def download_file(url, n_chunk=10):\n",
    "    r = requests.get(url, stream=True)\n",
    "    block_size = 4096\n",
    "    file_size = int(r.headers.get('Content-Length', None))\n",
    "    num_bars = np.ceil(file_size / (n_chunk * block_size))\n",
    "    bar = progressbar.ProgressBar(maxval=num_bars).start()\n",
    "    try:\n",
    "        with open('random-image.jpg', 'wb') as f:\n",
    "            for i, chunk in enumerate(r.iter_content(chunk_size=n_chunk * block_size)):\n",
    "                bar.update(i+1)\n",
    "                time.sleep(0.0005)\n",
    "                f.write(chunk)\n",
    "        return 'Download successful'\n",
    "    except NameError:\n",
    "        print('Name of value not found')\n",
    "    except MemoryError:\n",
    "        print('Size of some variable exceeded')\n",
    "    except KeyboardInterrupt:\n",
    "        print('Download was interrupted')\n",
    "    except ImportError:\n",
    "        print('Missing some import')\n",
    "        \n",
    "\n",
    "download_file(url)"
   ]
  }
 ],
 "metadata": {
  "kernelspec": {
   "display_name": "Python 3",
   "language": "python",
   "name": "python3"
  },
  "language_info": {
   "codemirror_mode": {
    "name": "ipython",
    "version": 3
   },
   "file_extension": ".py",
   "mimetype": "text/x-python",
   "name": "python",
   "nbconvert_exporter": "python",
   "pygments_lexer": "ipython3",
   "version": "3.8.3"
  }
 },
 "nbformat": 4,
 "nbformat_minor": 2
}
