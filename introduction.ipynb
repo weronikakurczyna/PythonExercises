{
 "cells": [
  {
   "cell_type": "markdown",
   "metadata": {
    "collapsed": true,
    "pycharm": {
     "name": "#%% md\n"
    }
   },
   "source": [
    "# Wprowadzenie do języka Python\n",
    "\n",
    "W niniejszym rozdziale zostaną przedstawione informacje związane z podstawowymi typami danych, przepływem sterownia programu oraz zarządzaniem modułami. Rozdział ten przeznaczony jest dla osób zaznajomionych z co najmniej jednym językiem programowania. Na końcu znajdują się zadania do wykonania.\n",
    "\n",
    "## Typy danych\n",
    "\n",
    "Język Python zawiera wiele wbudowanych dostępnych w bibliotekach standardowy typów danych. Poniżej znajduje się krótka lista najczęściej stosowanych.\n",
    "\n",
    "| Typ  | Opis |\n",
    "|-|-|\n",
    "| `int` | Standardowy typ całkowitoliczbowy o długości 32 bity. Zawiera liczne przeciążone operatora np. // dla dzielenia bez reszty. |\n",
    "| `str` | Łańcuch znaków, domyślnie w języku Python każdy znak jest kodowany w unikodzie (_Unicode_). Istnieją trzy sposoby inicjalizacji łańcucha, za pomocą cudzysłowów: (i) pojedynczych, (ii) podwójnych i (iii) potrójnych (pojedynczych lub podwójnych). Pierwsze dwa są stosowane do tekstu jednolinijkowego, oczywiście można stosować \\n do łamania linii (w momencie wyświetlenia), ale chodzi o zapis w samym kodzie programu, przykładowo `n_1='a'`, `n_2=\"b\"`. Potrójny cudzysłów (pojedynczy lub podwójny) używany jest do tekstu wielolinijkowego. Przed łańcuchem można użyć dodatkowo symbolu `b` oznaczającego kodowanie bajtowe (8 bitowe), wtedy każdy znak będzie kodowany w _ASCII_ np. `n_3=b'tekst'`. Dodatkowo można użyć symbolu `f` do formatowania łańcuchu znaków bezpośrednio w samym tekście np. `n=12`, a następnie `n_4=f'Liczba: {n}'`, gdzie `n` oznacza zmienną. Więcej przykładów można znaleźć w dalszej części (oczywiście można też użyć podwójnych cudzysłowów z `f`.\n",
    "| `float` | Domyślny typ zmienooprzecinkowy. Można wymusić stosowanie tego typu poprzez użycie `.` w liczbie np. 1.0, .1 (0.1). |\n",
    "| `double` | Liczba zmienooprzecinkowa o podwójnej precyzji. |\n",
    "| `bool` | Typ logiczny szczególnie popularny w warunkach. Słowo `True` w Pythonie oznacza prawdę, `False` fałsz.\n",
    "| `tuple` | Sekwencja wartości. Jest typem niezmiennym (immutable), razy utworzona jej elementów nie da się zmieniać. Najczęściej stosuje się ją jako wynik działania funkcji, co umożliwia przekazywanie wielu zmiennych bez konieczności tworzenia nowego typu. Dostęp do jej elementów można uzyskać poprzez indeks lub poprzez rozpakowanie, co zostanie pokazane w dalszej części. Tuple można tworzyć za pomocą kodu: `('a', 2, True)` lub `my_tuple='a',2, True`. Bardzo częstym błędem jest przypadkowe użycie `t=1,`, co powoduje utworzenie tupli nie zmiennej typu `int`. |\n",
    "| `range` | Typ zawierający sekwencję liczb. Istnieje możliwość ustalenia początkowego i końcowego elementu sekwencji oraz skoku kolejnych liczb np. `range(10)`, `range(2,10)`, `range(1,10,2)`. |\n",
    "| `datetime` | Typ odpowiadający za datę i godzinę. Umożliwia operacje na czasie np. dodanie godziny czy dni. |\n",
    "| `list`, `[]` | Lista elementów dowolnego typu. Zawiera wiele przydatnych metod, które zostaną omówione w dalszej części. Tworzenie listy przypomina tworzenie tablicy w innych językach programowania tj. `lst=[1,'a', True]`. Co istotne elementy nie muszą być tego samego typu, co zostało pokazane w przykładzie. |\n",
    "| `dict`, `{k:v}` | Słownik (kolekcja), którego elementy składającą się z klucza dowolnego typu, dla którego da się obliczyć funkcję skrótu (hash) oraz wartości również dowolnego typu. Przykładowo słownik można utworzyć następująco: `d={'k1': 'v1','k2': 'v2'}` lub np. bezpośrednio z listy tupli `d=Dict([('k1', 'v1'),('k2', 'v2')])`.\n",
    "| `set`, `{}` | Zbiór unikalnych elementów dowolnych typów. W jednej instancji zbioru może być wiele typów jednocześnie np. `{1,1.0,True}`. |\n",
    "| `funktor` | Jest to zmienna zawierająca wskaźnik na funkcję. Bardzo często takie zmienne używa się w funkcjach ogólnego przeznaczenia jak sortowanie. Za pomocą funktora możemy przekazać informacje, które wartości należy porównać (w przypadku bardziej skomplikowanych typów jak klasy). Funktor tworzy się przy użyciu np. słowa kluczowego lambda `funct=lambda a,b: a+b`, a następnie wywołać funktor można przy użyciu instrukcji `val=funct(1,2)`, co spowoduje przypisanie zmiennej `val` wartości 3 (1+2). Warto w tym miejscu zwrócić uwagę na brak typów, co umożliwia poprawne wywołanie funktora z parametrami `funct('1', '2')`, co zwróci napis `12`. Więcej informacji na temat deklaracji funkcji i wyrażeń `lambda` można znaleźć w dalszej części. |\n",
    "\n",
    "## Operatory i operacje\n",
    "\n",
    "Siłę Pythona stanowią bardzo rozbudowane funkcje i operatory. Oprócz znanych operatorów arytmetycznych można znaleźć również inne, nie występujące nigdzie indziej. Poniżej znajdują się wybrane operacje, ich pełną listę można znaleźć pod adresem: https://www.w3schools.com/python/python_operators.asp.\n",
    "\n",
    "### Operacje na łańcuchach znaków\n",
    "\n",
    "Operator gwiazdki między łańcuchem znaków i liczby oznacza powielenie łańcuch znaków $n$ razy."
   ]
  },
  {
   "cell_type": "code",
   "execution_count": 2,
   "metadata": {
    "pycharm": {
     "name": "#%%\n"
    }
   },
   "outputs": [
    {
     "name": "stdout",
     "output_type": "stream",
     "text": [
      "ala ma kota,ala ma kota,ala ma kota,ala ma kota,ala ma kota,\n"
     ]
    }
   ],
   "source": [
    "print('ala ma kota,' * 5)"
   ]
  },
  {
   "cell_type": "markdown",
   "metadata": {
    "pycharm": {
     "name": "#%% md\n"
    }
   },
   "source": [
    "W powyższym przykładzie została użyta funkcja `print`, która wyświetla napis na konsoli. Jest to metoda standardowa wbudowana w język. W _Jupyter Notebook_ można stosować również funkcję `display` oraz użyć zmiennej bez żadnej operacji, co spowoduje wypisanie jej zawartości na ekran. Obie metody nie są dostępne standardowo w samym języku.\n",
    "Jako znak ucieczki należy stosować ukośnik `\\`."
   ]
  },
  {
   "cell_type": "code",
   "execution_count": 3,
   "metadata": {
    "pycharm": {
     "name": "#%%\n"
    }
   },
   "outputs": [
    {
     "name": "stdout",
     "output_type": "stream",
     "text": [
      "tekst\n",
      "tekst\\n'\"\n"
     ]
    }
   ],
   "source": [
    "print('tekst\\ntekst\\\\n\\'\\\"')"
   ]
  },
  {
   "cell_type": "markdown",
   "metadata": {
    "pycharm": {
     "name": "#%% md\n"
    }
   },
   "source": [
    "Funkcja `join` umożliwia konkatenację łańcuchów znaków w listę bez konieczności usuwania ostatniego separatora z powstałego tekstu."
   ]
  },
  {
   "cell_type": "code",
   "execution_count": 4,
   "metadata": {
    "pycharm": {
     "name": "#%%\n"
    }
   },
   "outputs": [
    {
     "name": "stdout",
     "output_type": "stream",
     "text": [
      "a,b,c,d\n"
     ]
    }
   ],
   "source": [
    "t=['a', 'b', 'c', 'd']\n",
    "print(','.join(t))"
   ]
  },
  {
   "cell_type": "markdown",
   "metadata": {
    "pycharm": {
     "name": "#%% md\n"
    }
   },
   "source": [
    "Funkcja `textwrap` umożliwia usunięcie białych znaków (niewidocznych np. odstępy) na początku i na końcu tekstu."
   ]
  },
  {
   "cell_type": "code",
   "execution_count": 5,
   "metadata": {
    "pycharm": {
     "name": "#%%\n"
    }
   },
   "outputs": [
    {
     "name": "stdout",
     "output_type": "stream",
     "text": [
      "a b c\n",
      "a b c\n"
     ]
    }
   ],
   "source": [
    "s='   a b c \\t\\n'\n",
    "print(s.strip())\n",
    "print(str.strip(s))"
   ]
  },
  {
   "cell_type": "markdown",
   "metadata": {
    "pycharm": {
     "name": "#%% md\n"
    }
   },
   "source": [
    "Dodatkowo każdą funkcję można wywołać na instancji obiektu lub na jego typie. Język Python jest obiektowy, więc każdy typ również jest obiektem.\n",
    "\n",
    "Poniżej znajduje się przykładowe wywołanie funkcji `title` pozwalającej zamienić pierwsze litery w słowie na wielkie, `split` umożliwiającej dzielenie łańcucha znaków na listę wg. separatora oraz innych bardzo przydatnych funkcji, których nazwy są dość oczywiste."
   ]
  },
  {
   "cell_type": "code",
   "execution_count": 6,
   "metadata": {
    "pycharm": {
     "name": "#%%\n"
    }
   },
   "outputs": [
    {
     "name": "stdout",
     "output_type": "stream",
     "text": [
      "Łukasz Strąk\n",
      "['a', 'b', 'c', 'd']\n",
      "True\n",
      "True\n",
      "True\n"
     ]
    }
   ],
   "source": [
    "print('łukasz strąk'.title())\n",
    "print('a,b,c,d'.split(','))\n",
    "print('abc'.islower())\n",
    "print('123'.isnumeric())\n",
    "print('tekst123'.endswith('123'))"
   ]
  },
  {
   "cell_type": "markdown",
   "metadata": {
    "pycharm": {
     "name": "#%% md\n"
    }
   },
   "source": [
    "Symbol `f` przed łańcuchem znaków umożliwia oprócz wstawiania zmiennych (oraz kodu w języku Python) bezpośrednio w samym tekście."
   ]
  },
  {
   "cell_type": "code",
   "execution_count": 7,
   "metadata": {
    "pycharm": {
     "name": "#%%\n"
    }
   },
   "outputs": [
    {
     "name": "stdout",
     "output_type": "stream",
     "text": [
      "id: 20, name: ****Łukasz, surname: =====Strąk\n",
      "id: 21, name: *******Jan, surname: ==Kowalski\n"
     ]
    }
   ],
   "source": [
    "id=20\n",
    "n1,n2='łukasz','strąk'\n",
    "suma=123.4567\n",
    "print(f\"id: {id}, name: {n1.title().rjust(10, '*')}, surname: {n2.title().rjust(10, '=')}\")\n",
    "id2,n3,n4=21,'Jan','kowalski'\n",
    "print(f'id: {id2}, name: {n3.title().rjust(10, \"*\")}, surname: {n4.title().rjust(10, \"=\")}')"
   ]
  },
  {
   "cell_type": "markdown",
   "metadata": {},
   "source": [
    "W linii 2 została użyta konstrukcja umożliwiająca wielokrotne przypisywanie w jednej linii (zmiennej `n1` i `n2`) odpowiednich wartości odpowiednim zmiennym wg. kolejności w sekwencji. W linii 4 na zmiennej `n1` została wykonana funkcja `title` oraz `rjust`, która uzupełnia brakujące znaki (parametr 10 wskazuje, że zawsze ma być ich 10) za pomocą znaku zdefiniowanego w drugim parametrze. Warto też zwrócić uwagę, że znak cudzysłowu występuje w parametrze (funkcji `rjust`). Kompilator wymaga, aby jeden typ był użyty do samego łańcucha znaków, a drugi typ do przekazywania parametrów, tak jak zostało to użyte w przykładzie. Nie ma znaczenie, która para jest użyta w którym miejscu.\n",
    "\n",
    "Funkcja `format` pozwala na stosowanie dodatkowych opcji formatowania."
   ]
  },
  {
   "cell_type": "code",
   "execution_count": 8,
   "metadata": {
    "pycharm": {
     "name": "#%%\n"
    }
   },
   "outputs": [
    {
     "name": "stdout",
     "output_type": "stream",
     "text": [
      "      Test and Test       = 1.23\n"
     ]
    }
   ],
   "source": [
    "print('{:>10} and {:<10} = {:.2f}'.format(\"Test\", \"Test\",1.234567))"
   ]
  },
  {
   "cell_type": "markdown",
   "metadata": {
    "pycharm": {
     "name": "#%% md\n"
    }
   },
   "source": [
    "W ten sposób łatwo można wyświetlić odpowiedni sformatowany wynik lub przekazać go do zmiennej. Znacznie więcej opcji można znaleźć pod adresem:\n",
    "https://docs.python.org/3.8/library/string.html#formatstrings.\n",
    "\n",
    "### Operacje na sekwencjach\n",
    "\n",
    "Manipulacje w Pythonie listy może być nieco mylące ze względu na liczne możliwości niedostępne w innych językach. Dostać się do elementu listy można wskazując konkretny element sekwencji np. listy. Dodatkowo można przy użyciu funkcji `len` można sprawdzić długość tablicy. Dodatkowo używając jedynie samej zmiennej w warunku łatwo sprawdzić czy lista jest niezainicjowana `None` (odpowiednik `NULL` w języku Python) lub pusta. Jest to tzw. _syntax sugar_ poprawiający czytelność kodu."
   ]
  },
  {
   "cell_type": "code",
   "execution_count": 9,
   "metadata": {
    "pycharm": {
     "name": "#%%\n"
    }
   },
   "outputs": [
    {
     "name": "stdout",
     "output_type": "stream",
     "text": [
      "1\n",
      "6\n",
      "True\n"
     ]
    }
   ],
   "source": [
    "lst=[1,2,3,4,5,6]\n",
    "print(lst[0])\n",
    "print(len(lst))\n",
    "lst2=[]\n",
    "print(not lst2) # samo lst2 zwraca False w warunku, lst True ponieważ jest zainicjowane"
   ]
  },
  {
   "cell_type": "markdown",
   "metadata": {},
   "source": [
    "Używając ujemnej wartości łatwo otrzymać element od końca listy."
   ]
  },
  {
   "cell_type": "code",
   "execution_count": 10,
   "metadata": {
    "pycharm": {
     "name": "#%%\n"
    }
   },
   "outputs": [
    {
     "name": "stdout",
     "output_type": "stream",
     "text": [
      "6\n",
      "5\n",
      "4\n"
     ]
    }
   ],
   "source": [
    "lst=[1,2,3,4,5,6]\n",
    "print(lst[-1])\n",
    "print(lst[-2])\n",
    "print(lst[-3])"
   ]
  },
  {
   "cell_type": "markdown",
   "metadata": {},
   "source": [
    "Notacja z użyciem dwukropka pozwala na kopiowanie wskazanych elementów. Po lewej stronie wskazujemy pierwszy element, po prawej stronie dwukropka ostatni. Można również użyć ujemnych wartości. Brak jakiegokolwiek parametru po którejkolwiek ze stron dwukropka spowoduje zapis oznaczający aż do lub od."
   ]
  },
  {
   "cell_type": "code",
   "execution_count": 11,
   "metadata": {
    "pycharm": {
     "name": "#%%\n"
    }
   },
   "outputs": [
    {
     "name": "stdout",
     "output_type": "stream",
     "text": [
      "[2, 3, 4, 5, 6]\n",
      "[1, 2, 3, 4, 5]\n",
      "[2, 3, 4, 5]\n",
      "[1, 2, 3, 4]\n",
      "[4, 5, 6]\n"
     ]
    }
   ],
   "source": [
    "lst=[1,2,3,4,5,6]\n",
    "print(lst[1:])\n",
    "print(lst[:5])\n",
    "print(lst[1:-1])\n",
    "print(lst[:-2])\n",
    "print(lst[-3:])"
   ]
  },
  {
   "cell_type": "markdown",
   "metadata": {
    "pycharm": {
     "name": "#%% md\n"
    }
   },
   "source": [
    "Stosując trzeci dwukropek można wskazać co który element nastąpi kopiowanie."
   ]
  },
  {
   "cell_type": "code",
   "execution_count": 12,
   "metadata": {
    "pycharm": {
     "name": "#%%\n"
    }
   },
   "outputs": [
    {
     "name": "stdout",
     "output_type": "stream",
     "text": [
      "[1, 3, 5]\n"
     ]
    }
   ],
   "source": [
    "lst=[1,2,3,4,5,6]\n",
    "print(lst[0:5:2])"
   ]
  },
  {
   "cell_type": "markdown",
   "metadata": {},
   "source": [
    "Te same operacje można wykonać na łańcuchach znaków. Dostęp do pojedynczego elementu łańcucha można otrzymać poprzez indeks wpisany w nawiasie kwadratowym."
   ]
  },
  {
   "cell_type": "code",
   "execution_count": 1,
   "metadata": {
    "pycharm": {
     "name": "#%%\n"
    }
   },
   "outputs": [
    {
     "name": "stdout",
     "output_type": "stream",
     "text": [
      "Ala\n"
     ]
    }
   ],
   "source": [
    "text=\"Ala ma kota\"\n",
    "print(text[0:3])"
   ]
  },
  {
   "cell_type": "markdown",
   "metadata": {},
   "source": [
    "Za pomocą słowa kluczowego `in` można porównywać elementy listy. Binarny operator porównania dwóch list porównuje listę po lewej stronie słowa kluczowego do każdego elementu z listy drugiej. Nie działa to na zasadzie porównywania każdego elementu obu list."
   ]
  },
  {
   "cell_type": "code",
   "execution_count": 13,
   "metadata": {
    "pycharm": {
     "name": "#%%\n"
    }
   },
   "outputs": [
    {
     "name": "stdout",
     "output_type": "stream",
     "text": [
      "True\n",
      "True\n",
      "False\n",
      "False\n",
      "True\n",
      "True\n",
      "True\n"
     ]
    }
   ],
   "source": [
    "lst=[1,2,3,4,5,6]\n",
    "print(1 in lst)\n",
    "print(10 not in lst)\n",
    "print([1,2] in lst)\n",
    "print([1,6] in lst)\n",
    "lst2=[[1,2],[3,4]]\n",
    "print([1,2] in lst2)\n",
    "\n",
    "s={1,6} # inicjalizacja zbioru\n",
    "print(s.issubset({1,2,3,4,5,6}))\n",
    "print(s <= {1,2,3,4,5,6})"
   ]
  },
  {
   "cell_type": "markdown",
   "metadata": {},
   "source": [
    "Więcej przykładów można znaleźć pod adresem:\n",
    "https://docs.python.org/3.8/library/stdtypes.html#common-sequence-operations\n",
    "\n",
    "### Czas\n",
    "\n",
    "Obsługa czasu jest jedną z ważniejszych funkcji prawie każdego programu. W języku Python w bibliotekach standardowych istnieją cztery najbardziej podstawowe klasy do zarządzania czasem: `datetime`, `date`, `time`, `timedelta`. Pierwszy zawiera datę i godzinę wraz z podstawowymi operacjami na datach jak dodanie godziny (co może spowodować zmianę np. roku). Typ `date` i `time` zawierają kolejno datę oraz godzinę, a `timedelta` zwracany jest przy operacjach między dwoma datami.\n",
    "Użycie powyższych typów wymaga importu biblioteki standardowej `datetime`."
   ]
  },
  {
   "cell_type": "code",
   "execution_count": 14,
   "metadata": {
    "pycharm": {
     "name": "#%%\n"
    }
   },
   "outputs": [
    {
     "name": "stdout",
     "output_type": "stream",
     "text": [
      "2020-10-02 23:42:48.648713\n",
      "2020-10-02 23:52:48.648713\n",
      "0:10:00\n",
      "600.0\n"
     ]
    }
   ],
   "source": [
    "from datetime import datetime, timedelta\n",
    "dt = datetime.now()\n",
    "print(dt)\n",
    "dt_plus_ten = dt + timedelta(minutes=10)\n",
    "print(dt_plus_ten)\n",
    "print(dt_plus_ten-dt)\n",
    "print((dt_plus_ten-dt).total_seconds())"
   ]
  },
  {
   "cell_type": "markdown",
   "metadata": {},
   "source": [
    "Funkcja `now` przyjmuje parametr `tz`, przyjmujący domyślną wartość `None`, co oznacza strefę `UTC`. Częstym zadaniem programisty związanym z manipulację czasem jest parsowanie daty na podstawie zadanego formatu oraz wyświetlanie daty wg. wzorca. Do pierwszego zadania służy funkcja `strftime` obiektu typu datetime, do drugiego `strpfrm` tej samej klasy."
   ]
  },
  {
   "cell_type": "code",
   "execution_count": 15,
   "metadata": {
    "pycharm": {
     "name": "#%%\n"
    }
   },
   "outputs": [
    {
     "name": "stdout",
     "output_type": "stream",
     "text": [
      "2020-10-02T23:42:48.660715\n",
      "2020-10-01 12:12:00\n"
     ]
    }
   ],
   "source": [
    "from datetime import datetime\n",
    "print(datetime.now().strftime('%Y-%m-%dT%H:%M:%S.%f')) # format ISO dość powszechnie stosowany\n",
    "dt=datetime.strptime('2020-10-01T12:12:00', '%Y-%m-%dT%H:%M:%S')\n",
    "print(dt)"
   ]
  },
  {
   "cell_type": "markdown",
   "metadata": {},
   "source": [
    "Więcej na temat symboli służącym do formatowania można znaleźć pod adresem:\n",
    "https://docs.python.org/3/library/datetime.html#strftime-and-strptime-format-codes\n",
    "\n",
    "### Tuple\n",
    "\n",
    "Tuple umożliwiają tworzenie kontenera na zmienne lub stałe. Dotyczy to zarówno rezultatu działania funkcji jak również przechowywania bardziej złożonych elementów jako listy (lista tupli). Istnieje parę sposobów na dostęp do każdego elementu tupli. Poprzez indeks lub rozpakowanie. Jednak nie da się zmienić raz utworzonej tupli. Próba przypisania nowej wartości spowoduje błąd."
   ]
  },
  {
   "cell_type": "code",
   "execution_count": 16,
   "metadata": {
    "pycharm": {
     "name": "#%%\n"
    }
   },
   "outputs": [
    {
     "name": "stdout",
     "output_type": "stream",
     "text": [
      "1\n",
      "3\n",
      "(1, 2)\n",
      "1\n",
      "2\n",
      "3\n"
     ]
    }
   ],
   "source": [
    "t=(1,2,3)\n",
    "print(t[0]) # dostęp z poziomu indeksu\n",
    "print(t[-1])\n",
    "print(t[0:2])\n",
    "v1,v2,v3=t\n",
    "print(v1)\n",
    "print(v2)\n",
    "print(v3)"
   ]
  },
  {
   "cell_type": "markdown",
   "metadata": {
    "pycharm": {
     "name": "#%% md\n"
    }
   },
   "source": [
    "Istnieje również cały szereg możliwości związanych z rozpakowywaniem. Dobrą praktyką jest użycie podkreślenia, w przypadku, gdy nie jest nam potrzebny element tupli. Nie ma potrzeby wprowadzania dodatkowych symboli do kodu, co odciąża osobę, która analizuje kod."
   ]
  },
  {
   "cell_type": "code",
   "execution_count": 17,
   "metadata": {
    "pycharm": {
     "name": "#%%\n"
    }
   },
   "outputs": [
    {
     "name": "stdout",
     "output_type": "stream",
     "text": [
      "1\n"
     ]
    }
   ],
   "source": [
    "t=1,2,3 # syntax sugar, nie musimy używać nawiasów, ale trzeba bardzo uważać na ten zapis\n",
    "v1,_,_=t\n",
    "print(v1)"
   ]
  },
  {
   "cell_type": "markdown",
   "metadata": {
    "pycharm": {
     "name": "#%% md\n"
    }
   },
   "source": [
    "Użycie symbolu gwiazdki ma za zadanie stworzenie kolekcji pozostałych wartości z rozpakowania."
   ]
  },
  {
   "cell_type": "code",
   "execution_count": 18,
   "metadata": {
    "pycharm": {
     "name": "#%%\n"
    }
   },
   "outputs": [
    {
     "name": "stdout",
     "output_type": "stream",
     "text": [
      "1\n",
      "[2, 3, 4, 5, 6]\n",
      "7\n",
      "1\n",
      "2\n",
      "[3, 4, 5, 6, 7]\n"
     ]
    }
   ],
   "source": [
    "t=1,2,3,4,5,6,7\n",
    "v1,*v,v2=t\n",
    "print(v1)\n",
    "print(v)\n",
    "print(v2)\n",
    "\n",
    "v1,v2,*v3=t\n",
    "print(v1)\n",
    "print(v2)\n",
    "print(v3)"
   ]
  },
  {
   "cell_type": "markdown",
   "metadata": {
    "pycharm": {
     "name": "#%% md\n"
    }
   },
   "source": [
    "W momencie, w którym liczba zmiennych po lewej stronie rozpakowania nie jest zgodna z licznością kolekcji i nie występuje symbol gwiazdki, kod zgłosi błąd w czasie działania programu. Dobrą praktyką jest użycie gwiazdki wszędzie tam, gdzie liczba elementów tupli może być zmienna, ale takie przypadki nie powinny mieć miejsca. Symbol gwiazdki będzie jeszcze omawiany w kontekście funkcji.\n",
    "\n",
    "### Rzutowanie typów\n",
    "\n",
    "Jako, że Python jest obiektowym językiem programowania, każda zadeklarowana zmienna jest obiektem. Daje to możliwość konwersji jawnej lub niejawnej między typami danych (_explicit_ i _implicit_). Oba sposoby muszą być zdefiniowane przez programistę, aby Python pozwolił na takie rzutowanie (w przypadku własnych klas i typów). Domyślnie Python posiada wiele wbudowanych rzutowań dostępnych bez konieczności importowania dodatkowych bibliotek."
   ]
  },
  {
   "cell_type": "code",
   "execution_count": 19,
   "metadata": {
    "pycharm": {
     "name": "#%%\n"
    }
   },
   "outputs": [
    {
     "name": "stdout",
     "output_type": "stream",
     "text": [
      "2.0\n",
      "1\n"
     ]
    }
   ],
   "source": [
    "print(1+1.0) # niejawne rzutowanie na float\n",
    "print(int(1.0)) # jawne rzutowanie"
   ]
  },
  {
   "cell_type": "markdown",
   "metadata": {
    "pycharm": {
     "name": "#%% md\n"
    }
   },
   "source": [
    "Aby upewnić się, że zmienna jest takiego typu jaki nam się wydaje możemy użyć funkcji `isinstance`. W tym kontekście bardzo przydatna może okazać się również funkcja `type`."
   ]
  },
  {
   "cell_type": "code",
   "execution_count": 20,
   "metadata": {
    "pycharm": {
     "name": "#%%\n"
    }
   },
   "outputs": [
    {
     "name": "stdout",
     "output_type": "stream",
     "text": [
      "True\n",
      "<class 'int'>\n",
      "True\n",
      "<class 'float'>\n",
      "True\n"
     ]
    }
   ],
   "source": [
    "a=12\n",
    "print(isinstance(a, int))\n",
    "print(type(a))\n",
    "b=1.0\n",
    "print(isinstance(b, float))\n",
    "print(type(b))\n",
    "\n",
    "print(type(a)==int) # niezalecane podejście"
   ]
  },
  {
   "cell_type": "markdown",
   "metadata": {
    "pycharm": {
     "name": "#%% md\n"
    }
   },
   "source": [
    "## Instrukcja warunkowa\n",
    "\n",
    "W języku Python instrukcja warunkowa składa się z ze słowa kluczowego `if` oraz opcjonalnych bloków `elif` lub jednego opcjonalnego bloku `else`. Brak nawiasów klamrowych wymaga użycia wcięć, które powinny być spójne w cały kodzie programu tzn. już na samym początku należy zastanowić się czy będziemy korzystali ze spacji czy tabulatorów. Większość znanych edytorów kodu automatycznie konwertują napisany kod, aby był spójny. Dość istotnym elementem jest dwukropek przed rozpoczęciem bloku, który ma za zadanie poprawić czytelność kodu i zamknąć linię. Nie ma również okrągłych nawiasów dzięki czemu kod zyskuje na czytelności."
   ]
  },
  {
   "cell_type": "code",
   "execution_count": 21,
   "metadata": {
    "pycharm": {
     "name": "#%%\n"
    }
   },
   "outputs": [
    {
     "name": "stdout",
     "output_type": "stream",
     "text": [
      "Variable has value 1\n"
     ]
    }
   ],
   "source": [
    "a=1\n",
    "if a==True: # niejawna konwersja na bool\n",
    "    print(f'Variable has value {a}')\n",
    "else:\n",
    "    print('Sth goes wrong')"
   ]
  },
  {
   "cell_type": "markdown",
   "metadata": {
    "pycharm": {
     "name": "#%% md\n"
    }
   },
   "source": [
    "Negacja warunku może być na początku wyrażenia (niezalecane) lub można użyć np. `not in` lub `!=`."
   ]
  },
  {
   "cell_type": "code",
   "execution_count": 22,
   "metadata": {
    "pycharm": {
     "name": "#%%\n"
    }
   },
   "outputs": [
    {
     "name": "stdout",
     "output_type": "stream",
     "text": [
      "Zero not in (1, 2, 3)\n",
      "One is in (1, 2, 3)\n",
      "0 or 1 \n"
     ]
    }
   ],
   "source": [
    "t=(1,2,3)\n",
    "\n",
    "if 0 not in t: # in działa na liście jak i na tupli\n",
    "    print(f'Zero not in {t}')\n",
    "\n",
    "if 1 in t:\n",
    "    print(f'One is in {t}')\n",
    "\n",
    "if 0 in t or 1 in t: # or (lub) w warunku\n",
    "    print('0 or 1 ')\n",
    "elif 2 in t:\n",
    "    print('2 in t')"
   ]
  },
  {
   "cell_type": "markdown",
   "metadata": {
    "pycharm": {
     "name": "#%% md\n"
    }
   },
   "source": [
    "Oprócz warunku _lub_ (`or`) można również użyć _i_ (`and`) oraz negacji (`not`). Podobnie jak w innych językach programowania _i_ zostanie wykonane do pierwszej wartości `False` nie sprawdzając dalszych klauzul logicznych.\n",
    "\n",
    "Bardzo zalecane jest używanie pytonicznego podejścia do warunków (_Pythonic way of programming_)."
   ]
  },
  {
   "cell_type": "code",
   "execution_count": 23,
   "metadata": {
    "pycharm": {
     "name": "#%%\n"
    }
   },
   "outputs": [
    {
     "name": "stdout",
     "output_type": "stream",
     "text": [
      "Test is null\n",
      "Need to be initialized\n",
      "Tab is [1, 2, 3]\n"
     ]
    }
   ],
   "source": [
    "test=None\n",
    "if test: # równoważne niezalecanemu test == None\n",
    "    print('Test is not null')\n",
    "else:\n",
    "    print('Test is null')\n",
    "\n",
    "tab=[]\n",
    "\n",
    "if tab: # równoważne if tab != None and len(tab) > 1\n",
    "    print('Do sth with tab')\n",
    "else:\n",
    "    print('Need to be initialized')\n",
    "    tab=[1,2,3]\n",
    "\n",
    "if tab:\n",
    "    print(f'Tab is {tab}')"
   ]
  },
  {
   "cell_type": "markdown",
   "metadata": {
    "pycharm": {
     "name": "#%% md\n"
    }
   },
   "source": [
    "W przypadku funkcji lub klas, które nie mają definicji można użyć słowa kluczowego `pass`. Zastosowanie tego słowa kluczowego ma szczególne zastosowanie w programowaniu obiektowym, omówionym w kolejnych laboratoriach."
   ]
  },
  {
   "cell_type": "code",
   "execution_count": 24,
   "metadata": {
    "pycharm": {
     "name": "#%%\n"
    }
   },
   "outputs": [],
   "source": [
    "if 1 in [1,2,3]:\n",
    "    pass"
   ]
  },
  {
   "cell_type": "markdown",
   "metadata": {
    "pycharm": {
     "name": "#%% md\n"
    }
   },
   "source": [
    "### Porównywanie elementów\n",
    "\n",
    "Używając operatora logicznego `==` porównujemy dwa obiekty ze sobą. Większość typów prostych jak `int`, `float` czy `str` porównanie dotyczy wartości tych typów."
   ]
  },
  {
   "cell_type": "code",
   "execution_count": 4,
   "metadata": {
    "pycharm": {
     "name": "#%%\n"
    }
   },
   "outputs": [
    {
     "name": "stdout",
     "output_type": "stream",
     "text": [
      "The same\n",
      "140713566869504\n",
      "1843323119184\n",
      "1843351345008\n",
      "1843357407664\n"
     ]
    }
   ],
   "source": [
    "a=12\n",
    "b=12.0\n",
    "c='Ala ma kota'\n",
    "if a==b and c=='Ala ma kota':\n",
    "    print('The same')"
   ]
  },
  {
   "cell_type": "markdown",
   "metadata": {
    "pycharm": {
     "name": "#%% md\n"
    }
   },
   "source": [
    "Funkcja wbudowana `id` umożliwia sprawdzenie globalnego identyfikatora zmiennej (jest to pewnego rodzaju adres w pamięci z pewnymi różnicami). Jednak należy uważać na stosowanie tej zmiennej w celu sprawdzenia czy dwie instancje wskazują na ten sam obiekt w pamięci."
   ]
  },
  {
   "cell_type": "code",
   "execution_count": 1,
   "metadata": {
    "pycharm": {
     "name": "#%%\n"
    }
   },
   "outputs": [],
   "source": [
    "a=12\n",
    "b=12\n",
    "c='Ala ma kota'\n",
    "\n",
    "print(id(a))\n",
    "print(id(b))\n",
    "print(id(c))\n",
    "print(id('Ala ma kota'))"
   ]
  },
  {
   "cell_type": "markdown",
   "metadata": {
    "pycharm": {
     "name": "#%% md\n"
    }
   },
   "source": [
    "Chcąc sprawdzić czy dwa obiekty wskazują na ten sam obiekt należy użyć słów kluczowych `is` lub `is not`."
   ]
  },
  {
   "cell_type": "code",
   "execution_count": 11,
   "metadata": {
    "pycharm": {
     "name": "#%%\n"
    }
   },
   "outputs": [
    {
     "name": "stdout",
     "output_type": "stream",
     "text": [
      "Test 1\n",
      "The same value\n",
      "The same identifiers\n",
      "The same instances\n",
      "Test 2\n",
      "The same value\n"
     ]
    }
   ],
   "source": [
    "print('Test 1')\n",
    "a= { 0: 'Y', 1: 'N'}\n",
    "b=a\n",
    "if a==b:\n",
    "    print('The same value')\n",
    "if id(a)==id(b):\n",
    "    print('The same identifiers')\n",
    "if a is b:\n",
    "    print('The same instances')\n",
    "\n",
    "print('Test 2')\n",
    "a= { 0: 'Y', 1: 'N' }\n",
    "b= { 0: 'Y', 1: 'N' }\n",
    "if a==b:\n",
    "    print('The same value')\n",
    "if id(a)==id(b):\n",
    "    print('The same identifiers')\n",
    "if a is b:\n",
    "    print('The same instances')"
   ]
  },
  {
   "cell_type": "markdown",
   "metadata": {},
   "source": [
    "Pozostałe operatory logiczne można znaleźć pod adresem: https://www.w3schools.com/python/python_operators.asp.\n",
    "\n",
    "\n",
    "## Pętle\n",
    "\n",
    "Pętle można deklarować na dwa sposoby, za pomocą `for` i `while`. Zwykle przyjmuje się, że pierwsza z nich używana jest, gdy znamy liczbę iteracji, w drugim przypadku pętla zakończy działanie w momencie, gdy wyrażenie przyjmie wartość `False`. Podobnie jak w przypadku instrukcji warunkowej konieczne są wcięcia, które definiują wykonywany blok kodu aż do spełnienia warunku stopu."
   ]
  },
  {
   "cell_type": "code",
   "execution_count": 25,
   "metadata": {
    "pycharm": {
     "name": "#%%\n"
    }
   },
   "outputs": [
    {
     "name": "stdout",
     "output_type": "stream",
     "text": [
      "0\n",
      "1\n",
      "1\n",
      "2\n",
      "3\n",
      "Run code here\n",
      "done\n"
     ]
    }
   ],
   "source": [
    "for i in range(2): # w argumencie range znajduje się liczba elementów sekwencji tj. len([0, 1])==2\n",
    "    print(i)\n",
    "\n",
    "for i in [1,2,3]:\n",
    "    print(i)\n",
    "\n",
    "stop = False\n",
    "\n",
    "while not stop:\n",
    "    print('Run code here')\n",
    "    stop = True\n",
    "\n",
    "print('done')"
   ]
  },
  {
   "cell_type": "markdown",
   "metadata": {
    "pycharm": {
     "name": "#%% md\n"
    }
   },
   "source": [
    "Dwa słowa kluczowe pojawiają się do wykorzystania w pętlach: `Break` oraz `Continue`. Pierwsze słowo można użyć do natychmiastowego zakończenia pętli, drugie do przejścia do kolejnej iteracji. Ma to szczególne zastosowanie w długich blokach kodu, gdzie normalne przejście do kolejnej iteracji lub sprawdzenie warunku kończącego pętle może spowodować ustawienie niepożądanych wartości."
   ]
  },
  {
   "cell_type": "code",
   "execution_count": 26,
   "metadata": {
    "pycharm": {
     "name": "#%%\n"
    }
   },
   "outputs": [
    {
     "name": "stdout",
     "output_type": "stream",
     "text": [
      "Found in 2 tries\n"
     ]
    }
   ],
   "source": [
    "from random import Random\n",
    "\n",
    "\n",
    "rand = Random()\n",
    "try_count=1\n",
    "while True:\n",
    "    if rand.randint(0, 10) >= 10: # random [0,10]\n",
    "        break\n",
    "    else:\n",
    "        try_count += 1\n",
    "        continue\n",
    "\n",
    "print(f'Found in {try_count} tries')"
   ]
  },
  {
   "cell_type": "markdown",
   "metadata": {
    "pycharm": {
     "name": "#%% md\n"
    }
   },
   "source": [
    "W pierwszej linii został zaimportowany moduł `random` z biblioteki standardowej. Importowanie modułów zostanie omówione bardziej szczegółowo w dalszej części.\n",
    "\n",
    "## Przechwytywanie wyjątków\n",
    "\n",
    "Przechwytywanie wyjątków w języku Python działa podobnie jak w innych językach programowania obiektowego jak C++. Kod, który może wywołać błąd należy umieścić między słowami kluczowymi `try` i `except`. Ten ostatni przechwyci klasę błędu, którą poprzez typ można filtrować, co zostanie pokazane na przykładzie. Słowo kluczowe `except` jest opcjonalne i może być zastąpione przez `finally` lub `else`. Użycie pierwszego spowoduje uruchomienie bloku instrukcji bez względu na to czy kod w bloku `try` spowoduje błąd czy nie. Najczęściej stosuje się tą konstrukcję wtedy kiedy w gestii programisty leży zwalnianie zasobów i uchwytów systemowych np. do plików. Użycie słowa kluczowego `else` powoduje, że kod w tym bloku zostanie uruchomiony tylko w przypadku, gdy błąd nie wystąpi w bloku `try`."
   ]
  },
  {
   "cell_type": "code",
   "execution_count": 27,
   "metadata": {
    "pycharm": {
     "name": "#%%\n"
    }
   },
   "outputs": [
    {
     "name": "stdout",
     "output_type": "stream",
     "text": [
      "ZeroDivisionError: division by zero\n"
     ]
    }
   ],
   "source": [
    "try:\n",
    "    i=0\n",
    "    val=10/i\n",
    "except ZeroDivisionError as e:\n",
    "    print(f'ZeroDivisionError: {e}')\n",
    "except Exception as e:\n",
    "    print(f'Generic error: {e}')"
   ]
  },
  {
   "cell_type": "markdown",
   "metadata": {
    "pycharm": {
     "name": "#%% md\n"
    }
   },
   "source": [
    "W powyższym przykładzie zostaje wywołany błąd typu `ZeroDivisionError` i taki też błąd jest wywoływany na konsolę. Niemniej jednak, gdyby kod nie był taki trywialny dowolna instrukcja mogłaby wywołać zupełnie typ błędu. Z tego też powodu dobrą praktyką jest ustawienie ostatniego bloku `except` na typ `Exception`. Dodatkowo dla czytelności kodu błędów, należy dodać jak najwięcej informacji do logu błędu np. przy dostępie do bazy danych filtrować błędy związane z połączeniem i błędy wykonania samego zapytania. Ułatwia to odnajdowanie błędów."
   ]
  },
  {
   "cell_type": "code",
   "execution_count": 30,
   "metadata": {
    "pycharm": {
     "name": "#%%\n"
    }
   },
   "outputs": [
    {
     "name": "stdout",
     "output_type": "stream",
     "text": [
      "ZeroDivisionError: division by zero\n",
      "Finally\n"
     ]
    }
   ],
   "source": [
    "try:\n",
    "    i=0\n",
    "    val=10/i\n",
    "except ZeroDivisionError as e:\n",
    "    print(f'ZeroDivisionError: {e}')\n",
    "except Exception:\n",
    "    print(f'Generic error') # konstrukcja as e jest opcjonalna\n",
    "finally:\n",
    "    print('Finally')"
   ]
  },
  {
   "cell_type": "markdown",
   "metadata": {
    "pycharm": {
     "name": "#%% md\n"
    }
   },
   "source": [
    "Blok `else` jest dość zaawansowaną techniką związaną z automatycznym zwalnianiem uchwytów do pliku (które gwarantują wyłączny dostęp do pliku). Następuje ono w momencie wyjścia z bloku, co nie łatwym zadaniem do obsłużenia."
   ]
  },
  {
   "cell_type": "code",
   "execution_count": 32,
   "metadata": {
    "pycharm": {
     "name": "#%%\n"
    }
   },
   "outputs": [
    {
     "name": "stdout",
     "output_type": "stream",
     "text": [
      "File saved successfully\n"
     ]
    }
   ],
   "source": [
    "try:\n",
    "    with open('file.txt', 'w') as f:\n",
    "        f.write('Hello world')\n",
    "except FileExistsError as e:\n",
    "    print(f'File exists and is in use: {e}')\n",
    "except Exception as e:\n",
    "    print(f'Generic error: {e}')\n",
    "else:\n",
    "    print('File saved successfully')"
   ]
  },
  {
   "cell_type": "markdown",
   "metadata": {},
   "source": [
    "Pomimo tego, iż `else` jest bardzo przydatny ze względu na czytelność jest rzadko stosowany. W linii 2 został otwarty uchwyt do pliku poprzez funkcję wbudowaną `open`. Konstrukcja `as f` ma za zadanie przypisać wszystkie dostępne funkcje obsługi pliku do zmiennej `f`. Funkcja `open` w przykładzie przyjmuje dwa parametry, nazwa pliku oraz tryp pracy. Użycie _'w'_ spowoduje otwarcie pliku tylko do zapisu, a np. użycie _'r'_ tylko do odczytu. Listę dostępnych opcji można znaleźć pod adresem: https://docs.python.org/3/library/functions.html?highlight=open#open. Kolejnym problem z jakim można się zmierzyć uruchamiając kod w języku Python są nieczytelne komunikaty błędów. Stosując jedynie klasę `Exception` w bloku `except` często trudno dociec, co spowodowało błąd. Bardzo przydatna jest tutaj zmienna `traceback`."
   ]
  },
  {
   "cell_type": "code",
   "execution_count": 36,
   "metadata": {
    "pycharm": {
     "name": "#%%\n"
    }
   },
   "outputs": [
    {
     "name": "stdout",
     "output_type": "stream",
     "text": [
      "Message: 'NoneType' object has no attribute 'read'\n",
      "Stack:\n",
      "None\n"
     ]
    },
    {
     "name": "stderr",
     "output_type": "stream",
     "text": [
      "  File \"c:\\users\\lukaszstrak\\appdata\\local\\programs\\python\\python38\\lib\\runpy.py\", line 194, in _run_module_as_main\n",
      "    return _run_code(code, main_globals, None,\n",
      "  File \"c:\\users\\lukaszstrak\\appdata\\local\\programs\\python\\python38\\lib\\runpy.py\", line 87, in _run_code\n",
      "    exec(code, run_globals)\n",
      "  File \"c:\\users\\lukaszstrak\\appdata\\local\\programs\\python\\python38\\lib\\site-packages\\ipykernel_launcher.py\", line 16, in <module>\n",
      "    app.launch_new_instance()\n",
      "  File \"c:\\users\\lukaszstrak\\appdata\\local\\programs\\python\\python38\\lib\\site-packages\\traitlets\\config\\application.py\", line 837, in launch_instance\n",
      "    app.start()\n",
      "  File \"c:\\users\\lukaszstrak\\appdata\\local\\programs\\python\\python38\\lib\\site-packages\\ipykernel\\kernelapp.py\", line 612, in start\n",
      "    self.io_loop.start()\n",
      "  File \"c:\\users\\lukaszstrak\\appdata\\local\\programs\\python\\python38\\lib\\site-packages\\tornado\\platform\\asyncio.py\", line 149, in start\n",
      "    self.asyncio_loop.run_forever()\n",
      "  File \"c:\\users\\lukaszstrak\\appdata\\local\\programs\\python\\python38\\lib\\asyncio\\base_events.py\", line 570, in run_forever\n",
      "    self._run_once()\n",
      "  File \"c:\\users\\lukaszstrak\\appdata\\local\\programs\\python\\python38\\lib\\asyncio\\base_events.py\", line 1859, in _run_once\n",
      "    handle._run()\n",
      "  File \"c:\\users\\lukaszstrak\\appdata\\local\\programs\\python\\python38\\lib\\asyncio\\events.py\", line 81, in _run\n",
      "    self._context.run(self._callback, *self._args)\n",
      "  File \"c:\\users\\lukaszstrak\\appdata\\local\\programs\\python\\python38\\lib\\site-packages\\tornado\\ioloop.py\", line 690, in <lambda>\n",
      "    lambda f: self._run_callback(functools.partial(callback, future))\n",
      "  File \"c:\\users\\lukaszstrak\\appdata\\local\\programs\\python\\python38\\lib\\site-packages\\tornado\\ioloop.py\", line 743, in _run_callback\n",
      "    ret = callback()\n",
      "  File \"c:\\users\\lukaszstrak\\appdata\\local\\programs\\python\\python38\\lib\\site-packages\\tornado\\gen.py\", line 787, in inner\n",
      "    self.run()\n",
      "  File \"c:\\users\\lukaszstrak\\appdata\\local\\programs\\python\\python38\\lib\\site-packages\\tornado\\gen.py\", line 748, in run\n",
      "    yielded = self.gen.send(value)\n",
      "  File \"c:\\users\\lukaszstrak\\appdata\\local\\programs\\python\\python38\\lib\\site-packages\\ipykernel\\kernelbase.py\", line 365, in process_one\n",
      "    yield gen.maybe_future(dispatch(*args))\n",
      "  File \"c:\\users\\lukaszstrak\\appdata\\local\\programs\\python\\python38\\lib\\site-packages\\tornado\\gen.py\", line 209, in wrapper\n",
      "    yielded = next(result)\n",
      "  File \"c:\\users\\lukaszstrak\\appdata\\local\\programs\\python\\python38\\lib\\site-packages\\ipykernel\\kernelbase.py\", line 268, in dispatch_shell\n",
      "    yield gen.maybe_future(handler(stream, idents, msg))\n",
      "  File \"c:\\users\\lukaszstrak\\appdata\\local\\programs\\python\\python38\\lib\\site-packages\\tornado\\gen.py\", line 209, in wrapper\n",
      "    yielded = next(result)\n",
      "  File \"c:\\users\\lukaszstrak\\appdata\\local\\programs\\python\\python38\\lib\\site-packages\\ipykernel\\kernelbase.py\", line 543, in execute_request\n",
      "    self.do_execute(\n",
      "  File \"c:\\users\\lukaszstrak\\appdata\\local\\programs\\python\\python38\\lib\\site-packages\\tornado\\gen.py\", line 209, in wrapper\n",
      "    yielded = next(result)\n",
      "  File \"c:\\users\\lukaszstrak\\appdata\\local\\programs\\python\\python38\\lib\\site-packages\\ipykernel\\ipkernel.py\", line 306, in do_execute\n",
      "    res = shell.run_cell(code, store_history=store_history, silent=silent)\n",
      "  File \"c:\\users\\lukaszstrak\\appdata\\local\\programs\\python\\python38\\lib\\site-packages\\ipykernel\\zmqshell.py\", line 536, in run_cell\n",
      "    return super(ZMQInteractiveShell, self).run_cell(*args, **kwargs)\n",
      "  File \"c:\\users\\lukaszstrak\\appdata\\local\\programs\\python\\python38\\lib\\site-packages\\IPython\\core\\interactiveshell.py\", line 2876, in run_cell\n",
      "    result = self._run_cell(\n",
      "  File \"c:\\users\\lukaszstrak\\appdata\\local\\programs\\python\\python38\\lib\\site-packages\\IPython\\core\\interactiveshell.py\", line 2922, in _run_cell\n",
      "    return runner(coro)\n",
      "  File \"c:\\users\\lukaszstrak\\appdata\\local\\programs\\python\\python38\\lib\\site-packages\\IPython\\core\\async_helpers.py\", line 68, in _pseudo_sync_runner\n",
      "    coro.send(None)\n",
      "  File \"c:\\users\\lukaszstrak\\appdata\\local\\programs\\python\\python38\\lib\\site-packages\\IPython\\core\\interactiveshell.py\", line 3145, in run_cell_async\n",
      "    has_raised = await self.run_ast_nodes(code_ast.body, cell_name,\n",
      "  File \"c:\\users\\lukaszstrak\\appdata\\local\\programs\\python\\python38\\lib\\site-packages\\IPython\\core\\interactiveshell.py\", line 3337, in run_ast_nodes\n",
      "    if (await self.run_code(code, result,  async_=asy)):\n",
      "  File \"c:\\users\\lukaszstrak\\appdata\\local\\programs\\python\\python38\\lib\\site-packages\\IPython\\core\\interactiveshell.py\", line 3417, in run_code\n",
      "    exec(code_obj, self.user_global_ns, self.user_ns)\n",
      "  File \"<ipython-input-36-befa88306006>\", line 7, in <module>\n",
      "    print(f'Stack:\\n{print_stack()}')\n"
     ]
    }
   ],
   "source": [
    "from traceback import print_stack\n",
    "try:\n",
    "    a=None\n",
    "    a.read()\n",
    "except Exception as e:\n",
    "    print(f'Message: {e}')\n",
    "    print(f'Stack:\\n{print_stack()}')"
   ]
  },
  {
   "cell_type": "markdown",
   "metadata": {
    "pycharm": {
     "name": "#%% md\n"
    }
   },
   "source": [
    "Środowisko uruchomieniowe języka Python udostępnia dwie bardzo przydatne funkcje wbudowane: `locals` i 'globals'. Umożliwiają one wyświetlenie wszystkich zmiennych lokalnych i globalnych dostępnych w języku Python."
   ]
  },
  {
   "cell_type": "code",
   "execution_count": 44,
   "metadata": {
    "pycharm": {
     "name": "#%%\n"
    }
   },
   "outputs": [
    {
     "name": "stdout",
     "output_type": "stream",
     "text": [
      "__name__\n",
      "__doc__\n",
      "__package__\n",
      "__loader__\n",
      "__spec__\n",
      "__builtin__\n",
      "__builtins__\n",
      "_ih\n",
      "_oh\n",
      "_dh\n",
      "In\n",
      "Out\n",
      "get_ipython\n",
      "exit\n",
      "quit\n",
      "_\n",
      "__\n",
      "___\n",
      "_i\n",
      "_ii\n",
      "_iii\n",
      "_i1\n",
      "i\n",
      "sys\n",
      "_pydevd_bundle\n",
      "pydev_jupyter_vars\n",
      "_i2\n",
      "_i3\n",
      "_i4\n",
      "t\n",
      "_i5\n",
      "s\n",
      "_i6\n",
      "_i7\n",
      "id\n",
      "n1\n",
      "n2\n",
      "suma\n",
      "id2\n",
      "n3\n",
      "n4\n",
      "_i8\n",
      "_i9\n",
      "lst\n",
      "lst2\n",
      "_i10\n",
      "_i11\n",
      "_i12\n",
      "_i13\n",
      "_i14\n",
      "datetime\n",
      "timedelta\n",
      "dt\n",
      "dt_plus_ten\n",
      "_i15\n",
      "_i16\n",
      "v1\n",
      "v2\n",
      "v3\n",
      "_i17\n",
      "_i18\n",
      "v\n",
      "_i19\n",
      "_i20\n",
      "a\n",
      "b\n",
      "_i21\n",
      "_i22\n",
      "_i23\n",
      "test\n",
      "tab\n",
      "_i24\n",
      "_i25\n",
      "stop\n",
      "_i26\n",
      "Random\n",
      "rand\n",
      "try_count\n",
      "_i27\n",
      "_i28\n",
      "_i29\n",
      "pprint\n",
      "books\n",
      "_i30\n",
      "_i31\n",
      "f\n",
      "_i32\n",
      "_i33\n",
      "print_stack\n",
      "_i34\n",
      "_i35\n",
      "extract_stack\n",
      "_i36\n",
      "_i37\n",
      "c\n",
      "_i38\n",
      "local\n",
      "_i39\n",
      "all_locals\n",
      "pydev_jupyter_utils\n",
      "_i40\n",
      "_i41\n",
      "_i42\n",
      "_i43\n",
      "_i44\n"
     ]
    }
   ],
   "source": [
    "a=1\n",
    "b=2\n",
    "c=True\n",
    "all_locals = locals()\n",
    "for local in all_locals:\n",
    "    print(local)"
   ]
  },
  {
   "cell_type": "markdown",
   "metadata": {
    "pycharm": {
     "name": "#%% md\n"
    }
   },
   "source": [
    "Wywoływanie błędów można wykonać używają słowa kluczowego `raise` i klasy błędu (dowolnej, która dziedziczy po `Exception`).\n",
    "\n",
    "## Dodatkowy warunek _else_ w pętlach\n",
    "\n",
    "Częstym zadaniem programisty jest sprawdzenie czy pętla uruchomiła się choć jedne raz. Można tego dokonać za pomocą warunku sprawdzającego wielkość iterowanego obiektu lub poprzez ustawienie flagi na przeciwną niż domyślnie zainicjalizowana. W języku Python można jednak zastosować o wiele bardziej czytelną i wyrafinowaną konstrukcję."
   ]
  },
  {
   "cell_type": "code",
   "execution_count": 49,
   "metadata": {
    "pycharm": {
     "name": "#%%\n"
    }
   },
   "outputs": [
    {
     "name": "stdout",
     "output_type": "stream",
     "text": [
      "For loop test\n",
      "List is empty\n",
      "While loop test\n",
      "Nothing done here\n"
     ]
    }
   ],
   "source": [
    "print('For loop test')\n",
    "tab = []\n",
    "for i in tab:\n",
    "    print('Test')\n",
    "else:\n",
    "    print('List is empty')\n",
    "\n",
    "print('While loop test')\n",
    "i=0\n",
    "while i < len(tab):\n",
    "    print('Test')\n",
    "    i+= 1\n",
    "else:\n",
    "    print('Nothing done here')"
   ]
  },
  {
   "cell_type": "markdown",
   "metadata": {
    "pycharm": {
     "name": "#%% md\n"
    }
   },
   "source": [
    "## Instrukcje jednolinijkowe\n",
    "\n",
    "Podobnie jak w innych językach programowania w Python istnieje trzy argumentowy operator, jednak przyjmuje trochę inną konstrukcję niż ma to miejsce choćby w języku C++."
   ]
  },
  {
   "cell_type": "code",
   "execution_count": 50,
   "metadata": {
    "pycharm": {
     "name": "#%%\n"
    }
   },
   "outputs": [
    {
     "name": "stdout",
     "output_type": "stream",
     "text": [
      "1\n",
      "2\n"
     ]
    }
   ],
   "source": [
    "a=1\n",
    "b=2 if a==1 else 1\n",
    "print(a)\n",
    "print(b)"
   ]
  },
  {
   "cell_type": "markdown",
   "metadata": {
    "pycharm": {
     "name": "#%% md\n"
    }
   },
   "source": [
    "Kolejną konstrukcją, która umożliwia tworzenie zaawansowanej logiki w jednej linii jest zastosowanie listy."
   ]
  },
  {
   "cell_type": "code",
   "execution_count": 54,
   "metadata": {
    "pycharm": {
     "name": "#%%\n"
    }
   },
   "outputs": [
    {
     "name": "stdout",
     "output_type": "stream",
     "text": [
      "[1, 4, 16, 25, 36]\n",
      "[4, 16, 36]\n",
      "1\n",
      "2\n",
      "4\n",
      "5\n",
      "6\n"
     ]
    },
    {
     "data": {
      "text/plain": [
       "[None, None, None, None, None]"
      ]
     },
     "execution_count": 54,
     "metadata": {},
     "output_type": "execute_result"
    }
   ],
   "source": [
    "t=[1,2,4,5,6]\n",
    "print([i**2 for i in t])\n",
    "print([i**2 for i in t if i % 2 == 0]) # warunek spowoduje podniesienie do potęgi tylko liczb parzystych\\\n",
    "[print(i) for i in t]"
   ]
  },
  {
   "cell_type": "markdown",
   "metadata": {
    "pycharm": {
     "name": "#%% md\n"
    }
   },
   "source": [
    "Ostatnią konstrukcją, która jest zalecana i bardzo przydatna dotyczy słowa kluczowego `or`."
   ]
  },
  {
   "cell_type": "code",
   "execution_count": 58,
   "metadata": {
    "pycharm": {
     "name": "#%%\n"
    }
   },
   "outputs": [
    {
     "name": "stdout",
     "output_type": "stream",
     "text": [
      "1\n",
      "2\n"
     ]
    }
   ],
   "source": [
    "a=None\n",
    "b=1\n",
    "c=a or b\n",
    "d=2\n",
    "e=None\n",
    "f=d or e\n",
    "print(c)\n",
    "print(f)"
   ]
  },
  {
   "cell_type": "markdown",
   "metadata": {},
   "source": [
    "W powyższym przykładzie `or` nie jest logicznym operatorem lecz mechanizmem wyboru wartości innej niż `None` i niepustej. Warto dodać, że powyższa konstrukcja nie używa logiki dwuwartościowej i nie ma związku z niejawnym rzutowaniem typów.\n",
    "\n",
    "## Anotacje\n",
    "\n",
    "Usunięcie jawnej deklaracji typu w momencie tworzenia instancji typu, jednocześnie poprawiło czytelność kodu (osoba analizująca kod bardziej skupia się na algorytmie) z drugiej strony doprowadziła do częstych błędów w trakcie działania programu (_runtime exceptions_). Bez dodatkowych wskazówek edytorom kodu trudno pokazywać podpowiedzi związane z kodem. Język Python umożliwia stosowanie anotacji typów, jednak są to tylko podpowiedzi."
   ]
  },
  {
   "cell_type": "code",
   "execution_count": 59,
   "metadata": {
    "pycharm": {
     "name": "#%%\n"
    }
   },
   "outputs": [
    {
     "name": "stdout",
     "output_type": "stream",
     "text": [
      "<class 'int'>\n"
     ]
    }
   ],
   "source": [
    "a: int = 12\n",
    "b: str = a\n",
    "print(type(b))"
   ]
  },
  {
   "cell_type": "markdown",
   "metadata": {
    "pycharm": {
     "name": "#%% md\n"
    }
   },
   "source": [
    "W powyższym przykładzie żaden błąd nie został wyświetlony w związku z przypisaniem zmiennej deklarowanej jako `str` (łańcuch znaków) zmiennej typu `int`. Niemniej jednak warto stosować anotacje, gdyż poprawiają one czytelność kodu, w przypadku funkcji mówimy o samodokumentującym się kodzie oraz znacznie poprawia to skuteczność analizowania treści przez edytory kodu jak PyCharm czy Visual Studio Code. Biblioteka `typing` zawiera liczne anotacje łącznie z parametrami jakie można przypisać funkcjom takie jak `Optional`."
   ]
  },
  {
   "cell_type": "code",
   "execution_count": 3,
   "metadata": {
    "pycharm": {
     "name": "#%%\n"
    }
   },
   "outputs": [],
   "source": [
    "from typing import Dict, List, Callable\n",
    "\n",
    "a: Dict[str,int] = { 'klucz': 1 } # parametry opisu słownika to kolejno typ klucza i typ wartości\n",
    "b: List[int] = [1,2,3,4,5] # jeden parametr dotyczy jedynie typu każdego elementu"
   ]
  },
  {
   "cell_type": "markdown",
   "metadata": {
    "pycharm": {
     "name": "#%% md\n"
    }
   },
   "source": [
    "Parametry przekazywane są przez nawiasy kwadratowe. Anotacje można stosować w argumentach funkcji, ciele funkcji oraz klasach.\n",
    "\n",
    "## Moduły\n",
    "\n",
    "Programy napisane w języku Python mają budowę modułową. Instalacja kompilatora języka zwykle zawiera narzędzie do instalacji modułów `pip`, która instaluje paczki z modułami lokalnie. Listę aktualnych modułów można sprawdzić używając komendy `pip list`. Brak komendy `pip` można naprawić używając poniższego instruktarzu: https://packaging.python.org/tutorials/installing-packages/#id13.\n",
    "\n",
    "Jak zostało to pokrótce przedstawione moduły można importować za pomocą słowa kluczowego `import`. Niemniej jednak jest to niezalecane, gdyż zwykle znamy funkcje i klasy, które chcemy użyć. Z tego powodu lepiej stosować inną konstrukcję `from modul_name import fn1, cls1`. Zamiast listy obiektów do zaimportowania można użyć gwiazdki, ale nie jest to zalecane."
   ]
  },
  {
   "cell_type": "code",
   "execution_count": 12,
   "metadata": {
    "pycharm": {
     "name": "#%%\n"
    }
   },
   "outputs": [],
   "source": [
    "import typing\n",
    "from asyncio import Future"
   ]
  },
  {
   "cell_type": "markdown",
   "metadata": {
    "pycharm": {
     "name": "#%% md\n"
    }
   },
   "source": [
    "Wbudowana funkcja `dir` umożliwia wyświetlenie pełnej listy dostępnych funkcji, jeśli w parametrze przekażemy typ lub w przypadku przekazania nazwy modułu, listę klas."
   ]
  },
  {
   "cell_type": "code",
   "execution_count": 14,
   "metadata": {
    "pycharm": {
     "name": "#%%\n"
    }
   },
   "outputs": [
    {
     "name": "stdout",
     "output_type": "stream",
     "text": [
      "['ABCMeta', 'AbstractSet', 'Any', 'AnyStr', 'AsyncContextManager', 'AsyncGenerator', 'AsyncIterable', 'AsyncIterator', 'Awaitable', 'BinaryIO', 'ByteString', 'CT_co', 'Callable', 'ChainMap', 'ClassVar', 'Collection', 'Container', 'ContextManager', 'Coroutine', 'Counter', 'DefaultDict', 'Deque', 'Dict', 'EXCLUDED_ATTRIBUTES', 'Final', 'ForwardRef', 'FrozenSet', 'Generator', 'Generic', 'Hashable', 'IO', 'ItemsView', 'Iterable', 'Iterator', 'KT', 'KeysView', 'List', 'Literal', 'Mapping', 'MappingView', 'Match', 'MethodDescriptorType', 'MethodWrapperType', 'MutableMapping', 'MutableSequence', 'MutableSet', 'NamedTuple', 'NamedTupleMeta', 'NewType', 'NoReturn', 'Optional', 'OrderedDict', 'Pattern', 'Protocol', 'Reversible', 'Sequence', 'Set', 'Sized', 'SupportsAbs', 'SupportsBytes', 'SupportsComplex', 'SupportsFloat', 'SupportsIndex', 'SupportsInt', 'SupportsRound', 'T', 'TYPE_CHECKING', 'T_co', 'T_contra', 'Text', 'TextIO', 'Tuple', 'Type', 'TypeVar', 'TypedDict', 'Union', 'VT', 'VT_co', 'V_co', 'ValuesView', 'WrapperDescriptorType', '_Final', '_GenericAlias', '_Immutable', '_PROTO_WHITELIST', '_ProtocolMeta', '_SPECIAL_NAMES', '_SpecialForm', '_TYPING_INTERNALS', '_TypedDictMeta', '_TypingEllipsis', '_TypingEmpty', '_VariadicGenericAlias', '__all__', '__builtins__', '__cached__', '__doc__', '__file__', '__loader__', '__name__', '__package__', '__spec__', '_alias', '_allow_reckless_class_cheks', '_allowed_types', '_check_fails', '_check_generic', '_cleanups', '_collect_type_vars', '_dict_new', '_eval_type', '_get_defaults', '_get_protocol_attrs', '_is_callable_members_only', '_is_dunder', '_make_nmtuple', '_no_init', '_normalize_alias', '_overload_dummy', '_prohibited', '_remove_dups_flatten', '_special', '_subs_tvars', '_tp_cache', '_type_check', '_type_repr', '_typeddict_new', 'abstractmethod', 'cast', 'collections', 'contextlib', 'final', 'functools', 'get_args', 'get_origin', 'get_type_hints', 'io', 'no_type_check', 'no_type_check_decorator', 'operator', 'overload', 're', 'runtime_checkable', 'stdlib_re', 'sys', 'types']\n",
      "['__await__', '__class__', '__del__', '__delattr__', '__dir__', '__doc__', '__eq__', '__format__', '__ge__', '__getattribute__', '__gt__', '__hash__', '__init__', '__init_subclass__', '__iter__', '__le__', '__lt__', '__ne__', '__new__', '__reduce__', '__reduce_ex__', '__repr__', '__setattr__', '__sizeof__', '__str__', '__subclasshook__', '_asyncio_future_blocking', '_callbacks', '_exception', '_log_traceback', '_loop', '_repr_info', '_result', '_source_traceback', '_state', 'add_done_callback', 'cancel', 'cancelled', 'done', 'exception', 'get_loop', 'remove_done_callback', 'result', 'set_exception', 'set_result']\n"
     ]
    }
   ],
   "source": [
    "import typing\n",
    "print(dir(typing))\n",
    "from asyncio import Future\n",
    "print(dir(Future))"
   ]
  },
  {
   "cell_type": "markdown",
   "metadata": {
    "pycharm": {
     "name": "#%% md\n"
    }
   },
   "source": [
    "Często spotykaną praktyką w dużych projektach jest tworzenie własnych modułów bez ich instalacji w lokalnym repozytorium tzn. bez dostępu do modułów w innych projektach. Każdy folder, który zawiera pusty plik o nazwie \\_\\_init\\_\\_.py jest traktowany jak moduł (nazwa modułu to nazwa folderu). W ten sposób pomijana jest hierarchia folderów, a moduł jest dostępny z każdego miejsca w projekcie niezależnie od położenie modułu w strukturze folderów. Należy jednak pamiętać, że wszystkie pliki _*.py_ muszą znajdować się w jednej przestrzeni roboczej projektu. Pod samym modułem można zaimportować wszystko co znajduje się w pliku \\_\\_init\\_\\_.py, każdy plik, który znajduje się w folderze będzie dostępny za pomocą nazwy: nazwa_folderu.nazwa_pliku.\n",
    "\n",
    "Dostęp do własnych plików z biblioteką funkcji lub typów może odbywać się za pomocą notacji \".\" lub \"..\". Pierwsza informuje środowisko uruchomieniowe Pythona, że chcemy zaimportować plik znajdujący się w tym samym katalogu lub katalogu wyżej."
   ]
  },
  {
   "cell_type": "code",
   "execution_count": null,
   "metadata": {
    "pycharm": {
     "name": "#%%\n"
    }
   },
   "outputs": [],
   "source": [
    "from .test import func1\n",
    "from ..test import func2"
   ]
  },
  {
   "cell_type": "markdown",
   "metadata": {
    "pycharm": {
     "name": "#%% md\n"
    }
   },
   "source": [
    "Jeśli w pliku \\_\\_init\\_\\_.py znajduje się konstrukcja \\_\\_all__ = \\['bar', 'baz'\\], wszystkie pliki zostaną ukryte, a dostępne moduły muszą zostać wylistowane w liście przekazanej do zmiennej \\_\\_all__.\n",
    "\n",
    "Konstrukcja `from . import nazwy` importuje tylko załadowane pliki w bieżącym folderze korzystając m.in. z \\_\\_all__.\n",
    "\n",
    "## Definiowanie funkcji\n",
    "\n",
    "Podobnie do innych języków programowania funkcje to zbiór instrukcji posiadających wspólną etykietę. Deklarację rozpoczynamy przez dodanie słowa kluczowego `def` i każda deklaracja zakończona jest dwukropkiem, a kolejne linie muszą zawierać wcięcie. Dla klarowności intencji w przykładzie zdefinowano również anotacje.\n"
   ]
  },
  {
   "cell_type": "code",
   "execution_count": 1,
   "metadata": {
    "pycharm": {
     "name": "#%%\n"
    }
   },
   "outputs": [
    {
     "name": "stdout",
     "output_type": "stream",
     "text": [
      "3\n"
     ]
    }
   ],
   "source": [
    "def sum(a: int, b: int) -> int:\n",
    "    return a+b\n",
    "\n",
    "print(sum(1,2))"
   ]
  },
  {
   "cell_type": "markdown",
   "metadata": {
    "pycharm": {
     "name": "#%% md\n"
    }
   },
   "source": [
    "Strzałka oznacza deklarowaną wartość jaka zostanie zwracana. Deklaracja może zawierać wartości domyślne i zwracać np. tuple."
   ]
  },
  {
   "cell_type": "code",
   "execution_count": null,
   "metadata": {
    "pycharm": {
     "name": "#%%\n"
    }
   },
   "outputs": [],
   "source": [
    "def sum(a: int, b: int, c: int = 1) -> int:\n",
    "    return a,b,c # równoznaczne w z return (a,b,c)\n",
    "\n",
    "print(sum(a,b))\n",
    "print(sum(a,b,c=2))"
   ]
  },
  {
   "cell_type": "markdown",
   "metadata": {
    "pycharm": {
     "name": "#%% md\n"
    }
   },
   "source": [
    "Często stosowaną praktyką w języku Python jest deklarowanie jednej funkcji z obsługą różnych typów danych. Wynika to z tego, że nie istnieje deklaracja typu, która jest sprawdzana na poziomie kompilacji jak w językach silnie typowanych jak C++/C#/Java. Z tego też wynika brak przeciążenia funkcji."
   ]
  },
  {
   "cell_type": "code",
   "execution_count": 4,
   "metadata": {
    "pycharm": {
     "name": "#%%\n"
    }
   },
   "outputs": [
    {
     "name": "stdout",
     "output_type": "stream",
     "text": [
      "2\n",
      "3\n",
      "[2, 3]\n",
      "[4, 5]\n"
     ]
    }
   ],
   "source": [
    "from typing import Optional\n",
    "\n",
    "def increment(val, increment_by: Optional[int]=1):\n",
    "    if isinstance(val, int):\n",
    "        return val + increment_by\n",
    "    elif isinstance(val, list):\n",
    "        return [x + increment_by for x in val]\n",
    "\n",
    "    raise NotImplemented()\n",
    "\n",
    "print(increment(1))\n",
    "print(increment(1,2)) # tożsame z increment(1,increment_by=2)\n",
    "print(increment([1,2]))\n",
    "print(increment([1,2],3))"
   ]
  },
  {
   "cell_type": "markdown",
   "metadata": {
    "pycharm": {
     "name": "#%% md\n"
    }
   },
   "source": [
    "W tym miejscu należy podkreślić, że można używać parametrów domyślnych bez słowa kluczowego `Optional`, ale jest to niezalecane. W argumentach stosowanie pojedynczej gwiazdki ma specjalne znaczenie. Są to nieskończone parametry, do których wewnątrz funkcji uzyskuje się dostęp jak do zwykłej listy."
   ]
  },
  {
   "cell_type": "code",
   "execution_count": 17,
   "metadata": {
    "pycharm": {
     "name": "#%%\n"
    }
   },
   "outputs": [
    {
     "name": "stdout",
     "output_type": "stream",
     "text": [
      "complex_ex(1,2,3)\n",
      "a=1\n",
      "p=2\n",
      "p=3\n",
      "complex_ex(1,[1,2])\n",
      "a=1\n",
      "p=[1, 2]\n",
      "lst=[3,4,5]\n",
      "complex_ex(1, *lst)\n",
      "a=1\n",
      "p=3\n",
      "p=4\n",
      "p=5\n",
      "lst=[6,7,8]\n",
      "complex_ex(*lst)\n",
      "a=6\n",
      "p=7\n",
      "p=8\n"
     ]
    }
   ],
   "source": [
    "def complex_ex(a: int, *lst):\n",
    "    print(f'a={a}')\n",
    "    for p in lst:\n",
    "        print(f'p={p}')\n",
    "\n",
    "print('complex_ex(1,2,3)')\n",
    "complex_ex(1,2,3)\n",
    "\n",
    "print('complex_ex(1,[1,2])')\n",
    "complex_ex(1,[1,2]) # jedno jednoelementowy parametr jako lista\n",
    "\n",
    "print('lst=[3,4,5]')\n",
    "print('complex_ex(1, *lst)')\n",
    "lst=[3,4,5]\n",
    "complex_ex(1, *lst)\n",
    "print('lst=[6,7,8]')\n",
    "print('complex_ex(*lst)')\n",
    "lst=[6,7,8]\n",
    "complex_ex(*lst)"
   ]
  },
  {
   "cell_type": "markdown",
   "metadata": {
    "pycharm": {
     "name": "#%% md\n"
    }
   },
   "source": [
    "W powyższym przykładzie `*lst` oznacza rozpakowywanie wartości listy i dopasowanie jej do kolejnych pozycyjnych argumentów funkcji. Jeszcze większe możliwości daje stosowanie podwójnej gwiazdki, która oznacza słownik."
   ]
  },
  {
   "cell_type": "code",
   "execution_count": 20,
   "metadata": {
    "pycharm": {
     "name": "#%%\n"
    }
   },
   "outputs": [
    {
     "name": "stdout",
     "output_type": "stream",
     "text": [
      "zeta=1\n",
      "alpha = 1.5\n",
      "beta = 9\n",
      "gamma = 4\n",
      "zeta=1\n",
      "alpha = 1.5\n",
      "beta = 9\n",
      "gamma = 4\n"
     ]
    }
   ],
   "source": [
    "def print_parameters(zeta, **kwargs):\n",
    "    print(f'zeta={zeta}')\n",
    "    for key, value in kwargs.items():\n",
    "        print(f'{key} = {value}')\n",
    "\n",
    "print_parameters(1, alpha=1.5, beta=9, gamma=4)\n",
    "print_parameters(zeta=1, alpha=1.5, beta=9, gamma=4)"
   ]
  },
  {
   "cell_type": "markdown",
   "metadata": {
    "pycharm": {
     "name": "#%% md\n"
    }
   },
   "source": [
    "Tak jak poprzednio stosując podwójną gwiazdkę możemy rozpakować słownik."
   ]
  },
  {
   "cell_type": "code",
   "execution_count": 21,
   "metadata": {
    "pycharm": {
     "name": "#%%\n"
    }
   },
   "outputs": [
    {
     "name": "stdout",
     "output_type": "stream",
     "text": [
      "zeta=1\n",
      "alpha = 1.5\n",
      "beta = 9\n",
      "gamma = 4\n",
      "zeta=1\n",
      "alpha = 1.5\n",
      "beta = 9\n",
      "gamma = 4\n"
     ]
    }
   ],
   "source": [
    "def print_parameters(zeta, **kwargs):\n",
    "    print(f'zeta={zeta}')\n",
    "    for key, value in kwargs.items():\n",
    "        print(f'{key} = {value}')\n",
    "\n",
    "print_parameters(1, **{'alpha': 1.5, 'beta': 9, 'gamma': 4})\n",
    "dict_arg={'alpha': 1.5, 'beta': 9, 'gamma': 4}\n",
    "print_parameters(1, **dict_arg)"
   ]
  },
  {
   "cell_type": "markdown",
   "metadata": {
    "pycharm": {
     "name": "#%% md\n"
    }
   },
   "source": [
    "Zarówno operator gwiazdki jak i podwójnej gwiazdki może pojawiać się jako jedyny argument funkcji."
   ]
  },
  {
   "cell_type": "code",
   "execution_count": 1,
   "metadata": {
    "pycharm": {
     "name": "#%%\n"
    }
   },
   "outputs": [
    {
     "name": "stdout",
     "output_type": "stream",
     "text": [
      "No errors\n"
     ]
    }
   ],
   "source": [
    "def func_1(*args):\n",
    "    pass\n",
    "\n",
    "def func_2(**kwargs):\n",
    "    pass\n",
    "\n",
    "print('No errors')"
   ]
  },
  {
   "cell_type": "markdown",
   "metadata": {
    "pycharm": {
     "name": "#%% md\n"
    }
   },
   "source": [
    "Deklaracja funkcji wiąże się z utworzeniem nowej przestrzeni nazw dla każdej zadeklarowanej zmiennej w funkcji. Sytuacja może się skomplikować w przypadku wielokrotnych zagnieżdżeń."
   ]
  },
  {
   "cell_type": "code",
   "execution_count": null,
   "metadata": {
    "pycharm": {
     "name": "#%%\n"
    }
   },
   "outputs": [],
   "source": [
    "def sort_priority2(numbers, group):\n",
    "    found = False        # Przestrzeń: 'sort_priority2'\n",
    "    def helper(x):\n",
    "        if x in group:\n",
    "            found = True # Przestrzeń: 'helper' -- źle!\n",
    "            return (0, x)\n",
    "        return (1, x)\n",
    "\n",
    "    numbers.sort(key=helper)\n",
    "    return found"
   ]
  },
  {
   "cell_type": "markdown",
   "metadata": {
    "pycharm": {
     "name": "#%% md\n"
    }
   },
   "source": [
    "Zmienna `found` zadeklarowana jest dwa razy, w funkcji `sort_priority2` i `helper`. Zmiana wartości następuje dla zmiennej found w `helper`, podczas gdy zmienna `found` w funkcji `sort_priority2` pozostaje niezmieniona. Można na wiele sposobów naprawić powyższy problem. Jednym z nich jest zastosowanie słowa kluczowego `nonlocal`, który informuje środowisko uruchomieniowe, że chcemy używać istniejącej zmiennej."
   ]
  },
  {
   "cell_type": "code",
   "execution_count": null,
   "metadata": {
    "pycharm": {
     "name": "#%%\n"
    }
   },
   "outputs": [],
   "source": [
    "def sort_priority2(numbers, group):\n",
    "    found = False        # Przestrzeń: 'sort_priority2'\n",
    "    def helper(x):\n",
    "        nonlocal found # zmiana następuje tutaj\n",
    "        if x in group:\n",
    "            found = True # Przestrzeń: 'helper' -- źle!\n",
    "            return (0, x)\n",
    "        return (1, x)\n",
    "\n",
    "    numbers.sort(key=helper)\n",
    "    return found"
   ]
  },
  {
   "cell_type": "markdown",
   "metadata": {
    "pycharm": {
     "name": "#%% md\n"
    }
   },
   "source": [
    "Można również stosować słowo kluczowe `global`, które powoduje utworzenie zmienną dostępną z każdego miejsca w programie. Należy pamiętać jednak, że zmienna ta powoduje obciążenie pamięci przez cały cykl życia programu. W kontekście omawiania funkcji należy wspomnieć o możliwości przekazywania funkcji jako jej argument oraz przypisanie jej do zmiennej."
   ]
  },
  {
   "cell_type": "code",
   "execution_count": 1,
   "metadata": {
    "pycharm": {
     "name": "#%%\n"
    }
   },
   "outputs": [
    {
     "name": "stdout",
     "output_type": "stream",
     "text": [
      "Example is working\n"
     ]
    }
   ],
   "source": [
    "def func_arg(fun_1):\n",
    "    fun_1()\n",
    "\n",
    "def func_2():\n",
    "    pass\n",
    "\n",
    "func_arg(func_2)\n",
    "\n",
    "fn_var=func_2\n",
    "func_arg(fn_var)\n",
    "\n",
    "func_arg(lambda: 1+2) # lambdy również działają\n",
    "\n",
    "print('Example is working')"
   ]
  },
  {
   "cell_type": "markdown",
   "metadata": {
    "pycharm": {
     "name": "#%% md\n"
    }
   },
   "source": [
    "Ostatnim omawianym elementem będą bardzo praktyczne wyrażenia `lambda`. Są to jednolinijkowe funkcje, których argumenty znajdują się po słowie `lambda`, a kończą się dwukropkiem, po którym zaczyna się właściwa deklaracja funkcji. `lambda` nie posiada żadnej etykiety (nazwy), więc musi być przypisana do zmiennej lub użyta bezpośrednio w wywołaniu innej funkcji, która jako argument przyjmuje funkcję."
   ]
  },
  {
   "cell_type": "code",
   "execution_count": 2,
   "metadata": {
    "pycharm": {
     "name": "#%%\n"
    }
   },
   "outputs": [
    {
     "name": "stdout",
     "output_type": "stream",
     "text": [
      "1\n",
      "4\n",
      "9\n",
      "16\n"
     ]
    }
   ],
   "source": [
    "from typing import List, Callable\n",
    "\n",
    "def func(collection: List[int], callback: Callable[[int],int]):\n",
    "    for i in collection:\n",
    "        print(callback(i))\n",
    "\n",
    "func([1,2,3,4], lambda x: x**2)\n"
   ]
  },
  {
   "cell_type": "markdown",
   "metadata": {
    "pycharm": {
     "name": "#%% md\n"
    }
   },
   "source": [
    "W powyższym przykładzie użyto anotacji, które są opcjonalne. W wewnętrznych nawiasach klamrowych `Callable` określono typ parametrów, a po przecinku typ zwracany przez funktor (w naszym przypadku wyrażenie `lambda`).\n",
    "\n",
    "## Dokumentacja\n",
    "\n",
    "Dobrą praktyką w inżynierii oprogramowania jest automatyczne dokumentowanie kodu. Stosując odpowiednie znaczniki wewnątrz funkcji bądź klasy istnieje możliwość generowania dokumentacji oraz umożliwić programiście używającemu naszego kodu na wyświetlenie podpowiedzi (_hint_) związanej z wywoływaną funkcją i jej parametrami. Wystarczy użyć trzech podwójnych cudzysłowów i stosować odpowiednią składnię."
   ]
  },
  {
   "cell_type": "code",
   "execution_count": 1,
   "metadata": {
    "pycharm": {
     "name": "#%%\n"
    }
   },
   "outputs": [
    {
     "name": "stdout",
     "output_type": "stream",
     "text": [
      "Help on function funct in module __main__:\n",
      "\n",
      "funct(par1: str) -> str\n",
      "    Function adding exclamation mark at the end of passed string in parameter.\n",
      "    :param par1: input string\n",
      "    :return: string with additional character \"!\"\n",
      "\n"
     ]
    }
   ],
   "source": [
    "def funct(par1: str) -> str:\n",
    "    \"\"\"\n",
    "    Function adding exclamation mark at the end of passed string in parameter.\n",
    "    :param par1: input string\n",
    "    :return: string with additional character \"!\"\n",
    "    \"\"\"\n",
    "    return par1 + \"!\"\n",
    "\n",
    "help(funct)"
   ]
  },
  {
   "cell_type": "markdown",
   "metadata": {
    "pycharm": {
     "name": "#%% md\n"
    }
   },
   "source": [
    "W powyższym przykładzie użyto funkcji wbudowanej `help`, której zadaniem jest wyświetlenie informacji o podanej w parametrze klasie, module lub funkcji. Wszystkie najpopularniejsze edytory języka Python wspierają tą funkcjonalność.\n",
    "\n",
    "## Przydatne funkcje, zmienne i techniki\n",
    "\n",
    "### Funkcja `pprint` (_pretty print_)\n",
    "\n",
    "W przypadku, gdy chcemy wyświetlić na ekranie odczytaną lub przetworzoną zawartość pliku, warto skorzystać z tej funkcji. Różni się od standardowej wersji funkcji `print` tym, że posiada poprawione formatowanie swojego rezultatu na ekranie. Przykładowo plik jednolinijkowy json, przy użyciu funkcji zostanie sformatowany do bardziej czytelnej postaci (ze znakami końca linii i wcięciami."
   ]
  },
  {
   "cell_type": "code",
   "execution_count": 29,
   "metadata": {
    "pycharm": {
     "name": "#%%\n"
    }
   },
   "outputs": [
    {
     "name": "stdout",
     "output_type": "stream",
     "text": [
      "[{'isbn': '9780134854717',\n",
      "  'title': 'Effective Python: 90 Specific Ways to Write Better Python, 2nd '\n",
      "           'Edition'},\n",
      " {'isbn': '9781593279929',\n",
      "  'title': 'Automate the Boring Stuff with Python, 2nd Edition'}]\n"
     ]
    }
   ],
   "source": [
    "from pprint import pprint\n",
    "\n",
    "books = [{'isbn': '9780134854717', 'title': 'Effective Python: 90 Specific Ways to Write Better Python, 2nd Edition'},\n",
    "         {'isbn': '9781593279929', 'title': 'Automate the Boring Stuff with Python, 2nd Edition'}]\n",
    "\n",
    "pprint(books)"
   ]
  },
  {
   "cell_type": "markdown",
   "metadata": {
    "pycharm": {
     "name": "#%% md\n"
    }
   },
   "source": [
    "### Funkcja `input`\n",
    "\n",
    "Częstym zadaniem programu jest uzyskanie od użytkownika potrzebnych danych wejściowych. Funkcja `input` maksymalnie upraszcza to zadanie."
   ]
  },
  {
   "cell_type": "code",
   "execution_count": 2,
   "metadata": {
    "pycharm": {
     "name": "#%%\n"
    }
   },
   "outputs": [
    {
     "name": "stdout",
     "output_type": "stream",
     "text": [
      "You enter: 1\n"
     ]
    }
   ],
   "source": [
    "alpha = input('Enter alpha parameter:')\n",
    "print(f'You enter: {alpha}')"
   ]
  },
  {
   "cell_type": "markdown",
   "metadata": {
    "pycharm": {
     "name": "#%% md\n"
    }
   },
   "source": [
    "Co ciekawe funkcja działa również w samym Jupyter Notebooku, umożliwiając wpisanie parametru wejściowego.\n",
    "\n",
    "### Zmienna __name__ (odczytywanie parametrów)\n",
    "\n",
    "Zmienna `__name__` przechowuje nazwę pliku wewnątrz, którego kod jest wykonywany lub stałą wartość `__main__`. W pierwszym przypadku interpreter języka Python rozpoczął swoje działanie od innego pliku początkowego, w drugim sytuacja jest odwrotna. Jest to przydatne, gdy plik z kodem języka Python może zawierać inne zachowanie w przypadku, gdy zostanie uruchomiony jako główny, a inne gdy plik ten jest importowany przez moduł główny -- w takim przypadku plik jest po prostu biblioteką funkcji i klas."
   ]
  },
  {
   "cell_type": "code",
   "execution_count": 3,
   "metadata": {
    "pycharm": {
     "name": "#%%\n"
    }
   },
   "outputs": [
    {
     "name": "stdout",
     "output_type": "stream",
     "text": [
      "__main__\n"
     ]
    }
   ],
   "source": [
    "def main():\n",
    "    pass\n",
    "\n",
    "if __name__ == \"__main__\":\n",
    "    main()\n",
    "\n",
    "print(__name__)"
   ]
  },
  {
   "cell_type": "markdown",
   "metadata": {
    "pycharm": {
     "name": "#%% md\n"
    }
   },
   "source": [
    "### Słowniki\n",
    "\n",
    "Kod programu dość często ulega licznym rozgałęzieniom. Znacznie pogarsza to czytelność kodu i utrudnia pisanie testów jednostkowych (każde rozgałęzienie powinno być przetestowane). Istnieje wiele sposób radzenie sobie z tym problemem np. poprzez stosowanie wzorców projektowych. Jednym z ciekawszych sposób jest zastosowanie słownika. Technika polega na przechowywaniu w kluczu słownika opcji do wyboru, a w wartości wskaźnika do obsługiwanej funkcji."
   ]
  },
  {
   "cell_type": "code",
   "execution_count": null,
   "metadata": {
    "pycharm": {
     "name": "#%%\n"
    }
   },
   "outputs": [],
   "source": [
    "def plus(left_operator, right_operator):\n",
    "    return left_operator + right_operator\n",
    "\n",
    "def minus(left_operator, right_operator):\n",
    "    return left_operator - right_operator\n",
    "\n",
    "def multiply(left_operator, right_operator):\n",
    "    return left_operator * right_operator\n",
    "\n",
    "def divide(left_operator, right_operator):\n",
    "    return left_operator // right_operator # bez reszty\n",
    "\n",
    "def make_calc(operation, left_operator, right_operator):\n",
    "    if operation == 'plus':\n",
    "        return sum(left_operator, right_operator)\n",
    "    elif operation == 'minus':\n",
    "        return minus(left_operator, right_operator)\n",
    "    elif operation == 'multiply':\n",
    "        return multiply(left_operator, right_operator)\n",
    "    elif operation == 'divide':\n",
    "        return divide(left_operator, right_operator)\n",
    "    else:\n",
    "        raise NotImplemented()"
   ]
  },
  {
   "cell_type": "markdown",
   "metadata": {
    "pycharm": {
     "name": "#%% md\n"
    }
   },
   "source": [
    "Powyższy kod da się łatwo uprościć i poprawić jego czytelność."
   ]
  },
  {
   "cell_type": "code",
   "execution_count": null,
   "metadata": {
    "pycharm": {
     "name": "#%%\n"
    }
   },
   "outputs": [],
   "source": [
    "def plus(left_operator, right_operator):\n",
    "    return left_operator + right_operator\n",
    "\n",
    "def minus(left_operator, right_operator):\n",
    "    return left_operator - right_operator\n",
    "\n",
    "def multiply(left_operator, right_operator):\n",
    "    return left_operator * right_operator\n",
    "\n",
    "def divide(left_operator, right_operator):\n",
    "    return left_operator // right_operator # bez reszty\n",
    "\n",
    "operations = {'plus': plus,\n",
    "              'minus': minus,\n",
    "              'multiply': multiply,\n",
    "              'divide': divide}\n",
    "\n",
    "def make_calc(operation, left_operator, right_operator):\n",
    "    if operation not in operations:\n",
    "        raise NotImplemented()\n",
    "\n",
    "    return operations[operation]()"
   ]
  },
  {
   "cell_type": "markdown",
   "metadata": {
    "pycharm": {
     "name": "#%% md\n"
    }
   },
   "source": [
    "### _Walrus_ operator\n",
    "\n",
    "Jedną z nowości wprowadzoną w języku Python 3.7 był _walrus_ operator, który nieodpowiednio użyty może znacznie pogorszyć czytelność kodu, dlatego w społeczności budzi wiele kontrowersji.\n",
    "Załóżmy, że zadanie polega na wyświetleniu każdego elementu list, aż do napotkania liczby -1. Za pomocą omawianego operatora kod może wyglądać następująco."
   ]
  },
  {
   "cell_type": "code",
   "execution_count": 1,
   "metadata": {
    "pycharm": {
     "name": "#%%\n"
    }
   },
   "outputs": [
    {
     "name": "stdout",
     "output_type": "stream",
     "text": [
      "1\n",
      "2\n",
      "3\n",
      "4\n",
      "5\n"
     ]
    }
   ],
   "source": [
    "lst=[1,2,3,4,5,-1]\n",
    "id=0\n",
    "\n",
    "while (item:=lst[id]) > -1:\n",
    "    print(item)\n",
    "    id+=1"
   ]
  },
  {
   "cell_type": "markdown",
   "metadata": {
    "pycharm": {
     "name": "#%% md\n"
    }
   },
   "source": [
    "Zmienna `item` przypisany jest dopiero w momencie, gdy spełniony jest warunek. Operator ten również bardzo się przydaje w trakcie pracy z plikami. Bardzo popularnym przykładem jest zastosowanie go w trakcie przetwarzania pliku."
   ]
  },
  {
   "cell_type": "code",
   "execution_count": 7,
   "metadata": {
    "pycharm": {
     "name": "#%%\n"
    }
   },
   "outputs": [
    {
     "name": "stdout",
     "output_type": "stream",
     "text": [
      "1\n",
      "2\n",
      "3\n",
      "4\n",
      "5\n",
      "6\n",
      "1\n",
      "2\n",
      "3\n",
      "4\n",
      "5\n",
      "6\n"
     ]
    }
   ],
   "source": [
    "from io import StringIO\n",
    "\n",
    "example='1\\n2\\n3\\n4\\n5\\n6'\n",
    "\n",
    "with StringIO(example) as f:\n",
    "    while True:\n",
    "        line=f.readline()\n",
    "        if not line: # w przypadku EOF line będzie pustym łańcuchem znaków\n",
    "            break\n",
    "\n",
    "        print(line.strip())\n",
    "\n",
    "with StringIO(example) as f:\n",
    "    while (line := f.readline()):\n",
    "        print(line.strip())"
   ]
  },
  {
   "cell_type": "markdown",
   "metadata": {
    "pycharm": {
     "name": "#%% md\n"
    }
   },
   "source": [
    "Klasa `StringIO` tworzy strumień typu _memory stream_. Zawiera te same funkcje, co wynik funkcji `open` z tą różnicą, że działa w pamięci nie tworząc żadnych uchwytów do plików.\n",
    "\n",
    "Operator ten ma również zastosowanie wszędzie tam, gdzie należy wyliczyć zmienną przed wykonaniem logicznego warunku.\n",
    "\n",
    "### Logowanie błędów\n",
    "\n",
    "Jednym z wyznaczników jakości napisanego kodu jest obsługa błędów i to jak są logowane. Nie sposób uniknąć wszystkich błędów, gdyż niektóre zależą od użytkownika końcowego i wielu czynników, które nie sposób przewidzieć. Czytelne logowanie błędów ma szczególne znaczenie w dużych projektach, gdzie za naprawę problemów odpowiada pierwsza i druga linia wsparcia, nie sami programiści. Najgorszą kategorią błędów, których nie da się zasymulować. Logi błędów są wtedy jedynym źródłem informacji o problemie.\n",
    "\n",
    "W języku Python domyślnie stosowanych jest 5 poziomów logowania, `critical`, `error`, `warning`, `info`, `debug`. Pierwszy i drugi służy do logowania błędów, trzeci do wyświetlenia powiadomień, że w systemie występują jakieś anomalie, czwarty poziom to istotne informacje z punktu widzenia działu wsparcia oraz piąty, logi głównie dla programisty. W standardowej aplikacji najmniej powinno być błędów, najwięcej wpisów z logów programisty. Biblioteka standardowa języka Python umożliwia automatyczne filtrowanie zapisu danych w zależności od parametrów zewnętrznych, co daje możliwość użycie tego samego kodu zarówno na komputerze programisty jak i środowisku produkcyjnym. Moduł `logging` w języku Python zawiera wszystkie potrzebne funkcje i typy.\n",
    "\n",
    "1. `Logger` to klasa zawierająca wszystkie potrzebne funkcje potrzebne do obsługi logów w kodzie. \n",
    "\n",
    "2. `Handlers` zestaw klas, które zapisują kolekcje logów przechowywanych w pamięci np. na dysk.\n",
    "\n",
    "3. `Filters` zestaw metod, które umożliwiają przetwarzanie tylko konkretnego poziomu logów na wyjściu.\n",
    "\n",
    "4. `Formatters` jest to klasa, która umożliwia spersonalizowanie szablonu zapisu logów np. format daty.\n"
   ]
  },
  {
   "cell_type": "code",
   "execution_count": 11,
   "metadata": {
    "pycharm": {
     "name": "#%%\n"
    }
   },
   "outputs": [
    {
     "name": "stderr",
     "output_type": "stream",
     "text": [
      "Debug\n",
      "Warning\n",
      "Error\n"
     ]
    }
   ],
   "source": [
    "from logging import Logger, DEBUG, StreamHandler\n",
    "\n",
    "logger=Logger(__name__, DEBUG) # drugi parametr zawiera informacje jakie logi system powinien przechowywać\n",
    "\n",
    "logger.addHandler(StreamHandler()) # zapis na konsolę\n",
    "\n",
    "logger.debug('Debug')\n",
    "logger.warning('Warning')\n",
    "logger.error('Error')"
   ]
  },
  {
   "cell_type": "markdown",
   "metadata": {
    "pycharm": {
     "name": "#%% md\n"
    }
   },
   "source": [
    "W powyższym przykładzie użyto konsoli jako mechanizmu zapisu logów. Więcej informacji można znaleźć pod adresem:\n",
    "https://docs.python.org/3.8/library/logging.handlers.html\n",
    "\n",
    "Istotnym elementem modułu jest łatwa możliwość sterowania pojedynczymi instancjami klasy `logger` różnych modułów oraz centralizacja ustawień wszystkich instancji klasy `logger`."
   ]
  },
  {
   "cell_type": "code",
   "execution_count": null,
   "metadata": {
    "pycharm": {
     "name": "#%%\n"
    }
   },
   "outputs": [],
   "source": [
    "from logging import getLogger, basicConfig, DEBUG\n",
    "\n",
    "module_logger = getLogger('application_name.module_or_file')\n",
    "\n",
    "basicConfig(level=DEBUG, format='%(relativeCreated)6d %(threadName)s %(message)s')"
   ]
  },
  {
   "cell_type": "markdown",
   "metadata": {
    "pycharm": {
     "name": "#%% md\n"
    }
   },
   "source": [
    "Linia druga pozwala pobrać instancję klasy `logger` i trzecia ustawić parametry wszystkim instancjom. Temat logowania wykracza poza ramy tych zajęć. Więcej informacji można znaleźć pod adresem: https://docs.python.org/3.8/howto/logging-cookbook.html.\n",
    "\n",
    "## Bibliografia\n",
    "\n",
    "https://docs.python.org/3.8/library/pprint.html\n",
    "Brett Slatkin, _Effective Python: 90 Specific Ways to Write Better Python, 2nd Edition_, Addison-Wesley Professional, ISBN: 9780134854717\n",
    "Advanced Python 3 Programming Techniques, Addison-Wesley Professional, ISBN: 9780321635518\n",
    "\n",
    "## Zadania do wykonania\n",
    "\n",
    "### Zadanie 1\n",
    "\n",
    "Prześledź szybkość dodawania elementów do tablicy.\n",
    "\n",
    "### Zadanie 2\n",
    "\n",
    "Stwórz kalkulator do obliczenia aktualnej godziny w konkretnej strefie czasowej. Do zadania wystarczy utworzyć słownik z przesunięciami czasowymi z i od _UTC_.\n",
    "\n",
    "### Zadanie 3\n",
    "\n",
    "Zmodyfikuj kod związany z losowaniem liczb z przedziału od 1 do 10, tak aby obliczał przybliżoną wartość oczekiwaną obliczoną jako średnią (z prób). Uśrednienie ma nastąpić 1m razy (milion razy).\n",
    "\n",
    "### Zadanie 4\n",
    "\n",
    "Napisz algorytm obliczający kolejne liczby pierwsze dla zadanych wartości.\n",
    "\n",
    "### Zadanie 5\n",
    "\n",
    "Napisz program wyznaczający ciąg _Fibonacciego_ dla 93 elementu (lub 93 iteracji) w najszybszym możliwym czasie.\n",
    "\n",
    "### Zadanie 6\n",
    "\n",
    "Napisz program, który wyznacza odległość Levenshteina dla dwóch zadanych łańcuchów znaków."
   ]
  },
  {
   "cell_type": "markdown",
   "metadata": {},
   "source": [
    "### Zadanie 1"
   ]
  },
  {
   "cell_type": "code",
   "execution_count": 8,
   "metadata": {},
   "outputs": [
    {
     "name": "stdout",
     "output_type": "stream",
     "text": [
      "1.5999999050109182e-06 seconds to add single element to array\n",
      "0.0015999999050109182 miliseconds to add single element to array\n",
      "1.5999999050109182 nanoseconds to add single element to array\n",
      "1599.9999050109182 pikoseconds to add single element to array\n"
     ]
    }
   ],
   "source": [
    "import timeit\n",
    "\n",
    "def function_to_count():\n",
    "    return [].append(123)\n",
    "    \n",
    "time_in_seconds = timeit.timeit(function_to_count, number=1)\n",
    "\n",
    "print(f'{time_in_seconds} seconds to add single element to array')\n",
    "print(f'{time_in_seconds * 10**3 } miliseconds to add single element to array')\n",
    "print(f'{time_in_seconds * 10**6 } nanoseconds to add single element to array')\n",
    "print(f'{time_in_seconds * 10**9 } pikoseconds to add single element to array')"
   ]
  },
  {
   "cell_type": "markdown",
   "metadata": {},
   "source": [
    "### Zadanie 2"
   ]
  },
  {
   "cell_type": "code",
   "execution_count": 7,
   "metadata": {},
   "outputs": [
    {
     "name": "stdout",
     "output_type": "stream",
     "text": [
      "Current date (UTC): 2020-10-25 12:43:06.636864\n",
      "Hour in timezone UTC-12 is 2020-10-25 00:43:06.636864\n",
      "Hour in timezone UTC-11 is 2020-10-25 01:43:06.636864\n",
      "Hour in timezone UTC-10 is 2020-10-25 02:43:06.636864\n",
      "Hour in timezone UTC-9 is 2020-10-25 03:43:06.636864\n",
      "Hour in timezone UTC-8 is 2020-10-25 04:43:06.636864\n",
      "Hour in timezone UTC-7 is 2020-10-25 05:43:06.636864\n",
      "Hour in timezone UTC-6 is 2020-10-25 06:43:06.636864\n",
      "Hour in timezone UTC-5 is 2020-10-25 07:43:06.636864\n",
      "Hour in timezone UTC-4 is 2020-10-25 08:43:06.636864\n",
      "Hour in timezone UTC-3 is 2020-10-25 09:43:06.636864\n",
      "Hour in timezone UTC-2 is 2020-10-25 10:43:06.636864\n",
      "Hour in timezone UTC-1 is 2020-10-25 11:43:06.636864\n",
      "Hour in timezone UTC0 is 2020-10-25 12:43:06.636864\n",
      "Hour in timezone UTC1 is 2020-10-25 13:43:06.636864\n",
      "Hour in timezone UTC2 is 2020-10-25 14:43:06.636864\n",
      "Hour in timezone UTC3 is 2020-10-25 15:43:06.636864\n",
      "Hour in timezone UTC4 is 2020-10-25 16:43:06.636864\n",
      "Hour in timezone UTC5 is 2020-10-25 17:43:06.636864\n",
      "Hour in timezone UTC6 is 2020-10-25 18:43:06.636864\n",
      "Hour in timezone UTC7 is 2020-10-25 19:43:06.636864\n",
      "Hour in timezone UTC8 is 2020-10-25 20:43:06.636864\n",
      "Hour in timezone UTC9 is 2020-10-25 21:43:06.636864\n",
      "Hour in timezone UTC10 is 2020-10-25 22:43:06.636864\n",
      "Hour in timezone UTC11 is 2020-10-25 23:43:06.636864\n"
     ]
    }
   ],
   "source": [
    "from datetime import datetime, timedelta\n",
    "\n",
    "timezone_dictionary = {}\n",
    "current_date_utc = datetime.utcnow()\n",
    "print(f'Current date (UTC): {current_date_utc}')\n",
    "\n",
    "for i in range (-12,12):\n",
    "    timezone_dictionary[f'UTC{i}'] = i  \n",
    "\n",
    "for timezone in timezone_dictionary:\n",
    "    hour_in_destination_zone = current_date_utc + timedelta(hours=timezone_dictionary[timezone])\n",
    "    print(f'Hour in timezone {timezone} is {hour_in_destination_zone}')"
   ]
  },
  {
   "cell_type": "markdown",
   "metadata": {},
   "source": [
    "### Zadanie 3"
   ]
  },
  {
   "cell_type": "code",
   "execution_count": 7,
   "metadata": {},
   "outputs": [
    {
     "name": "stdout",
     "output_type": "stream",
     "text": [
      "Average value is: 5\n"
     ]
    }
   ],
   "source": [
    "from numpy import random\n",
    "from statistics import mean\n",
    "\n",
    "def average():\n",
    "    array = random.randint(1, 11, size=1000000)\n",
    "    avg = mean(array)\n",
    "    print(f'Average value is: {avg}')\n",
    "\n",
    "\n",
    "average()"
   ]
  },
  {
   "cell_type": "markdown",
   "metadata": {},
   "source": [
    "### Zadanie 4"
   ]
  },
  {
   "cell_type": "code",
   "execution_count": 9,
   "metadata": {},
   "outputs": [
    {
     "name": "stdout",
     "output_type": "stream",
     "text": [
      "[127, 131, 137, 139, 149, 151, 157, 163, 167, 173, 179, 181, 191, 193, 197, 199]\n"
     ]
    }
   ],
   "source": [
    "def prime_numbers(start, number):\n",
    "    array = []\n",
    "\n",
    "    for i in range(start, number + 1):\n",
    "        if(i==1):\n",
    "            is_prime = False\n",
    "        else:\n",
    "            is_prime = True\n",
    "        for j in range(2, i):\n",
    "            if (i % j == 0):\n",
    "                is_prime = False\n",
    "        if is_prime:\n",
    "            array.append(i)\n",
    "    print(array)\n",
    "\n",
    "prime_numbers(123,199)\n"
   ]
  },
  {
   "cell_type": "markdown",
   "metadata": {},
   "source": [
    "### Zadanie 5"
   ]
  },
  {
   "cell_type": "code",
   "execution_count": null,
   "metadata": {},
   "outputs": [],
   "source": [
    "\"\"\"def fibonacci(n):\n",
    "    if n < 0:\n",
    "        print(\"Incorrect input\")\n",
    "    elif n == 0:\n",
    "        return 0\n",
    "    elif n == 1:\n",
    "        return 1\n",
    "    else:\n",
    "        return fibonacci(n - 1) + fibonacci(n - 2)\n",
    "\n",
    "\n",
    "print(fibonacci(93))\"\"\"\n",
    "\n",
    "\n",
    "\n",
    "def fibonacci(n):\n",
    "    fib = [1, 1]\n",
    "    if n == 1:\n",
    "        return 1\n",
    "    if n == 2:\n",
    "        return 1\n",
    "    else:\n",
    "        for i in range(2, n):\n",
    "            fib.append(fib[-1] + fib[-2])\n",
    "        return fib[len(fib)-1]\n",
    "\n",
    "print(fibonacci(1)) \n",
    "print(fibonacci(2)) \n",
    "print(fibonacci(93))\n"
   ]
  },
  {
   "cell_type": "markdown",
   "metadata": {},
   "source": [
    "### Zadanie 6"
   ]
  },
  {
   "cell_type": "code",
   "execution_count": 23,
   "metadata": {},
   "outputs": [
    {
     "name": "stdout",
     "output_type": "stream",
     "text": [
      "[[0. 1. 2. 3.]\n",
      " [1. 0. 1. 2.]\n",
      " [2. 1. 1. 2.]\n",
      " [3. 2. 2. 2.]\n",
      " [4. 3. 3. 3.]\n",
      " [5. 4. 4. 4.]\n",
      " [6. 5. 5. 4.]]\n"
     ]
    },
    {
     "data": {
      "text/plain": [
       "4.0"
      ]
     },
     "execution_count": 23,
     "metadata": {},
     "output_type": "execute_result"
    }
   ],
   "source": [
    "import numpy\n",
    "\n",
    "def levenshtein(str1, str2):\n",
    "    size_x = len(str1) + 1\n",
    "    size_y = len(str2) + 1\n",
    "    matrix = numpy.zeros ((size_x, size_y))\n",
    "    for x in range(size_x):\n",
    "        matrix [x, 0] = x\n",
    "    for y in range(size_y):\n",
    "        matrix [0, y] = y\n",
    "\n",
    "    for x in range(1, size_x):\n",
    "        for y in range(1, size_y):\n",
    "            if str1[x-1] == str2[y-1]:\n",
    "                matrix [x,y] = min(\n",
    "                    matrix[x-1, y] + 1,\n",
    "                    matrix[x-1, y-1],\n",
    "                    matrix[x, y-1] + 1\n",
    "                )\n",
    "            else:\n",
    "                matrix [x,y] = min(\n",
    "                    matrix[x-1,y] + 1,\n",
    "                    matrix[x-1,y-1] + 1,\n",
    "                    matrix[x,y-1] + 1\n",
    "                )\n",
    "    print (matrix)\n",
    "    return (matrix[size_x - 1, size_y - 1])\n",
    "\n",
    "levenshtein('axxxdc', 'abc')"
   ]
  }
 ],
 "metadata": {
  "kernelspec": {
   "display_name": "Python 3",
   "language": "python",
   "name": "python3"
  },
  "language_info": {
   "codemirror_mode": {
    "name": "ipython",
    "version": 3
   },
   "file_extension": ".py",
   "mimetype": "text/x-python",
   "name": "python",
   "nbconvert_exporter": "python",
   "pygments_lexer": "ipython3",
   "version": "3.8.3"
  }
 },
 "nbformat": 4,
 "nbformat_minor": 1
}
